{
 "cells": [
  {
   "cell_type": "markdown",
   "metadata": {},
   "source": [
    "![regular expressions](./images/cover.png)\n",
    "# <a id='toc1_'></a>[Regular Expressions with Python](#toc0_)"
   ]
  },
  {
   "cell_type": "markdown",
   "metadata": {},
   "source": [
    "**Table of contents**<a id='toc0_'></a>    \n",
    "- [Regular Expressions with Python](#toc1_)    \n",
    "  - [What are Regular Expressions](#toc1_1_)    \n",
    "  - [GREP](#toc1_2_)    \n",
    "  - [Regular Expressions in Python | The \"re\" library](#toc1_3_)    \n",
    "  - [Notation in RegEx](#toc1_4_)    \n",
    "    - [Special characters](#toc1_4_1_)    \n",
    "    - [Raw Strings](#toc1_4_2_)    \n",
    "  - [Basic functions](#toc1_5_)    \n",
    "    - [Defining a working string](#toc1_5_1_)    \n",
    "    - [re.search( ) and re.findall( ) | Search anywhere](#toc1_5_2_)    \n",
    "    - [re.match( ) | Search the beginning of the string](#toc1_5_3_)    \n",
    "    - [re.fullmatch ( ) | Checks if the entire string is a match for the regex](#toc1_5_4_)    \n",
    "    - [re.split( ) | Splits the string using the regex as a separator](#toc1_5_5_)    \n",
    "    - [re.compile( ) | Create a compiled regex object](#toc1_5_6_)    \n",
    "    - [re.sub( ) | Replace strings (substitute)](#toc1_5_7_)    \n",
    "      - [Match ReGex and replace with literal strings](#toc1_5_7_1_)    \n",
    "      - [Match ReGex and replace with another ReGex](#toc1_5_7_2_)    \n",
    "  - [The \"Match\" Object](#toc1_6_)    \n",
    "  - [Regex Syntax](#toc1_7_)    \n",
    "    - [Find a match at the start of a string (^) & re.MULTILINE](#toc1_7_1_)    \n",
    "    - [Find a match at the end of a string ($)](#toc1_7_2_)    \n",
    "    - [Ignore the letter case | re.IGNORECASE](#toc1_7_3_)    \n",
    "    - [Match any character with a wildcard (.) except newline (\\n) or empty string (\"\")](#toc1_7_4_)    \n",
    "    - [Using repetition ({ } + *)](#toc1_7_5_)    \n",
    "    - [Match any variant in a set ([ ])](#toc1_7_6_)    \n",
    "    - [Character Classes ([0-9], \\d, [A-z], \\w, etc.)](#toc1_7_7_)    \n",
    "    - [Negation of a set [^ ]](#toc1_7_8_)    \n",
    "    - [Logical OR ```|```](#toc1_7_9_)    \n",
    "  - [Capturing Groups ```( )```](#toc1_8_)    \n",
    "  - [Applying RegEx to Logs](#toc1_9_)    \n",
    "    - [About the Data](#toc1_9_1_)    \n",
    "    - [Checking out the data](#toc1_9_2_)    \n",
    "\n",
    "<!-- vscode-jupyter-toc-config\n",
    "\tnumbering=false\n",
    "\tanchor=true\n",
    "\tflat=false\n",
    "\tminLevel=1\n",
    "\tmaxLevel=6\n",
    "\t/vscode-jupyter-toc-config -->\n",
    "<!-- THIS CELL WILL BE REPLACED ON TOC UPDATE. DO NOT WRITE YOUR TEXT IN THIS CELL -->"
   ]
  },
  {
   "cell_type": "markdown",
   "metadata": {},
   "source": []
  },
  {
   "cell_type": "markdown",
   "metadata": {},
   "source": [
    "## <a id='toc1_1_'></a>[What are Regular Expressions](#toc0_)\n",
    "\n",
    "A **regular expression**, or RegEx / regex, is a pattern of characters which is passed onto an engine that interprets this pattern and searches for it in a text. For example, suppose you have a log of residential addresses and you want to extract the postal code from each one of them. RegEx offers the possibility to search not only for an exact sequence of characters, like \"_W1S 4DZ_\", but something more generelizable that represents variations of the a sequence, or pattern such as:\n",
    "\n",
    ">\"_three alphanumerical characters, followed by a space, followed by one digit and two letters_\".\n",
    "\n",
    "which, as you will see, can be written as:\n",
    "\n",
    ">```[A-Z0-9]{3}\\s\\d\\w{2}```"
   ]
  },
  {
   "cell_type": "markdown",
   "metadata": {},
   "source": [
    "## <a id='toc1_2_'></a>[GREP](#toc0_)\n",
    "\n",
    "Most modern programming languages offer some form of functionality to handle regular expressions. The syntax is not exactly the same across the whole spectrum of languages, each language has it's own flavour, but common threads can be observed across different platforms. These common motifs have roots in the 1950s when regular expressions were first implemented in computing systems. Back then, the implementation of RegEx in UNIX systems gave rise to the tool we now know as \"**GREP**\" which stands for \"_**G**lobal search for **R**egular **E**xpression and **P**rint matching lines_\".\n",
    "\n",
    "Nowadays the tool \"grep\" is available directly from Linux-based command-line terminal and does exactly what the GREP accronym suggests:\n",
    "\n",
    ">it looks globally across a text-based file, and returns the lines where the input character pattern is found.\n",
    "\n",
    "To call the GREP functionality you may use the bash syntax:\n",
    "\n",
    "```console\n",
    "grep [-<flag>] <regular_expression> <filename.ext>\n",
    "```\n",
    "\n",
    "Have a look at the example below:\n",
    "\n",
    "![grep](./images/grep.png)"
   ]
  },
  {
   "cell_type": "markdown",
   "metadata": {},
   "source": [
    "The file ```textfile.txt``` has four sentences. Among the words, it is possible to identify in sentences 1 and 3 a reference to an address in the UK containing a postal code formed by two groups of alphanumeric characters. We then see two possible implementations of a search query using different notations, that return the same result.\n",
    "The result is the whole sentence returned with the match sequence highlighted."
   ]
  },
  {
   "cell_type": "markdown",
   "metadata": {},
   "source": [
    "## <a id='toc1_3_'></a>[Regular Expressions in Python | The \"re\" library](#toc0_)\n",
    "\n",
    "The Python [\"re\" library](https://docs.python.org/3/library/re.html) allows you to access the engine for regular expression matching.\n",
    "Out of the several functions available in the module, some particularly important are:\n",
    "- ```re.search(<regular_expression>, <string>)``` which returns the first found match in the input string\n",
    "- ```re.findall(<regular_expression>, <string>)``` which return all the found matches in the input string\n",
    "- ```re.split(<regular_expression>, <string>)``` which splits the string where matches in the string are found.\n",
    "- ```re.sub(<regular_expression>, <replacement_expression>, <string>)``` which replaces elements of the string\n",
    "\n",
    "## <a id='toc1_4_'></a>[Notation in RegEx](#toc0_)\n",
    "\n",
    "### <a id='toc1_4_1_'></a>[Special characters](#toc0_)\n",
    "\n",
    "Some characters have a special meaning in the context of ReGex and when used in the search pattern they can be incorrectly interpreted by the regex engine. These special characters are non-alphanumeric and include parenthesis (), curly braces {}, asterisk *, the dot or period mark ., the plus sign +, the dollar sign $ or the circumflex diacritic ^, among others. When you literally mean these characters, it is required that you pass the escape character \\ (which in itself is a special character) next to special character you want to include in your search pattern.\n",
    "\n",
    "For example, suppose you were looking for the end of the sentences and therefore you look where the period mark lies. However, because the period is a special character, instead of \".\" your should write \"\\\\.\" in the search pattern.\n",
    "\n",
    "### <a id='toc1_4_2_'></a>[Raw Strings](#toc0_)\n",
    "Because of the undesired effects that escape characters can have in how the RegEx engines interpret the search pattern, it is highly advisable to **always** use RAW strings when specifying your search pattern. Even if this is not sctricly required, it is a good habit to do it always so that, for example, instead of\n",
    "```console\n",
    "search_pattern = \"<some_string>\"\n",
    "```\n",
    "include instead an **r** preceeding the pattern string:\n",
    "```console\n",
    "search_pattern = r\"<some_string>\"\n",
    "```"
   ]
  },
  {
   "cell_type": "markdown",
   "metadata": {},
   "source": [
    "## <a id='toc1_5_'></a>[Basic functions](#toc0_)\n",
    "\n",
    "### <a id='toc1_5_1_'></a>[Defining a working string](#toc0_)\n",
    "\n",
    "Let us create a string on which we can try to find character sequences and patterns."
   ]
  },
  {
   "cell_type": "code",
   "execution_count": 1,
   "metadata": {},
   "outputs": [
    {
     "name": "stdout",
     "output_type": "stream",
     "text": [
      "Pirates and sailors, together with songs of the sea are still a favourite theme among many.\n",
      "The excerpt below is from the sea shanty: \"Blow the Man Down\"\n",
      "\n",
      "> She was round in the counter and bluff in the bow,\n",
      "> Way aye blow the man down\n",
      "> So I took in all sail and cried, \"Way enough now.\"\n",
      "> Give me some time to blow the man down!\n",
      "\n",
      "According to https://en.wikipedia.org/wiki/Blow_the_Man_Down the earliest references to this\n",
      "song date from the 1860s, based on 1987 publication. According to http://www.ranker.com the song\n",
      "sits at #3 out the 12 as one of the most popular sea songs of all time.\n",
      "\n"
     ]
    }
   ],
   "source": [
    "# Prepare a string on which we can do regex matching\n",
    "string = \"\"\"Pirates and sailors, together with songs of the sea are still a favourite theme among many.\n",
    "The excerpt below is from the sea shanty: \"Blow the Man Down\"\n",
    "\n",
    "> She was round in the counter and bluff in the bow,\n",
    "> Way aye blow the man down\n",
    "> So I took in all sail and cried, \"Way enough now.\"\n",
    "> Give me some time to blow the man down!\n",
    "\n",
    "According to https://en.wikipedia.org/wiki/Blow_the_Man_Down the earliest references to this\n",
    "song date from the 1860s, based on 1987 publication. According to http://www.ranker.com the song\n",
    "sits at #3 out the 12 as one of the most popular sea songs of all time.\n",
    "\"\"\"\n",
    "\n",
    "print(string)"
   ]
  },
  {
   "cell_type": "markdown",
   "metadata": {},
   "source": [
    "### <a id='toc1_5_2_'></a>[re.search( ) and re.findall( ) | Search anywhere](#toc0_)\n",
    "\n",
    "Let's get to know the functions in the \"**re**\" library by trying to find exact sequences of letters, such as _\"http\"_."
   ]
  },
  {
   "cell_type": "code",
   "execution_count": 2,
   "metadata": {},
   "outputs": [
    {
     "name": "stdout",
     "output_type": "stream",
     "text": [
      "Output from re.search:  <re.Match object; span=(345, 349), match='http'>\n",
      "Output from re.findall:  ['http', 'http']\n"
     ]
    }
   ],
   "source": [
    "import re\n",
    "\n",
    "regex = r\"http\"      #note the initial \"r\" declaration\n",
    "print(\"Output from re.search: \", re.search(regex,string))\n",
    "print(\"Output from re.findall: \", re.findall(regex,string))\n",
    "\n",
    "#Note that:\n",
    "#  the re.search function returns a match object refering to the first match\n",
    "#  the re.findall outputs a list of all objects found."
   ]
  },
  {
   "cell_type": "code",
   "execution_count": 3,
   "metadata": {},
   "outputs": [],
   "source": [
    "# Make a function that emulates grep, and returns the line where matches are found\n",
    "\n",
    "def get_line(reg_exp:str, string:str):\n",
    "    '''Takes a user-defined regular expression and passes it through the input string.\n",
    "    it returns all lines where matching occurs.\n",
    "    If no matches are found it returns an empty list.\n",
    "    '''\n",
    "    input_txt = string.split(\"\\n\")\n",
    "    out_lst = []\n",
    "\n",
    "    for line in input_txt:\n",
    "        result = re.search(reg_exp,line)\n",
    "        if result is not None:\n",
    "            out_lst +=[line]\n",
    "\n",
    "    return out_lst"
   ]
  },
  {
   "cell_type": "code",
   "execution_count": 4,
   "metadata": {},
   "outputs": [
    {
     "data": {
      "text/plain": [
       "['According to https://en.wikipedia.org/wiki/Blow_the_Man_Down the earliest references to this',\n",
       " 'song date from the 1860s, based on 1987 publication. According to http://www.ranker.com the song']"
      ]
     },
     "execution_count": 4,
     "metadata": {},
     "output_type": "execute_result"
    }
   ],
   "source": [
    "get_line(regex,string)\n",
    "#Note that the ouput confirms the presence of \"http\" anywhere in the lines."
   ]
  },
  {
   "cell_type": "markdown",
   "metadata": {},
   "source": [
    "### <a id='toc1_5_3_'></a>[re.match( ) | Search the beginning of the string](#toc0_)"
   ]
  },
  {
   "cell_type": "code",
   "execution_count": 5,
   "metadata": {},
   "outputs": [
    {
     "name": "stdout",
     "output_type": "stream",
     "text": [
      "Output from re.match:  None\n"
     ]
    }
   ],
   "source": [
    "print(\"Output from re.match: \", re.match(regex, string))\n",
    "# re.match only searches at the begning of the string so the output here is \"None\""
   ]
  },
  {
   "cell_type": "code",
   "execution_count": 6,
   "metadata": {},
   "outputs": [
    {
     "name": "stdout",
     "output_type": "stream",
     "text": [
      "Output from re.match:  <re.Match object; span=(0, 7), match='Pirates'>\n"
     ]
    }
   ],
   "source": [
    "# change the regex expression to have a match.\n",
    "print(\"Output from re.match: \", re.match(\"Pirates\", string))"
   ]
  },
  {
   "cell_type": "markdown",
   "metadata": {},
   "source": [
    "### <a id='toc1_5_4_'></a>[re.fullmatch ( ) | Checks if the entire string is a match for the regex](#toc0_)"
   ]
  },
  {
   "cell_type": "code",
   "execution_count": 7,
   "metadata": {},
   "outputs": [
    {
     "name": "stdout",
     "output_type": "stream",
     "text": [
      "Output from re.fullmatch:  None\n"
     ]
    }
   ],
   "source": [
    "print(\"Output from re.fullmatch: \", re.fullmatch(regex, string))\n",
    "# the sequence \"http\" is a part of the string, and therefore does not matches the entire string, so the output is None"
   ]
  },
  {
   "cell_type": "code",
   "execution_count": 8,
   "metadata": {},
   "outputs": [
    {
     "name": "stdout",
     "output_type": "stream",
     "text": [
      "Output from re.fullmatch:  <re.Match object; span=(0, 7), match='Pirates'>\n"
     ]
    }
   ],
   "source": [
    "# change the regex expression and the input string to have a fullmatch.\n",
    "print(\"Output from re.fullmatch: \", re.fullmatch(r\"P[a-z]*s\", \"Pirates\"))"
   ]
  },
  {
   "cell_type": "markdown",
   "metadata": {},
   "source": [
    "### <a id='toc1_5_5_'></a>[re.split( ) | Splits the string using the regex as a separator](#toc0_)"
   ]
  },
  {
   "cell_type": "code",
   "execution_count": 9,
   "metadata": {},
   "outputs": [
    {
     "data": {
      "text/plain": [
       "['Pirates and sailors, together with songs of the sea are still a favourite theme among many.\\nThe excerpt below is from the sea shanty: \"Blow the Man Down\"\\n\\n> She was round in the counter and bluff in the bow,\\n> Way aye blow the man down\\n> So I took in all sail and cried, \"Way enough now.\"\\n> Give me some time to blow the man down!\\n\\nAccording to ',\n",
       " 's://en.wikipedia.org/wiki/Blow_the_Man_Down the earliest references to this\\nsong date from the 1860s, based on 1987 publication. According to ',\n",
       " '://www.ranker.com the song\\nsits at #3 out the 12 as one of the most popular sea songs of all time.\\n']"
      ]
     },
     "execution_count": 9,
     "metadata": {},
     "output_type": "execute_result"
    }
   ],
   "source": [
    "re.split(regex,string)\n",
    "# Note that the output is a list of 3 elements.\n",
    "# the \"http\" sequence disappeared"
   ]
  },
  {
   "cell_type": "markdown",
   "metadata": {},
   "source": [
    "The re.split() function works very similarly to the str.split() method.\n",
    "The biggest difference is that:\n",
    "- the re.split() alows you to use regular expressions, whereas\n",
    "- the str.plit() you can only use literal characters present in the text - no expressions allowed."
   ]
  },
  {
   "cell_type": "code",
   "execution_count": 10,
   "metadata": {},
   "outputs": [
    {
     "data": {
      "text/plain": [
       "['Pirates and sailors, together with songs of the sea are still a favourite theme among many.',\n",
       " 'The excerpt below is from the sea shanty: \"Blow the Man Down\"',\n",
       " '',\n",
       " '> She was round in the counter and bluff in the bow,',\n",
       " '> Way aye blow the man down',\n",
       " '> So I took in all sail and cried, \"Way enough now.\"',\n",
       " '> Give me some time to blow the man down!',\n",
       " '',\n",
       " 'According to https://en.wikipedia.org/wiki/Blow_the_Man_Down the earliest references to this',\n",
       " 'song date from the 1860s, based on 1987 publication. According to http://www.ranker.com the song',\n",
       " 'sits at #3 out the 12 as one of the most popular sea songs of all time.',\n",
       " '']"
      ]
     },
     "execution_count": 10,
     "metadata": {},
     "output_type": "execute_result"
    }
   ],
   "source": [
    "re.split(r\"\\n\",string)"
   ]
  },
  {
   "cell_type": "code",
   "execution_count": 11,
   "metadata": {},
   "outputs": [
    {
     "data": {
      "text/plain": [
       "['Pirates and sailors, together with songs of the sea are still a favourite theme among many.',\n",
       " 'The excerpt below is from the sea shanty: \"Blow the Man Down\"',\n",
       " '',\n",
       " '> She was round in the counter and bluff in the bow,',\n",
       " '> Way aye blow the man down',\n",
       " '> So I took in all sail and cried, \"Way enough now.\"',\n",
       " '> Give me some time to blow the man down!',\n",
       " '',\n",
       " 'According to https://en.wikipedia.org/wiki/Blow_the_Man_Down the earliest references to this',\n",
       " 'song date from the 1860s, based on 1987 publication. According to http://www.ranker.com the song',\n",
       " 'sits at #3 out the 12 as one of the most popular sea songs of all time.',\n",
       " '']"
      ]
     },
     "execution_count": 11,
     "metadata": {},
     "output_type": "execute_result"
    }
   ],
   "source": [
    "string.split(\"\\n\")"
   ]
  },
  {
   "cell_type": "markdown",
   "metadata": {},
   "source": [
    "### <a id='toc1_5_6_'></a>[re.compile( ) | Create a compiled regex object](#toc0_)\n",
    "\n",
    "When your ReGex is rather complex, and used many times over a script it can be useful to compile that expression first into an object that be reused multiple times in a script."
   ]
  },
  {
   "cell_type": "code",
   "execution_count": 12,
   "metadata": {},
   "outputs": [
    {
     "name": "stdout",
     "output_type": "stream",
     "text": [
      "Output from re.search:  <re.Match object; span=(345, 349), match='http'>\n",
      "Output from re.findall:  ['http', 'http']\n"
     ]
    }
   ],
   "source": [
    "regex_comp = re.compile(r\"HTTP\", re.IGNORECASE)\n",
    "\n",
    "print(\"Output from re.search: \",regex_comp.search(string))\n",
    "print(\"Output from re.findall: \",regex_comp.findall(string))"
   ]
  },
  {
   "cell_type": "code",
   "execution_count": 13,
   "metadata": {},
   "outputs": [
    {
     "name": "stdout",
     "output_type": "stream",
     "text": [
      "Output from re.search:  <re.Match object; span=(345, 349), match='http'>\n",
      "Output from re.findall:  ['http', 'http']\n"
     ]
    }
   ],
   "source": [
    "# Using the search of findall methods from the regex object is equivalent to\n",
    "# Passing regex_comp as a parameter of a re.search or re.findall functions.\n",
    "\n",
    "print(\"Output from re.search: \", re.search(regex_comp,string))\n",
    "print(\"Output from re.findall: \", re.findall(regex_comp,string))"
   ]
  },
  {
   "cell_type": "markdown",
   "metadata": {},
   "source": [
    "### <a id='toc1_5_7_'></a>[re.sub( ) | Replace strings (substitute)](#toc0_)\n",
    "\n",
    "#### <a id='toc1_5_7_1_'></a>[Match ReGex and replace with literal strings](#toc0_)"
   ]
  },
  {
   "cell_type": "code",
   "execution_count": 76,
   "metadata": {},
   "outputs": [
    {
     "name": "stdout",
     "output_type": "stream",
     "text": [
      "Output from re.search:  <re.Match object; span=(345, 512), match='https://en.wikipedia.org/wiki/Blow_the_Man_Down t>\n",
      "Output from re.findall:  [('https://en.wikipedia.org/wiki/Blow_the_Man_Down', ' the earliest references to this\\nsong date from the 1860s, based on 1987 publication. According to ', 'http://www.ranker.com')]\n",
      "\n",
      "Pirates and sailors, together with songs of the sea are still a favourite theme among many.\n",
      "The excerpt below is from the sea shanty: \"Blow the Man Down\"\n",
      "\n",
      "> She was round in the counter and bluff in the bow,\n",
      "> Way aye blow the man down\n",
      "> So I took in all sail and cried, \"Way enough now.\"\n",
      "> Give me some time to blow the man down!\n",
      "\n",
      "According to \"Wikipedia\" the earliest references to this\n",
      "song date from the 1860s, based on 1987 publication. According to \"Ranker\" the song\n",
      "sits at #3 out the 12 as one of the most popular sea songs of all time.\n",
      "\n"
     ]
    }
   ],
   "source": [
    "# Replace the URLs with the names of the websites.\n",
    "regex = r\"\"\"(htt[^\\s]+)(.*\\n*.*)(htt[^\\s]+)\"\"\"  # Match a start with \"htt\" followed by any character except spaces\n",
    "                                                # Followed by any character repeated before and after any possible new lines\n",
    "                                                # until a new \"http\" is found whih should include every possible character except space.\n",
    "\n",
    "\n",
    "print(\"Output from re.search: \", re.search(regex,string))\n",
    "print(\"Output from re.findall: \", re.findall(regex,string))\n",
    "print(\"\")\n",
    "repl = r'\"Wikipedia\"\\2\"Ranker\"'     # Keeps group 2 in the middle, but substitute groups 1 and 3 with literal strings.\n",
    "result = re.sub(regex,repl,string)\n",
    "print(result)\n",
    "re.purge()"
   ]
  },
  {
   "cell_type": "markdown",
   "metadata": {},
   "source": [
    "#### <a id='toc1_5_7_2_'></a>[Match ReGex and replace with another ReGex](#toc0_)"
   ]
  },
  {
   "cell_type": "code",
   "execution_count": 51,
   "metadata": {},
   "outputs": [
    {
     "name": "stdout",
     "output_type": "stream",
     "text": [
      "Output from re.search:  <re.Match object; span=(345, 512), match='https://en.wikipedia.org/wiki/Blow_the_Man_Down t>\n",
      "Output from re.findall:  [('https://en.wikipedia.org/wiki/Blow_the_Man_Down', ' the earliest references to this\\nsong date from the 1860s, based on 1987 publication. According to ', 'http://www.ranker.com')]\n",
      "\n",
      "Pirates and sailors, together with songs of the sea are still a favourite theme among many.\n",
      "The excerpt below is from the sea shanty: \"Blow the Man Down\"\n",
      "\n",
      "> She was round in the counter and bluff in the bow,\n",
      "> Way aye blow the man down\n",
      "> So I took in all sail and cried, \"Way enough now.\"\n",
      "> Give me some time to blow the man down!\n",
      "\n",
      "According to http://www.ranker.com the earliest references to this\n",
      "song date from the 1860s, based on 1987 publication. According to https://en.wikipedia.org/wiki/Blow_the_Man_Down the song\n",
      "sits at #3 out the 12 as one of the most popular sea songs of all time.\n",
      "\n"
     ]
    }
   ],
   "source": [
    "# Exchange the position of the URLs in the text\n",
    "regex = r\"(htt[^\\s]+)(.*\\n.*)(htt[^\\s]+)\"\n",
    "print(\"Output from re.search: \", re.search(regex,string))\n",
    "print(\"Output from re.findall: \", re.findall(regex,string))\n",
    "print(\"\")\n",
    "result = re.sub(regex,r\"\\3\\2\\1\",string)\n",
    "print(result)\n",
    "re.purge()"
   ]
  },
  {
   "cell_type": "markdown",
   "metadata": {},
   "source": [
    "## <a id='toc1_6_'></a>[The \"Match\" Object](#toc0_)\n",
    "\n",
    "Some functions in the **re** library return a \"match\" object that encapsulates important parameters concerning a single match.\n",
    "\n",
    "Using indexing notation, it is possible to access the matched string and subgroups, e.g:\n",
    "- ```<match_object_name>[0]```returns the complete matched string\n",
    "- ```<match_object_name>[1]```returns the first group substring\n",
    "- ```<match_object_name>[2]```returns the second group substring\n",
    "- ```<match_object_name>[3]```returns the thrid group substring... and so on.\n",
    "\n",
    "These \"match\" objects have attributes which are important to know:\n",
    "- **re**: the regular expression object associated with a given match object.\n",
    "- **string**: the string that was searched.\n",
    "- **pos**: the index of the start of the searched substring.\n",
    "- **endpos**: the index of the end of the searched substring.\n",
    "- **lastindex**: the integer index of the last matched capturing group, or None if no group was matched.\n",
    "- **lastgroup**: the name of the last matched capturing group, or None if no group was matched.\n"
   ]
  },
  {
   "cell_type": "code",
   "execution_count": null,
   "metadata": {},
   "outputs": [],
   "source": [
    "pattern = r\"(\\w+) (\\d+)\"        # Match containing a group of letters followed by a group of digits.\n",
    "text = \"There are 42 apples in the basket\"\n",
    "match = re.search(pattern, text)\n",
    "\n",
    "print(\"re:\", match.re)\n",
    "print(\"string:\", match.string)\n",
    "print(\"pos:\", match.pos)\n",
    "print(\"endpos:\", match.endpos)\n",
    "print(\"lastindex:\", match.lastindex)\n",
    "print(\"lastgroup:\", match.lastgroup)\n",
    "print(\"--------------\")\n",
    "for i in range(match.lastindex+1):\n",
    "    print(\"match[\" + str(i) + \"] ->\", match[i])\n"
   ]
  },
  {
   "cell_type": "markdown",
   "metadata": {},
   "source": [
    "## <a id='toc1_7_'></a>[Regex Syntax](#toc0_)\n",
    "\n",
    "### <a id='toc1_7_1_'></a>[Find a match at the start of a string (^) & re.MULTILINE](#toc0_)"
   ]
  },
  {
   "cell_type": "code",
   "execution_count": null,
   "metadata": {},
   "outputs": [],
   "source": [
    "# The ^ character instructs that the pattern should be at the begining of the string\n",
    "regex = r\"^s\"   # match should be:\n",
    "                    # - present at the start of the string (^)\n",
    "                    # - start with the letter s (s)\n",
    "                    # - followed by any 4 character (.)\n",
    "                    # - repeated as many times as necessary (*)\n",
    "print(\"Output from re.search: \", re.search(regex,string))\n",
    "print(\"Output from re.findall: \", re.findall(regex,string))\n",
    "# Note:\n",
    "# The output is \"None\" because the string starts with the word: \"Pirates\"."
   ]
  },
  {
   "cell_type": "code",
   "execution_count": null,
   "metadata": {},
   "outputs": [],
   "source": [
    "# To enable each line to act as a string, pass re.MULTILINE as a parameter\n",
    "print(\"Output from re.search: \", re.search(regex,string,re.MULTILINE))\n",
    "print(\"Output from re.findall: \", re.findall(regex,string,re.MULTILINE))\n",
    "get_line(regex,string)\n",
    "\n",
    "# Note:\n",
    "# Notice how the get_line() function retried two lines that started with the letter s"
   ]
  },
  {
   "cell_type": "markdown",
   "metadata": {},
   "source": [
    "### <a id='toc1_7_2_'></a>[Find a match at the end of a string ($)](#toc0_)"
   ]
  },
  {
   "cell_type": "code",
   "execution_count": null,
   "metadata": {},
   "outputs": [],
   "source": [
    "regex = r\"time.$\"\n",
    "print(\"Output from re.search: \", re.search(regex,string))\n",
    "print(\"Output from re.findall: \", re.findall(regex,string))\n",
    "get_line(regex,string)\n"
   ]
  },
  {
   "cell_type": "markdown",
   "metadata": {},
   "source": [
    "### <a id='toc1_7_3_'></a>[Ignore the letter case | re.IGNORECASE](#toc0_)"
   ]
  },
  {
   "cell_type": "code",
   "execution_count": null,
   "metadata": {},
   "outputs": [],
   "source": [
    "regex = r\"DOWN\"\n",
    "print(\"Output from re.search: \", re.search(regex,string,re.IGNORECASE))\n",
    "print(\"Output from re.findall: \", re.findall(regex,string,re.IGNORECASE))"
   ]
  },
  {
   "cell_type": "markdown",
   "metadata": {},
   "source": [
    "### <a id='toc1_7_4_'></a>[Match any character with a wildcard (.) except newline (\\n) or empty string (\"\")](#toc0_)"
   ]
  },
  {
   "cell_type": "code",
   "execution_count": null,
   "metadata": {},
   "outputs": [],
   "source": [
    "regex = r\"s.... \" # match a t (t),followed by any two letters (..), followed by a space ( )\n",
    "print(\"Output from re.search: \", re.search(regex,string))\n",
    "print(\"Output from re.findall: \", re.findall(regex,string))\n",
    "get_line(regex, string)"
   ]
  },
  {
   "cell_type": "markdown",
   "metadata": {},
   "source": [
    "### <a id='toc1_7_5_'></a>[Using repetition ({ } + *)](#toc0_)\n",
    "Sometimes you may want to indicate that a given character, or character class, should repeat itself.\n",
    "Regex syntax offers three alternatives:\n",
    "- **{}** the precedding character can repeat within specific limits \n",
    "- **+** the preceeding character occurs at least once, and may or may not repeat itself.\n",
    "- __*__ the preceeding character may or may not occur, and may or may not repeat itself.\n",
    "\n",
    "When using limits, you can:\n",
    " - specify the exact number of repetions, e.g. {5}\n",
    " - specify a range, e.g. {5,10}\n",
    " - specify a maximum number of repetitions, e.g. {,10}, or\n",
    " - specify a minimum number of repetitions, e.g. {5,}\n"
   ]
  },
  {
   "cell_type": "code",
   "execution_count": null,
   "metadata": {},
   "outputs": [],
   "source": [
    "print(string)"
   ]
  },
  {
   "cell_type": "code",
   "execution_count": null,
   "metadata": {},
   "outputs": [],
   "source": [
    "regex = r\"sea.*\"              # matching string starts with an \"s\",\n",
    "                            # followed by any character (.),\n",
    "                            # repeated as many times until the next newline\n",
    "print(\"Output from re.search: \", re.search(regex,string))\n",
    "print(\"Output from re.findall: \", re.findall(regex,string))\n",
    "print(len(re.findall(regex,string)))"
   ]
  },
  {
   "cell_type": "code",
   "execution_count": null,
   "metadata": {},
   "outputs": [],
   "source": [
    "regex = r\"s.{4} \"           # matching string starts with an \"s\",\n",
    "                            # followed by any character (.),\n",
    "                            # repeated exactly 4 times ({4}), and\n",
    "                            # ends with a space\n",
    "print(\"Output from re.search: \", re.search(regex,string))\n",
    "print(\"Output from re.findall: \", re.findall(regex,string))\n",
    "print(len(re.findall(regex,string)))"
   ]
  },
  {
   "cell_type": "code",
   "execution_count": null,
   "metadata": {},
   "outputs": [],
   "source": [
    "regex = r\"s.{,4} \"          # matching string starts with an \"s\",\n",
    "                            # followed by any character (.),\n",
    "                            # repeated a maximum of 4 times ({,4}), and\n",
    "                            # ends with a space\n",
    "print(\"Output from re.search: \", re.search(regex,string))\n",
    "print(\"Output from re.findall: \", re.findall(regex,string))\n",
    "print(len(re.findall(regex,string)))"
   ]
  },
  {
   "cell_type": "code",
   "execution_count": null,
   "metadata": {},
   "outputs": [],
   "source": [
    "regex = r\"s.{4,} \"          # matching string starts with an \"s\",\n",
    "                            # followed by any character (.),\n",
    "                            # repeated a minumum of 4 times ({4,}), and\n",
    "                            # ends with a space\n",
    "print(\"Output from re.search: \", re.search(regex,string))\n",
    "print(\"Output from re.findall: \", re.findall(regex,string))\n",
    "print(len(re.findall(regex,string)))"
   ]
  },
  {
   "cell_type": "code",
   "execution_count": null,
   "metadata": {},
   "outputs": [],
   "source": [
    "regex = r\"s[ea]*\"          # matching string starts with \"s\",\n",
    "                           # followed by an optional \"e\" or \"a\", repeating until a newline character\n",
    "print(\"Output from re.search: \", re.search(regex,string))\n",
    "print(\"Output from re.findall: \", re.findall(regex,string))\n",
    "print(len(re.findall(regex,string)))\n",
    "\n",
    "# Note:\n",
    "# With the * sign, the possible solutions include:\n",
    "# - \"sea \" (only one space, no repetition of the white space),\n",
    "# - \"sea  \" (one white space and one repetition of the white space),\n",
    "# - \"sea   \" (one white space and two repetitions of the white space)... etc."
   ]
  },
  {
   "cell_type": "code",
   "execution_count": null,
   "metadata": {},
   "outputs": [],
   "source": [
    "regex = r\"s[ea]+\"          # matching string starts with an \"s\",\n",
    "                           # followed by an obligatory \"e\" or \"a\", repeating until a newline character\n",
    "print(\"Output from re.search: \", re.search(regex,string))\n",
    "print(\"Output from re.findall: \", re.findall(regex,string))\n",
    "print(len(re.findall(regex,string)))\n",
    "\n",
    "# Note:\n",
    "# With the + sign the conditions of at least one repetition of the \"white space\" is forced.\n",
    "# , the only possible solutions would require two or more spaces after the word \"sea\".\n",
    "# Since in the text there are no instances of \"sea\" followed by two or more spaces, the output is None."
   ]
  },
  {
   "cell_type": "markdown",
   "metadata": {},
   "source": [
    "### <a id='toc1_7_6_'></a>[Match any variant in a set ([ ])](#toc0_) [&#8593;](#toc0_)"
   ]
  },
  {
   "cell_type": "code",
   "execution_count": null,
   "metadata": {},
   "outputs": [],
   "source": [
    "# Specifying case independence for a particular character in the pattern\n",
    "regex = r\"[Dd]own\"       # Match either \"Down\" or \"down\"\n",
    "print(\"Output from re.search: \", re.search(regex,string))\n",
    "print(\"Output from re.findall: \", re.findall(regex,string))\n",
    "get_line(regex, string)"
   ]
  },
  {
   "cell_type": "code",
   "execution_count": null,
   "metadata": {},
   "outputs": [],
   "source": [
    "# Beyond different letter cases, different characters\n",
    "regex = r\"s[aeo].{3}\"       # MAtch starts with an \"s\", folowed by \"a\",\"e\" or \"o\", folowed by any character 3 times.\n",
    "print(\"Output from re.search: \", re.search(regex,string))\n",
    "print(\"Output from re.findall: \", re.findall(regex,string))\n",
    "get_line(regex, string)"
   ]
  },
  {
   "cell_type": "markdown",
   "metadata": {},
   "source": [
    "### <a id='toc1_7_7_'></a>[Character Classes ([0-9], \\d, [A-z], \\w, etc.)](#toc0_) [&#8593;](#toc0_)"
   ]
  },
  {
   "cell_type": "markdown",
   "metadata": {},
   "source": [
    "Characters can be divided into classes, such as:\n",
    "- matches ranges of digits: ```[0-9]```, ```[1-4]```, etc.\n",
    "- matches letters: ```[a-z]```,```[A-Z]```, ```[A-Za-z]``` or ```[A-z]```, and whatever range ```[B-D]```\n",
    "- matches a combination of letters and digits: ```[A-Z0-9]```, ```[A-z0-9]```, ```[a-z0-9]```\n",
    "- matches white spaces ```\\s``` and non-white spaces ```\\S```\n",
    "- matches word characters ```\\w``` and non-word characters ```\\W```\n",
    "- matches unions of subsets: ```[a-cx-z]``` or ```[a-c[x-z]]```\n"
   ]
  },
  {
   "cell_type": "code",
   "execution_count": null,
   "metadata": {},
   "outputs": [],
   "source": [
    "regex = r\"\\d{4}\"        # Four digits\n",
    "print(\"Output from re.search: \", re.search(regex,string))\n",
    "print(\"Output from re.findall: \", re.findall(regex,string))\n",
    "get_line(regex, string)"
   ]
  },
  {
   "cell_type": "code",
   "execution_count": null,
   "metadata": {},
   "outputs": [],
   "source": [
    "regex = r\"\\d{3}[0-2]\"        # Three digits, terminating in either 0,1 or 2\n",
    "print(\"Output from re.search: \", re.search(regex,string))\n",
    "print(\"Output from re.findall: \", re.findall(regex,string))\n",
    "get_line(regex, string)"
   ]
  },
  {
   "cell_type": "code",
   "execution_count": null,
   "metadata": {},
   "outputs": [],
   "source": [
    "regex = r\"[A-z0-9]{4}s\" \t# Four alphanumeric characters terminating with an \"s\"\n",
    "print(\"Output from re.search: \", re.search(regex,string))\n",
    "print(\"Output from re.findall: \", re.findall(regex,string))\n",
    "get_line(regex, string)"
   ]
  },
  {
   "cell_type": "code",
   "execution_count": null,
   "metadata": {},
   "outputs": [],
   "source": [
    "regex = r\"\\W{3}\"    # Three consecutive non-word characters\n",
    "print(\"Output from re.search: \", re.search(regex,string))\n",
    "print(\"Output from re.findall: \", re.findall(regex,string))\n",
    "get_line(regex, string)"
   ]
  },
  {
   "cell_type": "code",
   "execution_count": null,
   "metadata": {},
   "outputs": [],
   "source": [
    "regex = r\"[h-lp-t]{4,5}\"    # a set of 4 to 5 letters between h and l or between p and t\n",
    "print(\"Output from re.search: \", re.search(regex,string))\n",
    "print(\"Output from re.findall: \", re.findall(regex,string))\n",
    "get_line(regex, string)"
   ]
  },
  {
   "cell_type": "markdown",
   "metadata": {},
   "source": [
    "### <a id='toc1_7_8_'></a>[Negation of a set [^ ]](#toc0_) [&#8593;](#toc0_)"
   ]
  },
  {
   "cell_type": "code",
   "execution_count": null,
   "metadata": {},
   "outputs": [],
   "source": [
    "regex = r\"http[^s]\"        # Negating the presence of a an \"s\" after \"http\"\n",
    "print(\"Output from re.search: \", re.search(regex,string))\n",
    "print(\"Output from re.findall: \", re.findall(regex,string))\n",
    "get_line(regex, string)"
   ]
  },
  {
   "cell_type": "code",
   "execution_count": null,
   "metadata": {},
   "outputs": [],
   "source": [
    "regex = r\"\\d{4}[^\\s]\"        # Negating the presence of a \"space\" after any sequence of four digits\n",
    "print(\"Output from re.search: \", re.search(regex,string))\n",
    "print(\"Output from re.findall: \", re.findall(regex,string))\n",
    "get_line(regex, string)\n",
    "# Note:\n",
    "# Notice how 1860 and 1987 are referenced in the same sentence.\n",
    "# However, notice how 1987 is followed by a space, whereas 1860 is followed by the letter \"s\"\n",
    "# Only \"1860s\" is a match, because the query rejects the presence of a space after four digits."
   ]
  },
  {
   "cell_type": "code",
   "execution_count": null,
   "metadata": {},
   "outputs": [],
   "source": [
    "# Recall that ^ serves also as a anchor to the start of a string/line\n",
    "regex = r\"^\\W [A-z]\"        # Sentences that start with a non-word character,\n",
    "                            # followed by a space\n",
    "                            # followed by a letter\n",
    "                            \n",
    "print(\"Output from re.search: \", re.search(regex,string, re.MULTILINE))\n",
    "print(\"Output from re.findall: \", re.findall(regex,string, re.MULTILINE))\n",
    "get_line(regex, string)"
   ]
  },
  {
   "cell_type": "code",
   "execution_count": null,
   "metadata": {},
   "outputs": [],
   "source": [
    "# But the meaning of NEAGATION comes only together with the square-brackets\n",
    "regex = r\"^\\W [A-z][^a-h]\"          # Sentences that start with a non-word character,\n",
    "                                    # followed by a space\n",
    "                                    # followed by a letter\n",
    "                                    # followed by any character which is not in the interval [a-h]\n",
    "print(\"Output from re.search: \", re.search(regex,string, re.MULTILINE))\n",
    "print(\"Output from re.findall: \", re.findall(regex,string, re.MULTILINE))\n",
    "get_line(regex, string)"
   ]
  },
  {
   "cell_type": "markdown",
   "metadata": {},
   "source": [
    "### <a id='toc1_7_9_'></a>[Logical OR ```|```](#toc0_)\n"
   ]
  },
  {
   "cell_type": "code",
   "execution_count": null,
   "metadata": {},
   "outputs": [],
   "source": [
    "regex = r\"[a-z]+\\.|[0-9]+\"        # a set of letters followed by a period mark OR a set of digits\n",
    "print(\"Output from re.search: \", re.search(regex,string, re.MULTILINE))\n",
    "print(\"Output from re.findall: \", re.findall(regex,string, re.MULTILINE))\n",
    "get_line(regex, string)"
   ]
  },
  {
   "cell_type": "markdown",
   "metadata": {},
   "source": [
    "## <a id='toc1_8_'></a>[Capturing Groups ```( )```](#toc0_)"
   ]
  },
  {
   "cell_type": "code",
   "execution_count": 77,
   "metadata": {},
   "outputs": [
    {
     "name": "stdout",
     "output_type": "stream",
     "text": [
      "<re.Match object; span=(0, 13), match='Lovelace, Ada'>\n"
     ]
    }
   ],
   "source": [
    "string = \"Lovelace, Ada\"\n",
    "regex = r\"^(\\w*), (\\w*)$\"\n",
    "result = re.search(regex,string)\n",
    "print(result)"
   ]
  },
  {
   "cell_type": "code",
   "execution_count": 78,
   "metadata": {},
   "outputs": [
    {
     "data": {
      "text/plain": [
       "('Lovelace', 'Ada')"
      ]
     },
     "execution_count": 78,
     "metadata": {},
     "output_type": "execute_result"
    }
   ],
   "source": [
    "result.groups()"
   ]
  },
  {
   "cell_type": "markdown",
   "metadata": {},
   "source": [
    "## <a id='toc1_9_'></a>[Applying RegEx to Logs](#toc0_)\n",
    "\n",
    "### <a id='toc1_9_1_'></a>[About the Data](#toc0_)\n",
    "\n",
    "To look at regular expressions we will use a log file issued by a supercomputer called \"Thunderbird\" that in 2006 featured as #6 in the top500 list of the most powerful computers.\n",
    "\n",
    "The file is accessible on [this GitHub repository](https://github.com/logpai/loghub/tree/master/Thunderbird) and it contains 2000 entries. It is only a small fraction of the original dataset that contains over 211 million events that were used in a [2007 paper by Oliner & Stearley](https://www.computer.org/csdl/proceedings-article/dsn/2007/28550575/12OmNB1eJDn) that aimed at predicting hardware failures through analysis of computer logs. To access the complete dataset, you can get it [here](https://www.usenix.org/cfdr-data#hpc4)."
   ]
  },
  {
   "cell_type": "markdown",
   "metadata": {},
   "source": [
    "### <a id='toc1_9_2_'></a>[Checking out the data](#toc0_)"
   ]
  },
  {
   "cell_type": "code",
   "execution_count": null,
   "metadata": {},
   "outputs": [],
   "source": [
    "# Load example data where each line is an element of a list\n",
    "with open(\"Thunderbird_2k.txt\", \"r\") as f:\n",
    "    log_file = f.readlines()\n",
    "\n",
    "# Get the first 10 elements of the log_file list\n",
    "log_file[80:90]"
   ]
  },
  {
   "cell_type": "markdown",
   "metadata": {},
   "source": [
    "The log features the word _**crond**_ (sometimes also _crond(pam_unix)_), which is the name of a process that is short for \"Cron Daemon\":\n",
    ">- **\"Cron\"**: is a job scheduling utility in UNIX-based systems. Cron is used to schedule tasks to run automatically at specific times. You can apply this skill in many scenarios, such as automating basic and repetitive tasks, including scheduling backups or collecting system logs periodically.\n",
    ">- **\"Daemon\"**: In Unix-like systems, a daemon is a computer program that runs as a background process, rather than being under the direct control of an interactive user. Traditionally, the process names of a daemon end with the letter \"d\", for clarification that the process is in fact a daemon, and for differentiation between a daemon and a normal computer program.\n",
    ">- **\"pam_unix\"** attached to _crond_ to form _crond(pam_unix)_ indicates that crond daemon is using the **pam_unix** module for authentication. This means that when a user or process attempts to interact with the crond daemon, their credentials are being checked using the traditional Unix authentication methods provided by the pam_unix module. \n",
    "\n",
    "So these logs seem to be mostly associated with scheduled tasks run automatically via **crond**.\n",
    "\n",
    "Every time _crond_ is activated it gives rise to a process bearing its name and to which a unique identifier (ID) is issued and shown between squared brackets, e.g. [2915].\n",
    "\n",
    "Each entry ends with a small text message describing the event that the process raised, such as \"session closed for user root\""
   ]
  }
 ],
 "metadata": {
  "kernelspec": {
   "display_name": "Python 3",
   "language": "python",
   "name": "python3"
  },
  "language_info": {
   "codemirror_mode": {
    "name": "ipython",
    "version": 3
   },
   "file_extension": ".py",
   "mimetype": "text/x-python",
   "name": "python",
   "nbconvert_exporter": "python",
   "pygments_lexer": "ipython3",
   "version": "3.11.3"
  },
  "orig_nbformat": 4
 },
 "nbformat": 4,
 "nbformat_minor": 2
}
