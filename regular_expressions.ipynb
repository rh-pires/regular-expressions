{
 "cells": [
  {
   "cell_type": "markdown",
   "metadata": {},
   "source": [
    "![regular expressions](./images/cover.png)\n",
    "# <a id='toc1_'></a>[Regular Expressions with Python](#toc0_)"
   ]
  },
  {
   "cell_type": "markdown",
   "metadata": {},
   "source": [
    "**Table of contents**<a id='toc0_'></a>    \n",
    "- [Regular Expressions with Python](#toc1_)    \n",
    "  - [What are Regular Expressions](#toc1_1_)    \n",
    "  - [GREP](#toc1_2_)    \n",
    "  - [Regular Expressions in Python | The \"re\" library](#toc1_3_)    \n",
    "  - [Notation in RegEx](#toc1_4_)    \n",
    "    - [Special characters](#toc1_4_1_)    \n",
    "    - [Raw Strings](#toc1_4_2_)    \n",
    "  - [Basic functions](#toc1_5_)    \n",
    "    - [Defining a working string](#toc1_5_1_)    \n",
    "    - [re.search( ) and re.findall( ) | Search anywhere](#toc1_5_2_)    \n",
    "    - [re.match( ) | Search the beginning of the string](#toc1_5_3_)    \n",
    "    - [re.fullmatch ( ) | Checks if the entire string is a match for the regex](#toc1_5_4_)    \n",
    "    - [re.split( ) | Splits the string using the regex as a separator](#toc1_5_5_)    \n",
    "    - [re.compile( ) | Create a compiled regex object](#toc1_5_6_)    \n",
    "    - [re.sub( ) | Replace strings (substitute)](#toc1_5_7_)    \n",
    "      - [Match ReGex and replace with literal strings](#toc1_5_7_1_)    \n",
    "      - [Match ReGex and replace with another ReGex](#toc1_5_7_2_)    \n",
    "  - [The \"Match\" Object](#toc1_6_)    \n",
    "  - [Regex Syntax](#toc1_7_)    \n",
    "    - [Find a match at the start of a string (^) & re.MULTILINE](#toc1_7_1_)    \n",
    "    - [Find a match at the end of a string ($)](#toc1_7_2_)    \n",
    "    - [Ignore the letter case | re.IGNORECASE](#toc1_7_3_)    \n",
    "    - [Match any character with a wildcard (.) except newline (\\n) or empty string (\"\")](#toc1_7_4_)    \n",
    "    - [Using repetition ({ } + *)](#toc1_7_5_)    \n",
    "    - [Match any variant in a set ([ ])](#toc1_7_6_)    \n",
    "    - [Character Classes ([0-9], \\d, [A-z], \\w, etc.)](#toc1_7_7_)    \n",
    "    - [Negation of a set [^ ]](#toc1_7_8_)    \n",
    "    - [Logical OR ```|```](#toc1_7_9_)    \n",
    "  - [Capturing Groups ```( )```](#toc1_8_)    \n",
    "  - [Applying RegEx to Logs](#toc1_9_)    \n",
    "    - [About the Data](#toc1_9_1_)    \n",
    "    - [Checking out the data](#toc1_9_2_)    \n",
    "\n",
    "<!-- vscode-jupyter-toc-config\n",
    "\tnumbering=false\n",
    "\tanchor=true\n",
    "\tflat=false\n",
    "\tminLevel=1\n",
    "\tmaxLevel=6\n",
    "\t/vscode-jupyter-toc-config -->\n",
    "<!-- THIS CELL WILL BE REPLACED ON TOC UPDATE. DO NOT WRITE YOUR TEXT IN THIS CELL -->"
   ]
  },
  {
   "cell_type": "markdown",
   "metadata": {},
   "source": []
  },
  {
   "cell_type": "markdown",
   "metadata": {},
   "source": [
    "## <a id='toc1_1_'></a>[What are Regular Expressions](#toc0_)\n",
    "\n",
    "A **regular expression**, or RegEx / regex, is a pattern of characters which is passed onto an engine that interprets this pattern and searches for it in a text. For example, suppose you have a log of residential addresses and you want to extract the postal code from each one of them. RegEx offers the possibility to search not only for an exact sequence of characters, like \"_W1S 4DZ_\", but something more generelizable that represents variations of the a sequence, or pattern such as:\n",
    "\n",
    ">\"_three alphanumerical characters, followed by a space, followed by one digit and two letters_\".\n",
    "\n",
    "which, as you will see, can be written as:\n",
    "\n",
    ">```[A-Z0-9]{3}\\s\\d\\w{2}```"
   ]
  },
  {
   "cell_type": "markdown",
   "metadata": {},
   "source": [
    "## <a id='toc1_2_'></a>[GREP](#toc0_)\n",
    "\n",
    "Most modern programming languages offer some form of functionality to handle regular expressions. The syntax is not exactly the same across the whole spectrum of languages, each language has it's own flavour, but common threads can be observed across different platforms. These common motifs have roots in the 1950s when regular expressions were first implemented in computing systems. Back then, the implementation of RegEx in UNIX systems gave rise to the tool we now know as \"**GREP**\" which stands for \"_**G**lobal search for **R**egular **E**xpression and **P**rint matching lines_\".\n",
    "\n",
    "Nowadays the tool \"grep\" is available directly from Linux-based command-line terminal and does exactly what the GREP accronym suggests:\n",
    "\n",
    ">it looks globally across a text-based file, and returns the lines where the input character pattern is found.\n",
    "\n",
    "To call the GREP functionality you may use the bash syntax:\n",
    "\n",
    "```console\n",
    "grep [-<flag>] <regular_expression> <filename.ext>\n",
    "```\n",
    "\n",
    "Have a look at the example below:\n",
    "\n",
    "![grep](./images/grep.png)"
   ]
  },
  {
   "cell_type": "markdown",
   "metadata": {},
   "source": [
    "The file ```textfile.txt``` has four sentences. Among the words, it is possible to identify in sentences 1 and 3 a reference to an address in the UK containing a postal code formed by two groups of alphanumeric characters. We then see two possible implementations of a search query using different notations, that return the same result.\n",
    "The result is the whole sentence returned with the match sequence highlighted."
   ]
  },
  {
   "cell_type": "markdown",
   "metadata": {},
   "source": [
    "## <a id='toc1_3_'></a>[Regular Expressions in Python | The \"re\" library](#toc0_)\n",
    "\n",
    "The Python [\"re\" library](https://docs.python.org/3/library/re.html) allows you to access the engine for regular expression matching.\n",
    "Out of the several functions available in the module, some particularly important are:\n",
    "- ```re.search(<regular_expression>, <string>)``` which returns the first found match in the input string\n",
    "- ```re.findall(<regular_expression>, <string>)``` which return all the found matches in the input string\n",
    "- ```re.split(<regular_expression>, <string>)``` which splits the string where matches in the string are found.\n",
    "- ```re.sub(<regular_expression>, <replacement_expression>, <string>)``` which replaces elements of the string\n",
    "\n",
    "## <a id='toc1_4_'></a>[Notation in RegEx](#toc0_)\n",
    "\n",
    "### <a id='toc1_4_1_'></a>[Special characters](#toc0_)\n",
    "\n",
    "Some characters have a special meaning in the context of ReGex and when used in the search pattern they can be incorrectly interpreted by the regex engine. These special characters are non-alphanumeric and include parenthesis (), curly braces {}, asterisk *, the dot or period mark ., the plus sign +, the dollar sign $ or the circumflex diacritic ^, among others. When you literally mean these characters, it is required that you pass the escape character \\ (which in itself is a special character) next to special character you want to include in your search pattern.\n",
    "\n",
    "For example, suppose you were looking for the end of the sentences and therefore you look where the period mark lies. However, because the period is a special character, instead of \".\" your should write \"\\\\.\" in the search pattern.\n",
    "\n",
    "### <a id='toc1_4_2_'></a>[Raw Strings](#toc0_)\n",
    "Because of the undesired effects that escape characters can have in how the RegEx engines interpret the search pattern, it is highly advisable to **always** use RAW strings when specifying your search pattern. Even if this is not sctricly required, it is a good habit to do it always so that, for example, instead of\n",
    "```console\n",
    "search_pattern = \"<some_string>\"\n",
    "```\n",
    "include instead an **r** preceeding the pattern string:\n",
    "```console\n",
    "search_pattern = r\"<some_string>\"\n",
    "```"
   ]
  },
  {
   "cell_type": "markdown",
   "metadata": {},
   "source": [
    "## <a id='toc1_5_'></a>[Basic functions](#toc0_)\n",
    "\n",
    "### <a id='toc1_5_1_'></a>[Defining a working string](#toc0_)\n",
    "\n",
    "Let us create a string on which we can try to find character sequences and patterns."
   ]
  },
  {
   "cell_type": "code",
   "execution_count": 1,
   "metadata": {},
   "outputs": [
    {
     "name": "stdout",
     "output_type": "stream",
     "text": [
      "Pirates and sailors, together with songs of the sea are still a favourite theme among many.\n",
      "The excerpt below is from the sea shanty: \"Blow the Man Down\"\n",
      "\n",
      "> She was round in the counter and bluff in the bow,\n",
      "> Way aye blow the man down\n",
      "> So I took in all sail and cried, \"Way enough now.\"\n",
      "> Give me some time to blow the man down!\n",
      "\n",
      "According to https://en.wikipedia.org/wiki/Blow_the_Man_Down the earliest references to this\n",
      "song date from the 1860s, based on 1987 publication. According to http://www.ranker.com the song\n",
      "sits at #3 out the 12 as one of the most popular sea songs of all time.\n",
      "\n"
     ]
    }
   ],
   "source": [
    "# Prepare a string on which we can do regex matching\n",
    "string = \"\"\"Pirates and sailors, together with songs of the sea are still a favourite theme among many.\n",
    "The excerpt below is from the sea shanty: \"Blow the Man Down\"\n",
    "\n",
    "> She was round in the counter and bluff in the bow,\n",
    "> Way aye blow the man down\n",
    "> So I took in all sail and cried, \"Way enough now.\"\n",
    "> Give me some time to blow the man down!\n",
    "\n",
    "According to https://en.wikipedia.org/wiki/Blow_the_Man_Down the earliest references to this\n",
    "song date from the 1860s, based on 1987 publication. According to http://www.ranker.com the song\n",
    "sits at #3 out the 12 as one of the most popular sea songs of all time.\n",
    "\"\"\"\n",
    "\n",
    "print(string)"
   ]
  },
  {
   "cell_type": "markdown",
   "metadata": {},
   "source": [
    "### <a id='toc1_5_2_'></a>[re.search( ) and re.findall( ) | Search anywhere](#toc0_)\n",
    "\n",
    "Let's get to know the functions in the \"**re**\" library by trying to find exact sequences of letters, such as _\"http\"_."
   ]
  },
  {
   "cell_type": "code",
   "execution_count": 2,
   "metadata": {},
   "outputs": [
    {
     "name": "stdout",
     "output_type": "stream",
     "text": [
      "Output from re.search:  <re.Match object; span=(345, 349), match='http'>\n",
      "Output from re.findall:  ['http', 'http']\n"
     ]
    }
   ],
   "source": [
    "import re\n",
    "\n",
    "regex = r\"http\"      #note the initial \"r\" declaration\n",
    "print(\"Output from re.search: \", re.search(regex,string))\n",
    "print(\"Output from re.findall: \", re.findall(regex,string))\n",
    "\n",
    "#Note that:\n",
    "#  the re.search function returns a match object refering to the first match\n",
    "#  the re.findall outputs a list of all objects found."
   ]
  },
  {
   "cell_type": "code",
   "execution_count": 3,
   "metadata": {},
   "outputs": [],
   "source": [
    "# Make a function that emulates grep, and returns the line where matches are found\n",
    "\n",
    "def get_line(reg_exp:str, string:str):\n",
    "    '''Takes a user-defined regular expression and passes it through the input string.\n",
    "    it returns all lines where matching occurs.\n",
    "    If no matches are found it returns an empty list.\n",
    "    '''\n",
    "    input_txt = string.split(\"\\n\")\n",
    "    out_lst = []\n",
    "\n",
    "    for line in input_txt:\n",
    "        result = re.search(reg_exp,line)\n",
    "        if result is not None:\n",
    "            out_lst +=[line]\n",
    "\n",
    "    return out_lst"
   ]
  },
  {
   "cell_type": "code",
   "execution_count": 4,
   "metadata": {},
   "outputs": [
    {
     "data": {
      "text/plain": [
       "['According to https://en.wikipedia.org/wiki/Blow_the_Man_Down the earliest references to this',\n",
       " 'song date from the 1860s, based on 1987 publication. According to http://www.ranker.com the song']"
      ]
     },
     "execution_count": 4,
     "metadata": {},
     "output_type": "execute_result"
    }
   ],
   "source": [
    "get_line(regex,string)\n",
    "#Note that the ouput confirms the presence of \"http\" anywhere in the lines."
   ]
  },
  {
   "cell_type": "markdown",
   "metadata": {},
   "source": [
    "### <a id='toc1_5_3_'></a>[re.match( ) | Search the beginning of the string](#toc0_)"
   ]
  },
  {
   "cell_type": "code",
   "execution_count": 5,
   "metadata": {},
   "outputs": [
    {
     "name": "stdout",
     "output_type": "stream",
     "text": [
      "Output from re.match:  None\n"
     ]
    }
   ],
   "source": [
    "print(\"Output from re.match: \", re.match(regex, string))\n",
    "# re.match only searches at the begning of the string so the output here is \"None\""
   ]
  },
  {
   "cell_type": "code",
   "execution_count": 6,
   "metadata": {},
   "outputs": [
    {
     "name": "stdout",
     "output_type": "stream",
     "text": [
      "Output from re.match:  <re.Match object; span=(0, 7), match='Pirates'>\n"
     ]
    }
   ],
   "source": [
    "# change the regex expression to have a match.\n",
    "print(\"Output from re.match: \", re.match(\"Pirates\", string))"
   ]
  },
  {
   "cell_type": "markdown",
   "metadata": {},
   "source": [
    "### <a id='toc1_5_4_'></a>[re.fullmatch ( ) | Checks if the entire string is a match for the regex](#toc0_)"
   ]
  },
  {
   "cell_type": "code",
   "execution_count": 7,
   "metadata": {},
   "outputs": [
    {
     "name": "stdout",
     "output_type": "stream",
     "text": [
      "Output from re.fullmatch:  None\n"
     ]
    }
   ],
   "source": [
    "print(\"Output from re.fullmatch: \", re.fullmatch(regex, string))\n",
    "# the sequence \"http\" is a part of the string, and therefore does not matches the entire string, so the output is None"
   ]
  },
  {
   "cell_type": "code",
   "execution_count": 8,
   "metadata": {},
   "outputs": [
    {
     "name": "stdout",
     "output_type": "stream",
     "text": [
      "Output from re.fullmatch:  <re.Match object; span=(0, 7), match='Pirates'>\n"
     ]
    }
   ],
   "source": [
    "# change the regex expression and the input string to have a fullmatch.\n",
    "print(\"Output from re.fullmatch: \", re.fullmatch(r\"P[a-z]*s\", \"Pirates\"))"
   ]
  },
  {
   "cell_type": "markdown",
   "metadata": {},
   "source": [
    "### <a id='toc1_5_5_'></a>[re.split( ) | Splits the string using the regex as a separator](#toc0_)"
   ]
  },
  {
   "cell_type": "code",
   "execution_count": 9,
   "metadata": {},
   "outputs": [
    {
     "data": {
      "text/plain": [
       "['Pirates and sailors, together with songs of the sea are still a favourite theme among many.\\nThe excerpt below is from the sea shanty: \"Blow the Man Down\"\\n\\n> She was round in the counter and bluff in the bow,\\n> Way aye blow the man down\\n> So I took in all sail and cried, \"Way enough now.\"\\n> Give me some time to blow the man down!\\n\\nAccording to ',\n",
       " 's://en.wikipedia.org/wiki/Blow_the_Man_Down the earliest references to this\\nsong date from the 1860s, based on 1987 publication. According to ',\n",
       " '://www.ranker.com the song\\nsits at #3 out the 12 as one of the most popular sea songs of all time.\\n']"
      ]
     },
     "execution_count": 9,
     "metadata": {},
     "output_type": "execute_result"
    }
   ],
   "source": [
    "re.split(regex,string)\n",
    "# Note that the output is a list of 3 elements.\n",
    "# the \"http\" sequence disappeared"
   ]
  },
  {
   "cell_type": "markdown",
   "metadata": {},
   "source": [
    "The re.split() function works very similarly to the str.split() method.\n",
    "The biggest difference is that:\n",
    "- the re.split() alows you to use regular expressions, whereas\n",
    "- the str.plit() you can only use literal characters present in the text - no expressions allowed."
   ]
  },
  {
   "cell_type": "code",
   "execution_count": 10,
   "metadata": {},
   "outputs": [
    {
     "data": {
      "text/plain": [
       "['Pirates and sailors, together with songs of the sea are still a favourite theme among many.',\n",
       " 'The excerpt below is from the sea shanty: \"Blow the Man Down\"',\n",
       " '',\n",
       " '> She was round in the counter and bluff in the bow,',\n",
       " '> Way aye blow the man down',\n",
       " '> So I took in all sail and cried, \"Way enough now.\"',\n",
       " '> Give me some time to blow the man down!',\n",
       " '',\n",
       " 'According to https://en.wikipedia.org/wiki/Blow_the_Man_Down the earliest references to this',\n",
       " 'song date from the 1860s, based on 1987 publication. According to http://www.ranker.com the song',\n",
       " 'sits at #3 out the 12 as one of the most popular sea songs of all time.',\n",
       " '']"
      ]
     },
     "execution_count": 10,
     "metadata": {},
     "output_type": "execute_result"
    }
   ],
   "source": [
    "re.split(r\"\\n\",string)"
   ]
  },
  {
   "cell_type": "code",
   "execution_count": 11,
   "metadata": {},
   "outputs": [
    {
     "data": {
      "text/plain": [
       "['Pirates and sailors, together with songs of the sea are still a favourite theme among many.',\n",
       " 'The excerpt below is from the sea shanty: \"Blow the Man Down\"',\n",
       " '',\n",
       " '> She was round in the counter and bluff in the bow,',\n",
       " '> Way aye blow the man down',\n",
       " '> So I took in all sail and cried, \"Way enough now.\"',\n",
       " '> Give me some time to blow the man down!',\n",
       " '',\n",
       " 'According to https://en.wikipedia.org/wiki/Blow_the_Man_Down the earliest references to this',\n",
       " 'song date from the 1860s, based on 1987 publication. According to http://www.ranker.com the song',\n",
       " 'sits at #3 out the 12 as one of the most popular sea songs of all time.',\n",
       " '']"
      ]
     },
     "execution_count": 11,
     "metadata": {},
     "output_type": "execute_result"
    }
   ],
   "source": [
    "string.split(\"\\n\")"
   ]
  },
  {
   "cell_type": "markdown",
   "metadata": {},
   "source": [
    "### <a id='toc1_5_6_'></a>[re.compile( ) | Create a compiled regex object](#toc0_)\n",
    "\n",
    "When your ReGex is rather complex, and used many times over a script it can be useful to compile that expression first into an object that be reused multiple times in a script."
   ]
  },
  {
   "cell_type": "code",
   "execution_count": 12,
   "metadata": {},
   "outputs": [
    {
     "name": "stdout",
     "output_type": "stream",
     "text": [
      "Output from re.search:  <re.Match object; span=(345, 349), match='http'>\n",
      "Output from re.findall:  ['http', 'http']\n"
     ]
    }
   ],
   "source": [
    "regex_comp = re.compile(r\"HTTP\", re.IGNORECASE)\n",
    "\n",
    "print(\"Output from re.search: \",regex_comp.search(string))\n",
    "print(\"Output from re.findall: \",regex_comp.findall(string))"
   ]
  },
  {
   "cell_type": "code",
   "execution_count": 13,
   "metadata": {},
   "outputs": [
    {
     "name": "stdout",
     "output_type": "stream",
     "text": [
      "Output from re.search:  <re.Match object; span=(345, 349), match='http'>\n",
      "Output from re.findall:  ['http', 'http']\n"
     ]
    }
   ],
   "source": [
    "# Using the search of findall methods from the regex object is equivalent to\n",
    "# Passing regex_comp as a parameter of a re.search or re.findall functions.\n",
    "\n",
    "print(\"Output from re.search: \", re.search(regex_comp,string))\n",
    "print(\"Output from re.findall: \", re.findall(regex_comp,string))"
   ]
  },
  {
   "cell_type": "markdown",
   "metadata": {},
   "source": [
    "### <a id='toc1_5_7_'></a>[re.sub( ) | Replace strings (substitute)](#toc0_)\n",
    "\n",
    "#### <a id='toc1_5_7_1_'></a>[Match ReGex and replace with literal strings](#toc0_)"
   ]
  },
  {
   "cell_type": "code",
   "execution_count": 14,
   "metadata": {},
   "outputs": [
    {
     "name": "stdout",
     "output_type": "stream",
     "text": [
      "Output from re.search:  <re.Match object; span=(345, 512), match='https://en.wikipedia.org/wiki/Blow_the_Man_Down t>\n",
      "Output from re.findall:  [('https://en.wikipedia.org/wiki/Blow_the_Man_Down', ' the earliest references to this\\nsong date from the 1860s, based on 1987 publication. According to ', 'http://www.ranker.com')]\n",
      "\n",
      "Pirates and sailors, together with songs of the sea are still a favourite theme among many.\n",
      "The excerpt below is from the sea shanty: \"Blow the Man Down\"\n",
      "\n",
      "> She was round in the counter and bluff in the bow,\n",
      "> Way aye blow the man down\n",
      "> So I took in all sail and cried, \"Way enough now.\"\n",
      "> Give me some time to blow the man down!\n",
      "\n",
      "According to \"Wikipedia\" the earliest references to this\n",
      "song date from the 1860s, based on 1987 publication. According to \"Ranker\" the song\n",
      "sits at #3 out the 12 as one of the most popular sea songs of all time.\n",
      "\n"
     ]
    }
   ],
   "source": [
    "# Replace the URLs with the names of the websites.\n",
    "regex = r\"\"\"(htt[^\\s]+)(.*\\n*.*)(htt[^\\s]+)\"\"\"  # Match a start with \"htt\" followed by any character except spaces\n",
    "                                                # Followed by any character repeated before and after any possible new lines\n",
    "                                                # until a new \"http\" is found whih should include every possible character except space.\n",
    "\n",
    "\n",
    "print(\"Output from re.search: \", re.search(regex,string))\n",
    "print(\"Output from re.findall: \", re.findall(regex,string))\n",
    "print(\"\")\n",
    "repl = r'\"Wikipedia\"\\2\"Ranker\"'     # Keeps group 2 in the middle, but substitute groups 1 and 3 with literal strings.\n",
    "result = re.sub(regex,repl,string)\n",
    "print(result)\n",
    "re.purge()"
   ]
  },
  {
   "cell_type": "markdown",
   "metadata": {},
   "source": [
    "#### <a id='toc1_5_7_2_'></a>[Match ReGex and replace with another ReGex](#toc0_)"
   ]
  },
  {
   "cell_type": "code",
   "execution_count": 15,
   "metadata": {},
   "outputs": [
    {
     "name": "stdout",
     "output_type": "stream",
     "text": [
      "Output from re.search:  <re.Match object; span=(345, 512), match='https://en.wikipedia.org/wiki/Blow_the_Man_Down t>\n",
      "Output from re.findall:  [('https://en.wikipedia.org/wiki/Blow_the_Man_Down', ' the earliest references to this\\nsong date from the 1860s, based on 1987 publication. According to ', 'http://www.ranker.com')]\n",
      "\n",
      "Pirates and sailors, together with songs of the sea are still a favourite theme among many.\n",
      "The excerpt below is from the sea shanty: \"Blow the Man Down\"\n",
      "\n",
      "> She was round in the counter and bluff in the bow,\n",
      "> Way aye blow the man down\n",
      "> So I took in all sail and cried, \"Way enough now.\"\n",
      "> Give me some time to blow the man down!\n",
      "\n",
      "According to http://www.ranker.com the earliest references to this\n",
      "song date from the 1860s, based on 1987 publication. According to https://en.wikipedia.org/wiki/Blow_the_Man_Down the song\n",
      "sits at #3 out the 12 as one of the most popular sea songs of all time.\n",
      "\n"
     ]
    }
   ],
   "source": [
    "# Exchange the position of the URLs in the text\n",
    "regex = r\"(htt[^\\s]+)(.*\\n.*)(htt[^\\s]+)\"\n",
    "print(\"Output from re.search: \", re.search(regex,string))\n",
    "print(\"Output from re.findall: \", re.findall(regex,string))\n",
    "print(\"\")\n",
    "result = re.sub(regex,r\"\\3\\2\\1\",string)\n",
    "print(result)\n",
    "re.purge()"
   ]
  },
  {
   "cell_type": "markdown",
   "metadata": {},
   "source": [
    "## <a id='toc1_6_'></a>[The \"Match\" Object](#toc0_)\n",
    "\n",
    "Some functions in the **re** library return a \"match\" object that encapsulates important parameters concerning a single match.\n",
    "\n",
    "Using indexing notation, it is possible to access the matched string and subgroups, e.g:\n",
    "- ```<match_object_name>[0]```returns the complete matched string\n",
    "- ```<match_object_name>[1]```returns the first group substring\n",
    "- ```<match_object_name>[2]```returns the second group substring\n",
    "- ```<match_object_name>[3]```returns the thrid group substring... and so on.\n",
    "\n",
    "These \"match\" objects have attributes which are important to know:\n",
    "- **re**: the regular expression object associated with a given match object.\n",
    "- **string**: the string that was searched.\n",
    "- **pos**: the index of the start of the searched substring.\n",
    "- **endpos**: the index of the end of the searched substring.\n",
    "- **lastindex**: the integer index of the last matched capturing group, or None if no group was matched.\n",
    "- **lastgroup**: the name of the last matched capturing group, or None if no group was matched.\n"
   ]
  },
  {
   "cell_type": "code",
   "execution_count": 16,
   "metadata": {},
   "outputs": [
    {
     "name": "stdout",
     "output_type": "stream",
     "text": [
      "re: re.compile('(\\\\w+) (\\\\d+)')\n",
      "string: There are 42 apples in the basket\n",
      "pos: 0\n",
      "endpos: 33\n",
      "lastindex: 2\n",
      "lastgroup: None\n",
      "--------------\n",
      "match[0] -> are 42\n",
      "match[1] -> are\n",
      "match[2] -> 42\n"
     ]
    }
   ],
   "source": [
    "pattern = r\"(\\w+) (\\d+)\"        # Match containing a group of letters followed by a group of digits.\n",
    "text = \"There are 42 apples in the basket\"\n",
    "match = re.search(pattern, text)\n",
    "\n",
    "print(\"re:\", match.re)\n",
    "print(\"string:\", match.string)\n",
    "print(\"pos:\", match.pos)\n",
    "print(\"endpos:\", match.endpos)\n",
    "print(\"lastindex:\", match.lastindex)\n",
    "print(\"lastgroup:\", match.lastgroup)\n",
    "print(\"--------------\")\n",
    "for i in range(match.lastindex+1):\n",
    "    print(\"match[\" + str(i) + \"] ->\", match[i])\n"
   ]
  },
  {
   "cell_type": "markdown",
   "metadata": {},
   "source": [
    "## <a id='toc1_7_'></a>[Regex Syntax](#toc0_)\n",
    "\n",
    "### <a id='toc1_7_1_'></a>[Find a match at the start of a string (^) & re.MULTILINE](#toc0_)"
   ]
  },
  {
   "cell_type": "code",
   "execution_count": 17,
   "metadata": {},
   "outputs": [
    {
     "name": "stdout",
     "output_type": "stream",
     "text": [
      "Output from re.search:  None\n",
      "Output from re.findall:  []\n"
     ]
    }
   ],
   "source": [
    "# The ^ character instructs that the pattern should be at the begining of the string\n",
    "regex = r\"^s\"   # match should be:\n",
    "                    # - present at the start of the string (^)\n",
    "                    # - start with the letter s (s)\n",
    "                    # - followed by any 4 character (.)\n",
    "                    # - repeated as many times as necessary (*)\n",
    "print(\"Output from re.search: \", re.search(regex,string))\n",
    "print(\"Output from re.findall: \", re.findall(regex,string))\n",
    "# Note:\n",
    "# The output is \"None\" because the string starts with the word: \"Pirates\"."
   ]
  },
  {
   "cell_type": "code",
   "execution_count": 18,
   "metadata": {},
   "outputs": [
    {
     "name": "stdout",
     "output_type": "stream",
     "text": [
      "Output from re.search:  <re.Match object; span=(425, 426), match='s'>\n",
      "Output from re.findall:  ['s', 's']\n"
     ]
    },
    {
     "data": {
      "text/plain": [
       "['song date from the 1860s, based on 1987 publication. According to http://www.ranker.com the song',\n",
       " 'sits at #3 out the 12 as one of the most popular sea songs of all time.']"
      ]
     },
     "execution_count": 18,
     "metadata": {},
     "output_type": "execute_result"
    }
   ],
   "source": [
    "# To enable each line to act as a string, pass re.MULTILINE as a parameter\n",
    "print(\"Output from re.search: \", re.search(regex,string,re.MULTILINE))\n",
    "print(\"Output from re.findall: \", re.findall(regex,string,re.MULTILINE))\n",
    "get_line(regex,string)\n",
    "\n",
    "# Note:\n",
    "# Notice how the get_line() function retried two lines that started with the letter s"
   ]
  },
  {
   "cell_type": "markdown",
   "metadata": {},
   "source": [
    "### <a id='toc1_7_2_'></a>[Find a match at the end of a string ($)](#toc0_)"
   ]
  },
  {
   "cell_type": "code",
   "execution_count": 19,
   "metadata": {},
   "outputs": [
    {
     "name": "stdout",
     "output_type": "stream",
     "text": [
      "Output from re.search:  <re.Match object; span=(588, 593), match='time.'>\n",
      "Output from re.findall:  ['time.']\n"
     ]
    },
    {
     "data": {
      "text/plain": [
       "['sits at #3 out the 12 as one of the most popular sea songs of all time.']"
      ]
     },
     "execution_count": 19,
     "metadata": {},
     "output_type": "execute_result"
    }
   ],
   "source": [
    "regex = r\"time.$\"\n",
    "print(\"Output from re.search: \", re.search(regex,string))\n",
    "print(\"Output from re.findall: \", re.findall(regex,string))\n",
    "get_line(regex,string)\n"
   ]
  },
  {
   "cell_type": "markdown",
   "metadata": {},
   "source": [
    "### <a id='toc1_7_3_'></a>[Ignore the letter case | re.IGNORECASE](#toc0_)"
   ]
  },
  {
   "cell_type": "code",
   "execution_count": 20,
   "metadata": {},
   "outputs": [
    {
     "name": "stdout",
     "output_type": "stream",
     "text": [
      "Output from re.search:  <re.Match object; span=(148, 152), match='Down'>\n",
      "Output from re.findall:  ['Down', 'down', 'down', 'Down']\n"
     ]
    }
   ],
   "source": [
    "regex = r\"DOWN\"\n",
    "print(\"Output from re.search: \", re.search(regex,string,re.IGNORECASE))\n",
    "print(\"Output from re.findall: \", re.findall(regex,string,re.IGNORECASE))"
   ]
  },
  {
   "cell_type": "markdown",
   "metadata": {},
   "source": [
    "### <a id='toc1_7_4_'></a>[Match any character with a wildcard (.) except newline (\\n) or empty string (\"\")](#toc0_)"
   ]
  },
  {
   "cell_type": "code",
   "execution_count": 21,
   "metadata": {},
   "outputs": [
    {
     "name": "stdout",
     "output_type": "stream",
     "text": [
      "Output from re.search:  <re.Match object; span=(6, 12), match='s and '>\n",
      "Output from re.findall:  ['s and ', 'songs ', 'still ', 's one ', 'songs ']\n"
     ]
    },
    {
     "data": {
      "text/plain": [
       "['Pirates and sailors, together with songs of the sea are still a favourite theme among many.',\n",
       " 'sits at #3 out the 12 as one of the most popular sea songs of all time.']"
      ]
     },
     "execution_count": 21,
     "metadata": {},
     "output_type": "execute_result"
    }
   ],
   "source": [
    "regex = r\"s.... \" # match a t (t),followed by any two letters (..), followed by a space ( )\n",
    "print(\"Output from re.search: \", re.search(regex,string))\n",
    "print(\"Output from re.findall: \", re.findall(regex,string))\n",
    "get_line(regex, string)"
   ]
  },
  {
   "cell_type": "markdown",
   "metadata": {},
   "source": [
    "### <a id='toc1_7_5_'></a>[Using repetition ({ } + *)](#toc0_)\n",
    "Sometimes you may want to indicate that a given character, or character class, should repeat itself.\n",
    "Regex syntax offers three alternatives:\n",
    "- **{}** the precedding character can repeat within specific limits \n",
    "- **+** the preceeding character occurs at least once, and may or may not repeat itself.\n",
    "- __*__ the preceeding character may or may not occur, and may or may not repeat itself.\n",
    "\n",
    "When using limits, you can:\n",
    " - specify the exact number of repetions, e.g. {5}\n",
    " - specify a range, e.g. {5,10}\n",
    " - specify a maximum number of repetitions, e.g. {,10}, or\n",
    " - specify a minimum number of repetitions, e.g. {5,}\n"
   ]
  },
  {
   "cell_type": "code",
   "execution_count": 22,
   "metadata": {},
   "outputs": [
    {
     "name": "stdout",
     "output_type": "stream",
     "text": [
      "Pirates and sailors, together with songs of the sea are still a favourite theme among many.\n",
      "The excerpt below is from the sea shanty: \"Blow the Man Down\"\n",
      "\n",
      "> She was round in the counter and bluff in the bow,\n",
      "> Way aye blow the man down\n",
      "> So I took in all sail and cried, \"Way enough now.\"\n",
      "> Give me some time to blow the man down!\n",
      "\n",
      "According to https://en.wikipedia.org/wiki/Blow_the_Man_Down the earliest references to this\n",
      "song date from the 1860s, based on 1987 publication. According to http://www.ranker.com the song\n",
      "sits at #3 out the 12 as one of the most popular sea songs of all time.\n",
      "\n"
     ]
    }
   ],
   "source": [
    "print(string)"
   ]
  },
  {
   "cell_type": "code",
   "execution_count": 23,
   "metadata": {},
   "outputs": [
    {
     "name": "stdout",
     "output_type": "stream",
     "text": [
      "Output from re.search:  <re.Match object; span=(48, 91), match='sea are still a favourite theme among many.'>\n",
      "Output from re.findall:  ['sea are still a favourite theme among many.', 'sea shanty: \"Blow the Man Down\"', 'sea songs of all time.']\n",
      "3\n"
     ]
    }
   ],
   "source": [
    "regex = r\"sea.*\"              # matching string starts with an \"s\",\n",
    "                            # followed by any character (.),\n",
    "                            # repeated as many times until the next newline\n",
    "print(\"Output from re.search: \", re.search(regex,string))\n",
    "print(\"Output from re.findall: \", re.findall(regex,string))\n",
    "print(len(re.findall(regex,string)))"
   ]
  },
  {
   "cell_type": "code",
   "execution_count": 24,
   "metadata": {},
   "outputs": [
    {
     "name": "stdout",
     "output_type": "stream",
     "text": [
      "Output from re.search:  <re.Match object; span=(6, 12), match='s and '>\n",
      "Output from re.findall:  ['s and ', 'songs ', 'still ', 's one ', 'songs ']\n",
      "5\n"
     ]
    }
   ],
   "source": [
    "regex = r\"s.{4} \"           # matching string starts with an \"s\",\n",
    "                            # followed by any character (.),\n",
    "                            # repeated exactly 4 times ({4}), and\n",
    "                            # ends with a space\n",
    "print(\"Output from re.search: \", re.search(regex,string))\n",
    "print(\"Output from re.findall: \", re.findall(regex,string))\n",
    "print(len(re.findall(regex,string)))"
   ]
  },
  {
   "cell_type": "code",
   "execution_count": 25,
   "metadata": {},
   "outputs": [
    {
     "name": "stdout",
     "output_type": "stream",
     "text": [
      "Output from re.search:  <re.Match object; span=(6, 12), match='s and '>\n",
      "Output from re.findall:  ['s and ', 's, ', 'songs ', 'sea ', 'still ', 's ', 'sea ', 's ', 'sail ', 'some ', 'st ', 's to ', 'song ', 's, ', 'sed ', 'sits ', 's one ', 'st ', 'sea ', 'songs ']\n",
      "20\n"
     ]
    }
   ],
   "source": [
    "regex = r\"s.{,4} \"          # matching string starts with an \"s\",\n",
    "                            # followed by any character (.),\n",
    "                            # repeated a maximum of 4 times ({,4}), and\n",
    "                            # ends with a space\n",
    "print(\"Output from re.search: \", re.search(regex,string))\n",
    "print(\"Output from re.findall: \", re.findall(regex,string))\n",
    "print(len(re.findall(regex,string)))"
   ]
  },
  {
   "cell_type": "code",
   "execution_count": 26,
   "metadata": {},
   "outputs": [
    {
     "name": "stdout",
     "output_type": "stream",
     "text": [
      "Output from re.search:  <re.Match object; span=(6, 86), match='s and sailors, together with songs of the sea are>\n",
      "Output from re.findall:  ['s and sailors, together with songs of the sea are still a favourite theme among ', 's from the sea shanty: \"Blow the Man ', 's round in the counter and bluff in the ', 'sail and cried, \"Way enough ', 'some time to blow the man ', 's://en.wikipedia.org/wiki/Blow_the_Man_Down the earliest references to ', 'song date from the 1860s, based on 1987 publication. According to http://www.ranker.com the ', 'sits at #3 out the 12 as one of the most popular sea songs of all ']\n",
      "8\n"
     ]
    }
   ],
   "source": [
    "regex = r\"s.{4,} \"          # matching string starts with an \"s\",\n",
    "                            # followed by any character (.),\n",
    "                            # repeated a minumum of 4 times ({4,}), and\n",
    "                            # ends with a space\n",
    "print(\"Output from re.search: \", re.search(regex,string))\n",
    "print(\"Output from re.findall: \", re.findall(regex,string))\n",
    "print(len(re.findall(regex,string)))"
   ]
  },
  {
   "cell_type": "code",
   "execution_count": 27,
   "metadata": {},
   "outputs": [
    {
     "name": "stdout",
     "output_type": "stream",
     "text": [
      "Output from re.search:  <re.Match object; span=(6, 7), match='s'>\n",
      "Output from re.findall:  ['s', 'sa', 's', 's', 's', 'sea', 's', 's', 'sea', 's', 's', 'sa', 's', 's', 's', 's', 's', 's', 's', 'se', 's', 's', 's', 's', 's', 'sea', 's', 's']\n",
      "28\n"
     ]
    }
   ],
   "source": [
    "regex = r\"s[ea]*\"          # matching string starts with \"s\",\n",
    "                           # followed by an optional \"e\" or \"a\", repeating until a newline character\n",
    "print(\"Output from re.search: \", re.search(regex,string))\n",
    "print(\"Output from re.findall: \", re.findall(regex,string))\n",
    "print(len(re.findall(regex,string)))\n",
    "\n",
    "# Note:\n",
    "# With the * sign, the possible solutions include:\n",
    "# - \"sea \" (only one space, no repetition of the white space),\n",
    "# - \"sea  \" (one white space and one repetition of the white space),\n",
    "# - \"sea   \" (one white space and two repetitions of the white space)... etc."
   ]
  },
  {
   "cell_type": "code",
   "execution_count": 28,
   "metadata": {},
   "outputs": [
    {
     "name": "stdout",
     "output_type": "stream",
     "text": [
      "Output from re.search:  <re.Match object; span=(12, 14), match='sa'>\n",
      "Output from re.findall:  ['sa', 'sea', 'sea', 'sa', 'se', 'sea']\n",
      "6\n"
     ]
    }
   ],
   "source": [
    "regex = r\"s[ea]+\"          # matching string starts with an \"s\",\n",
    "                           # followed by an obligatory \"e\" or \"a\", repeating until a newline character\n",
    "print(\"Output from re.search: \", re.search(regex,string))\n",
    "print(\"Output from re.findall: \", re.findall(regex,string))\n",
    "print(len(re.findall(regex,string)))\n",
    "\n",
    "# Note:\n",
    "# With the + sign the conditions of at least one repetition of the \"white space\" is forced.\n",
    "# , the only possible solutions would require two or more spaces after the word \"sea\".\n",
    "# Since in the text there are no instances of \"sea\" followed by two or more spaces, the output is None."
   ]
  },
  {
   "cell_type": "markdown",
   "metadata": {},
   "source": [
    "### <a id='toc1_7_6_'></a>[Match any variant in a set ([ ])](#toc0_) [&#8593;](#toc0_)"
   ]
  },
  {
   "cell_type": "code",
   "execution_count": 29,
   "metadata": {},
   "outputs": [
    {
     "name": "stdout",
     "output_type": "stream",
     "text": [
      "Output from re.search:  <re.Match object; span=(148, 152), match='Down'>\n",
      "Output from re.findall:  ['Down', 'down', 'down', 'Down']\n"
     ]
    },
    {
     "data": {
      "text/plain": [
       "['The excerpt below is from the sea shanty: \"Blow the Man Down\"',\n",
       " '> Way aye blow the man down',\n",
       " '> Give me some time to blow the man down!',\n",
       " 'According to https://en.wikipedia.org/wiki/Blow_the_Man_Down the earliest references to this']"
      ]
     },
     "execution_count": 29,
     "metadata": {},
     "output_type": "execute_result"
    }
   ],
   "source": [
    "# Specifying case independence for a particular character in the pattern\n",
    "regex = r\"[Dd]own\"       # Match either \"Down\" or \"down\"\n",
    "print(\"Output from re.search: \", re.search(regex,string))\n",
    "print(\"Output from re.findall: \", re.findall(regex,string))\n",
    "get_line(regex, string)"
   ]
  },
  {
   "cell_type": "code",
   "execution_count": 30,
   "metadata": {},
   "outputs": [
    {
     "name": "stdout",
     "output_type": "stream",
     "text": [
      "Output from re.search:  <re.Match object; span=(12, 17), match='sailo'>\n",
      "Output from re.findall:  ['sailo', 'songs', 'sea a', 'sea s', 'sail ', 'some ', 'song ', 'sed o', 'sea s']\n"
     ]
    },
    {
     "data": {
      "text/plain": [
       "['Pirates and sailors, together with songs of the sea are still a favourite theme among many.',\n",
       " 'The excerpt below is from the sea shanty: \"Blow the Man Down\"',\n",
       " '> So I took in all sail and cried, \"Way enough now.\"',\n",
       " '> Give me some time to blow the man down!',\n",
       " 'song date from the 1860s, based on 1987 publication. According to http://www.ranker.com the song',\n",
       " 'sits at #3 out the 12 as one of the most popular sea songs of all time.']"
      ]
     },
     "execution_count": 30,
     "metadata": {},
     "output_type": "execute_result"
    }
   ],
   "source": [
    "# Beyond different letter cases, different characters\n",
    "regex = r\"s[aeo].{3}\"       # MAtch starts with an \"s\", folowed by \"a\",\"e\" or \"o\", folowed by any character 3 times.\n",
    "print(\"Output from re.search: \", re.search(regex,string))\n",
    "print(\"Output from re.findall: \", re.findall(regex,string))\n",
    "get_line(regex, string)"
   ]
  },
  {
   "cell_type": "markdown",
   "metadata": {},
   "source": [
    "### <a id='toc1_7_7_'></a>[Character Classes ([0-9], \\d, [A-z], \\w, etc.)](#toc0_) [&#8593;](#toc0_)"
   ]
  },
  {
   "cell_type": "markdown",
   "metadata": {},
   "source": [
    "Characters can be divided into classes, such as:\n",
    "- matches ranges of digits: ```[0-9]```, ```[1-4]```, etc.\n",
    "- matches letters: ```[a-z]```,```[A-Z]```, ```[A-Za-z]``` or ```[A-z]```, and whatever range ```[B-D]```\n",
    "- matches a combination of letters and digits: ```[A-Z0-9]```, ```[A-z0-9]```, ```[a-z0-9]```\n",
    "- matches white spaces ```\\s``` and non-white spaces ```\\S```\n",
    "- matches word characters ```\\w``` and non-word characters ```\\W```\n",
    "- matches unions of subsets: ```[a-cx-z]``` or ```[a-c[x-z]]```\n"
   ]
  },
  {
   "cell_type": "code",
   "execution_count": 31,
   "metadata": {},
   "outputs": [
    {
     "name": "stdout",
     "output_type": "stream",
     "text": [
      "Output from re.search:  <re.Match object; span=(444, 448), match='1860'>\n",
      "Output from re.findall:  ['1860', '1987']\n"
     ]
    },
    {
     "data": {
      "text/plain": [
       "['song date from the 1860s, based on 1987 publication. According to http://www.ranker.com the song']"
      ]
     },
     "execution_count": 31,
     "metadata": {},
     "output_type": "execute_result"
    }
   ],
   "source": [
    "regex = r\"\\d{4}\"        # Four digits\n",
    "print(\"Output from re.search: \", re.search(regex,string))\n",
    "print(\"Output from re.findall: \", re.findall(regex,string))\n",
    "get_line(regex, string)"
   ]
  },
  {
   "cell_type": "code",
   "execution_count": 32,
   "metadata": {},
   "outputs": [
    {
     "name": "stdout",
     "output_type": "stream",
     "text": [
      "Output from re.search:  <re.Match object; span=(444, 448), match='1860'>\n",
      "Output from re.findall:  ['1860']\n"
     ]
    },
    {
     "data": {
      "text/plain": [
       "['song date from the 1860s, based on 1987 publication. According to http://www.ranker.com the song']"
      ]
     },
     "execution_count": 32,
     "metadata": {},
     "output_type": "execute_result"
    }
   ],
   "source": [
    "regex = r\"\\d{3}[0-2]\"        # Three digits, terminating in either 0,1 or 2\n",
    "print(\"Output from re.search: \", re.search(regex,string))\n",
    "print(\"Output from re.findall: \", re.findall(regex,string))\n",
    "get_line(regex, string)"
   ]
  },
  {
   "cell_type": "code",
   "execution_count": 33,
   "metadata": {},
   "outputs": [
    {
     "name": "stdout",
     "output_type": "stream",
     "text": [
      "Output from re.search:  <re.Match object; span=(2, 7), match='rates'>\n",
      "Output from re.findall:  ['rates', 'ilors', 'songs', 'https', 'rlies', 'ences', '1860s', 'songs']\n"
     ]
    },
    {
     "data": {
      "text/plain": [
       "['Pirates and sailors, together with songs of the sea are still a favourite theme among many.',\n",
       " 'According to https://en.wikipedia.org/wiki/Blow_the_Man_Down the earliest references to this',\n",
       " 'song date from the 1860s, based on 1987 publication. According to http://www.ranker.com the song',\n",
       " 'sits at #3 out the 12 as one of the most popular sea songs of all time.']"
      ]
     },
     "execution_count": 33,
     "metadata": {},
     "output_type": "execute_result"
    }
   ],
   "source": [
    "regex = r\"[A-z0-9]{4}s\" \t# Four alphanumeric characters terminating with an \"s\"\n",
    "print(\"Output from re.search: \", re.search(regex,string))\n",
    "print(\"Output from re.findall: \", re.findall(regex,string))\n",
    "get_line(regex, string)"
   ]
  },
  {
   "cell_type": "code",
   "execution_count": 34,
   "metadata": {},
   "outputs": [
    {
     "name": "stdout",
     "output_type": "stream",
     "text": [
      "Output from re.search:  <re.Match object; span=(132, 135), match=': \"'>\n",
      "Output from re.findall:  [': \"', '\"\\n\\n', ',\\n>', '\\n> ', ', \"', '.\"\\n', '!\\n\\n', '://', '://']\n"
     ]
    },
    {
     "data": {
      "text/plain": [
       "['The excerpt below is from the sea shanty: \"Blow the Man Down\"',\n",
       " '> So I took in all sail and cried, \"Way enough now.\"',\n",
       " 'According to https://en.wikipedia.org/wiki/Blow_the_Man_Down the earliest references to this',\n",
       " 'song date from the 1860s, based on 1987 publication. According to http://www.ranker.com the song']"
      ]
     },
     "execution_count": 34,
     "metadata": {},
     "output_type": "execute_result"
    }
   ],
   "source": [
    "regex = r\"\\W{3}\"    # Three consecutive non-word characters\n",
    "print(\"Output from re.search: \", re.search(regex,string))\n",
    "print(\"Output from re.findall: \", re.findall(regex,string))\n",
    "get_line(regex, string)"
   ]
  },
  {
   "cell_type": "code",
   "execution_count": 35,
   "metadata": {},
   "outputs": [
    {
     "name": "stdout",
     "output_type": "stream",
     "text": [
      "Output from re.search:  <re.Match object; span=(56, 61), match='still'>\n",
      "Output from re.findall:  ['still', 'https', 'ikip', 'this', 'http', 'sits']\n"
     ]
    },
    {
     "data": {
      "text/plain": [
       "['Pirates and sailors, together with songs of the sea are still a favourite theme among many.',\n",
       " 'According to https://en.wikipedia.org/wiki/Blow_the_Man_Down the earliest references to this',\n",
       " 'song date from the 1860s, based on 1987 publication. According to http://www.ranker.com the song',\n",
       " 'sits at #3 out the 12 as one of the most popular sea songs of all time.']"
      ]
     },
     "execution_count": 35,
     "metadata": {},
     "output_type": "execute_result"
    }
   ],
   "source": [
    "regex = r\"[h-lp-t]{4,5}\"    # a set of 4 to 5 letters between h and l or between p and t\n",
    "print(\"Output from re.search: \", re.search(regex,string))\n",
    "print(\"Output from re.findall: \", re.findall(regex,string))\n",
    "get_line(regex, string)"
   ]
  },
  {
   "cell_type": "markdown",
   "metadata": {},
   "source": [
    "### <a id='toc1_7_8_'></a>[Negation of a set [^ ]](#toc0_) [&#8593;](#toc0_)"
   ]
  },
  {
   "cell_type": "code",
   "execution_count": 36,
   "metadata": {},
   "outputs": [
    {
     "name": "stdout",
     "output_type": "stream",
     "text": [
      "Output from re.search:  <re.Match object; span=(491, 496), match='http:'>\n",
      "Output from re.findall:  ['http:']\n"
     ]
    },
    {
     "data": {
      "text/plain": [
       "['song date from the 1860s, based on 1987 publication. According to http://www.ranker.com the song']"
      ]
     },
     "execution_count": 36,
     "metadata": {},
     "output_type": "execute_result"
    }
   ],
   "source": [
    "regex = r\"http[^s]\"        # Negating the presence of a an \"s\" after \"http\"\n",
    "print(\"Output from re.search: \", re.search(regex,string))\n",
    "print(\"Output from re.findall: \", re.findall(regex,string))\n",
    "get_line(regex, string)"
   ]
  },
  {
   "cell_type": "code",
   "execution_count": 37,
   "metadata": {},
   "outputs": [
    {
     "name": "stdout",
     "output_type": "stream",
     "text": [
      "Output from re.search:  <re.Match object; span=(444, 449), match='1860s'>\n",
      "Output from re.findall:  ['1860s']\n"
     ]
    },
    {
     "data": {
      "text/plain": [
       "['song date from the 1860s, based on 1987 publication. According to http://www.ranker.com the song']"
      ]
     },
     "execution_count": 37,
     "metadata": {},
     "output_type": "execute_result"
    }
   ],
   "source": [
    "regex = r\"\\d{4}[^\\s]\"        # Negating the presence of a \"space\" after any sequence of four digits\n",
    "print(\"Output from re.search: \", re.search(regex,string))\n",
    "print(\"Output from re.findall: \", re.findall(regex,string))\n",
    "get_line(regex, string)\n",
    "# Note:\n",
    "# Notice how 1860 and 1987 are referenced in the same sentence.\n",
    "# However, notice how 1987 is followed by a space, whereas 1860 is followed by the letter \"s\"\n",
    "# Only \"1860s\" is a match, because the query rejects the presence of a space after four digits."
   ]
  },
  {
   "cell_type": "code",
   "execution_count": 38,
   "metadata": {},
   "outputs": [
    {
     "name": "stdout",
     "output_type": "stream",
     "text": [
      "Output from re.search:  <re.Match object; span=(155, 158), match='> S'>\n",
      "Output from re.findall:  ['> S', '> W', '> S', '> G']\n"
     ]
    },
    {
     "data": {
      "text/plain": [
       "['> She was round in the counter and bluff in the bow,',\n",
       " '> Way aye blow the man down',\n",
       " '> So I took in all sail and cried, \"Way enough now.\"',\n",
       " '> Give me some time to blow the man down!']"
      ]
     },
     "execution_count": 38,
     "metadata": {},
     "output_type": "execute_result"
    }
   ],
   "source": [
    "# Recall that ^ serves also as a anchor to the start of a string/line\n",
    "regex = r\"^\\W [A-z]\"        # Sentences that start with a non-word character,\n",
    "                            # followed by a space\n",
    "                            # followed by a letter\n",
    "                            \n",
    "print(\"Output from re.search: \", re.search(regex,string, re.MULTILINE))\n",
    "print(\"Output from re.findall: \", re.findall(regex,string, re.MULTILINE))\n",
    "get_line(regex, string)"
   ]
  },
  {
   "cell_type": "code",
   "execution_count": 39,
   "metadata": {},
   "outputs": [
    {
     "name": "stdout",
     "output_type": "stream",
     "text": [
      "Output from re.search:  <re.Match object; span=(236, 240), match='> So'>\n",
      "Output from re.findall:  ['> So', '> Gi']\n"
     ]
    },
    {
     "data": {
      "text/plain": [
       "['> So I took in all sail and cried, \"Way enough now.\"',\n",
       " '> Give me some time to blow the man down!']"
      ]
     },
     "execution_count": 39,
     "metadata": {},
     "output_type": "execute_result"
    }
   ],
   "source": [
    "# But the meaning of NEAGATION comes only together with the square-brackets\n",
    "regex = r\"^\\W [A-z][^a-h]\"          # Sentences that start with a non-word character,\n",
    "                                    # followed by a space\n",
    "                                    # followed by a letter\n",
    "                                    # followed by any character which is not in the interval [a-h]\n",
    "print(\"Output from re.search: \", re.search(regex,string, re.MULTILINE))\n",
    "print(\"Output from re.findall: \", re.findall(regex,string, re.MULTILINE))\n",
    "get_line(regex, string)"
   ]
  },
  {
   "cell_type": "markdown",
   "metadata": {},
   "source": [
    "### <a id='toc1_7_9_'></a>[Logical OR ```|```](#toc0_)\n"
   ]
  },
  {
   "cell_type": "code",
   "execution_count": 40,
   "metadata": {},
   "outputs": [
    {
     "name": "stdout",
     "output_type": "stream",
     "text": [
      "Output from re.search:  <re.Match object; span=(86, 91), match='many.'>\n",
      "Output from re.findall:  ['many.', 'now.', 'en.', 'wikipedia.', '1860', '1987', 'publication.', 'www.', 'ranker.', '3', '12', 'time.']\n"
     ]
    },
    {
     "data": {
      "text/plain": [
       "['Pirates and sailors, together with songs of the sea are still a favourite theme among many.',\n",
       " '> So I took in all sail and cried, \"Way enough now.\"',\n",
       " 'According to https://en.wikipedia.org/wiki/Blow_the_Man_Down the earliest references to this',\n",
       " 'song date from the 1860s, based on 1987 publication. According to http://www.ranker.com the song',\n",
       " 'sits at #3 out the 12 as one of the most popular sea songs of all time.']"
      ]
     },
     "execution_count": 40,
     "metadata": {},
     "output_type": "execute_result"
    }
   ],
   "source": [
    "regex = r\"[a-z]+\\.|[0-9]+\"        # a set of letters followed by a period mark OR a set of digits\n",
    "print(\"Output from re.search: \", re.search(regex,string, re.MULTILINE))\n",
    "print(\"Output from re.findall: \", re.findall(regex,string, re.MULTILINE))\n",
    "get_line(regex, string)"
   ]
  },
  {
   "cell_type": "markdown",
   "metadata": {},
   "source": [
    "## <a id='toc1_8_'></a>[Capturing Groups ```( )```](#toc0_)"
   ]
  },
  {
   "cell_type": "code",
   "execution_count": 41,
   "metadata": {},
   "outputs": [
    {
     "name": "stdout",
     "output_type": "stream",
     "text": [
      "<re.Match object; span=(0, 13), match='Lovelace, Ada'>\n"
     ]
    }
   ],
   "source": [
    "string = \"Lovelace, Ada\"\n",
    "regex = r\"^(\\w*), (\\w*)$\"\n",
    "result = re.search(regex,string)\n",
    "print(result)"
   ]
  },
  {
   "cell_type": "code",
   "execution_count": 42,
   "metadata": {},
   "outputs": [
    {
     "data": {
      "text/plain": [
       "('Lovelace', 'Ada')"
      ]
     },
     "execution_count": 42,
     "metadata": {},
     "output_type": "execute_result"
    }
   ],
   "source": [
    "result.groups()"
   ]
  },
  {
   "cell_type": "markdown",
   "metadata": {},
   "source": [
    "## <a id='toc1_9_'></a>[Applying RegEx to Logs](#toc0_)\n",
    "\n",
    "### <a id='toc1_9_1_'></a>[About the Data](#toc0_)\n",
    "\n",
    "To look at regular expressions we will use a log file issued by a supercomputer called \"Thunderbird\" that in 2006 featured as #6 in the top500 list of the most powerful computers.\n",
    "\n",
    "The file is accessible on [this GitHub repository](https://github.com/logpai/loghub/blob/master/Thunderbird/Thunderbird_2k.log) and it contains 2000 entries. It is only a small fraction of the original dataset that contains over 211 million events that were used in a [2007 paper by Oliner & Stearley](https://www.computer.org/csdl/proceedings-article/dsn/2007/28550575/12OmNB1eJDn) that aimed at predicting hardware failures through analysis of computer logs.\n",
    "\n",
    "To access the complete dataset, you can get it [here](https://www.usenix.org/cfdr-data#hpc4)."
   ]
  },
  {
   "cell_type": "markdown",
   "metadata": {},
   "source": [
    "### <a id='toc1_9_2_'></a>[Checking out the data](#toc0_)"
   ]
  },
  {
   "cell_type": "code",
   "execution_count": 85,
   "metadata": {},
   "outputs": [
    {
     "data": {
      "text/plain": [
       "['- 1131566461 2005.11.09 dn228 Nov 9 12:01:01 dn228/dn228 crond(pam_unix)[2915]: session closed for user root\\n',\n",
       " '- 1131566461 2005.11.09 dn228 Nov 9 12:01:01 dn228/dn228 crond(pam_unix)[2915]: session opened for user root by (uid=0)\\n',\n",
       " '- 1131566461 2005.11.09 dn228 Nov 9 12:01:01 dn228/dn228 crond[2916]: (root) CMD (run-parts /etc/cron.hourly)\\n',\n",
       " '- 1131566461 2005.11.09 dn261 Nov 9 12:01:01 dn261/dn261 crond(pam_unix)[2907]: session closed for user root\\n',\n",
       " '- 1131566461 2005.11.09 dn261 Nov 9 12:01:01 dn261/dn261 crond(pam_unix)[2907]: session opened for user root by (uid=0)\\n',\n",
       " '- 1131566461 2005.11.09 dn261 Nov 9 12:01:01 dn261/dn261 crond[2908]: (root) CMD (run-parts /etc/cron.hourly)\\n',\n",
       " '- 1131566461 2005.11.09 dn3 Nov 9 12:01:01 dn3/dn3 crond(pam_unix)[2907]: session closed for user root\\n',\n",
       " '- 1131566461 2005.11.09 dn3 Nov 9 12:01:01 dn3/dn3 crond(pam_unix)[2907]: session opened for user root by (uid=0)\\n',\n",
       " '- 1131566461 2005.11.09 dn3 Nov 9 12:01:01 dn3/dn3 crond[2908]: (root) CMD (run-parts /etc/cron.hourly)\\n',\n",
       " '- 1131566461 2005.11.09 dn596 Nov 9 12:01:01 dn596/dn596 crond(pam_unix)[2727]: session closed for user root\\n']"
      ]
     },
     "execution_count": 85,
     "metadata": {},
     "output_type": "execute_result"
    }
   ],
   "source": [
    "# Load example data where each line is an element of a list\n",
    "with open(\".\\data\\Thunderbird_2k.log\", \"r\") as f:\n",
    "    log_file = f.readlines()\n",
    "\n",
    "# Get the first 10 elements of the log_file list\n",
    "log_file[0:10]"
   ]
  },
  {
   "cell_type": "markdown",
   "metadata": {},
   "source": [
    "The log features the word _**crond**_ which is the name of a process that is short for \"Cron Daemon\":\n",
    ">- **\"Cron\"**: is a job scheduling utility in UNIX-based systems. Cron is used to schedule tasks to run automatically at specific times. You can apply this skill in many scenarios, such as automating basic and repetitive tasks, including scheduling backups or collecting system logs periodically.\n",
    ">- **\"Daemon\"**: In Unix-like systems, a daemon is a computer program that runs as a background process, rather than being under the direct control of an interactive user. Traditionally, the process names of a daemon end with the letter \"d\", for clarification that the process is in fact a daemon, and for differentiation between a daemon and a normal computer program.\n",
    ">- **\"pam_unix\"** attached to _crond_ to form _crond(pam_unix)_ indicates that crond daemon is using the **pam_unix** module for authentication. This means that when a user or process attempts to interact with the crond daemon, their credentials are being checked using the traditional Unix authentication methods provided by the pam_unix module. \n",
    "\n",
    "So these logs seem to be mostly associated with scheduled tasks run automatically via **crond**.\n",
    "\n",
    "Every time _crond_ is activated it gives rise to a process bearing its name and to which a unique identifier (ID) is issued and shown between squared brackets, e.g. [2915].\n",
    "\n",
    "Each entry ends with a small text message describing the event that the process raised, such as \"session closed for user root\""
   ]
  },
  {
   "cell_type": "markdown",
   "metadata": {},
   "source": [
    "### Which daemon processes are being called in the logs?"
   ]
  },
  {
   "cell_type": "code",
   "execution_count": 143,
   "metadata": {},
   "outputs": [
    {
     "data": {
      "text/plain": [
       "['crond',\n",
       " 'gmetad',\n",
       " 'ntpd',\n",
       " 'sshd',\n",
       " 'send',\n",
       " 'xinetd',\n",
       " 'snmpd',\n",
       " 'statd',\n",
       " 'smartd']"
      ]
     },
     "execution_count": 143,
     "metadata": {},
     "output_type": "execute_result"
    }
   ],
   "source": [
    "import re\n",
    "regex = r\"(\\w{1,10}d)[\\(\\w\\)]*\\[\\d*\\]\" # extract the name of the processes that end with \"d\"\n",
    "\n",
    "daemon_lst = []\n",
    "non_daemon_lst = []\n",
    "for line in log_file:\n",
    "    result = re.findall(regex,line)\n",
    "    if len(result) != 0 and result[0] not in daemon_lst:        \n",
    "            daemon_lst.append((result[0]))\n",
    "    elif len(result) == 0:\n",
    "        non_daemon_lst.append(line)\n",
    "\n",
    "daemon_lst\n"
   ]
  },
  {
   "cell_type": "code",
   "execution_count": 121,
   "metadata": {},
   "outputs": [
    {
     "data": {
      "text/plain": [
       "['- 1131566470 2005.11.09 tbird-sm1 Nov 9 12:01:10 src@tbird-sm1 ib_sm.x[24904]: [ib_sm_sweep.c:1831]: ********************** NEW SWEEP ********************\\n',\n",
       " '- 1131566474 2005.11.09 tbird-sm1 Nov 9 12:01:14 src@tbird-sm1 ib_sm.x[24904]: [ib_sm_sweep.c:1455]: No topology change\\n',\n",
       " '- 1131566474 2005.11.09 tbird-sm1 Nov 9 12:01:14 src@tbird-sm1 ib_sm.x[24904]: [ib_sm_sweep.c:1482]: No configuration change required\\n',\n",
       " '- 1131566484 2005.11.09 tbird-sm1 Nov 9 12:01:24 src@tbird-sm1 ib_sm.x[24904]: [ib_sm_sweep.c:1831]: ********************** NEW SWEEP ********************\\n',\n",
       " '- 1131566488 2005.11.09 tbird-sm1 Nov 9 12:01:28 src@tbird-sm1 ib_sm.x[24904]: [ib_sm_sweep.c:1455]: No topology change\\n',\n",
       " '- 1131566488 2005.11.09 tbird-sm1 Nov 9 12:01:28 src@tbird-sm1 ib_sm.x[24904]: [ib_sm_sweep.c:1482]: No configuration change required\\n',\n",
       " '- 1131566498 2005.11.09 tbird-sm1 Nov 9 12:01:38 src@tbird-sm1 ib_sm.x[24904]: [ib_sm_sweep.c:1831]: ********************** NEW SWEEP ********************\\n',\n",
       " '- 1131566501 2005.11.09 aadmin1 Nov 9 12:01:41 src@aadmin1 dhcpd: DHCPDISCOVER from 00:11:43:e3:ba:c3 via eth1\\n',\n",
       " '- 1131566501 2005.11.09 aadmin1 Nov 9 12:01:41 src@aadmin1 dhcpd: DHCPOFFER on 10.100.4.251 to 00:11:43:e3:ba:c3 via eth1\\n',\n",
       " '- 1131566501 2005.11.09 aadmin2 Nov 9 12:01:41 src@aadmin2 dhcpd: DHCPDISCOVER from 00:11:43:e3:ba:c3 via eth1: network A_net: no free leases\\n',\n",
       " '- 1131566501 2005.11.09 aadmin3 Nov 9 12:01:41 src@aadmin3 dhcpd: DHCPDISCOVER from 00:11:43:e3:ba:c3 via eth1: network A_net: no free leases\\n',\n",
       " '- 1131566501 2005.11.09 aadmin4 Nov 9 12:01:41 src@aadmin4 dhcpd: DHCPDISCOVER from 00:11:43:e3:ba:c3 via eth1: network A_net: no free leases\\n',\n",
       " '- 1131566502 2005.11.09 tbird-sm1 Nov 9 12:01:42 src@tbird-sm1 ib_sm.x[24904]: [ib_sm_sweep.c:1455]: No topology change\\n',\n",
       " '- 1131566502 2005.11.09 tbird-sm1 Nov 9 12:01:42 src@tbird-sm1 ib_sm.x[24904]: [ib_sm_sweep.c:1482]: No configuration change required\\n',\n",
       " '- 1131566503 2005.11.09 aadmin1 Nov 9 12:01:43 src@aadmin1 dhcpd: DHCPACK on 10.100.4.251 to 00:11:43:e3:ba:c3 via eth1\\n',\n",
       " '- 1131566503 2005.11.09 aadmin1 Nov 9 12:01:43 src@aadmin1 dhcpd: DHCPREQUEST for 10.100.4.251 (10.100.0.250) from 00:11:43:e3:ba:c3 via eth1\\n',\n",
       " '- 1131566503 2005.11.09 aadmin2 Nov 9 12:01:43 src@aadmin2 dhcpd: DHCPREQUEST for 10.100.4.251 (10.100.0.250) from 00:11:43:e3:ba:c3 via eth1: unknown lease 10.100.4.251.\\n',\n",
       " '- 1131566503 2005.11.09 aadmin3 Nov 9 12:01:43 src@aadmin3 dhcpd: DHCPREQUEST for 10.100.4.251 (10.100.0.250) from 00:11:43:e3:ba:c3 via eth1: unknown lease 10.100.4.251.\\n',\n",
       " '- 1131566503 2005.11.09 aadmin4 Nov 9 12:01:43 src@aadmin4 dhcpd: DHCPREQUEST for 10.100.4.251 (10.100.0.250) from 00:11:43:e3:ba:c3 via eth1: unknown lease 10.100.4.251.\\n',\n",
       " '- 1131566512 2005.11.09 tbird-sm1 Nov 9 12:01:52 src@tbird-sm1 ib_sm.x[24904]: [ib_sm_sweep.c:1831]: ********************** NEW SWEEP ********************\\n',\n",
       " '- 1131566516 2005.11.09 tbird-sm1 Nov 9 12:01:56 src@tbird-sm1 ib_sm.x[24904]: [ib_sm_sweep.c:1455]: No topology change\\n',\n",
       " '- 1131566516 2005.11.09 tbird-sm1 Nov 9 12:01:56 src@tbird-sm1 ib_sm.x[24904]: [ib_sm_sweep.c:1482]: No configuration change required\\n',\n",
       " '- 1131566525 2005.11.09 aadmin1 Nov 9 12:02:05 src@aadmin1 dhcpd: DHCPACK on 10.100.4.251 to 00:11:43:e3:ba:c3 via eth1\\n',\n",
       " '- 1131566525 2005.11.09 aadmin1 Nov 9 12:02:05 src@aadmin1 dhcpd: DHCPDISCOVER from 00:11:43:e3:ba:c3 via eth1\\n',\n",
       " '- 1131566525 2005.11.09 aadmin1 Nov 9 12:02:05 src@aadmin1 dhcpd: DHCPDISCOVER from 00:11:43:e3:ba:c3 via eth1\\n',\n",
       " '- 1131566525 2005.11.09 aadmin1 Nov 9 12:02:05 src@aadmin1 dhcpd: DHCPOFFER on 10.100.4.251 to 00:11:43:e3:ba:c3 via eth1\\n',\n",
       " '- 1131566525 2005.11.09 aadmin1 Nov 9 12:02:05 src@aadmin1 dhcpd: DHCPOFFER on 10.100.4.251 to 00:11:43:e3:ba:c3 via eth1\\n',\n",
       " '- 1131566525 2005.11.09 aadmin1 Nov 9 12:02:05 src@aadmin1 dhcpd: DHCPREQUEST for 10.100.4.251 (10.100.0.250) from 00:11:43:e3:ba:c3 via eth1\\n',\n",
       " '- 1131566525 2005.11.09 aadmin2 Nov 9 12:02:05 src@aadmin2 dhcpd: DHCPDISCOVER from 00:11:43:e3:ba:c3 via eth1: network A_net: no free leases\\n',\n",
       " '- 1131566525 2005.11.09 aadmin2 Nov 9 12:02:05 src@aadmin2 dhcpd: DHCPDISCOVER from 00:11:43:e3:ba:c3 via eth1: network A_net: no free leases\\n',\n",
       " '- 1131566525 2005.11.09 aadmin2 Nov 9 12:02:05 src@aadmin2 dhcpd: DHCPREQUEST for 10.100.4.251 (10.100.0.250) from 00:11:43:e3:ba:c3 via eth1: unknown lease 10.100.4.251.\\n',\n",
       " '- 1131566525 2005.11.09 aadmin3 Nov 9 12:02:05 src@aadmin3 dhcpd: DHCPDISCOVER from 00:11:43:e3:ba:c3 via eth1: network A_net: no free leases\\n',\n",
       " '- 1131566525 2005.11.09 aadmin3 Nov 9 12:02:05 src@aadmin3 dhcpd: DHCPDISCOVER from 00:11:43:e3:ba:c3 via eth1: network A_net: no free leases\\n',\n",
       " '- 1131566525 2005.11.09 aadmin3 Nov 9 12:02:05 src@aadmin3 dhcpd: DHCPREQUEST for 10.100.4.251 (10.100.0.250) from 00:11:43:e3:ba:c3 via eth1: unknown lease 10.100.4.251.\\n',\n",
       " '- 1131566525 2005.11.09 aadmin4 Nov 9 12:02:05 src@aadmin4 dhcpd: DHCPDISCOVER from 00:11:43:e3:ba:c3 via eth1: network A_net: no free leases\\n',\n",
       " '- 1131566525 2005.11.09 aadmin4 Nov 9 12:02:05 src@aadmin4 dhcpd: DHCPDISCOVER from 00:11:43:e3:ba:c3 via eth1: network A_net: no free leases\\n',\n",
       " '- 1131566525 2005.11.09 aadmin4 Nov 9 12:02:05 src@aadmin4 dhcpd: DHCPREQUEST for 10.100.4.251 (10.100.0.250) from 00:11:43:e3:ba:c3 via eth1: unknown lease 10.100.4.251.\\n',\n",
       " '- 1131566526 2005.11.09 tbird-sm1 Nov 9 12:02:06 src@tbird-sm1 ib_sm.x[24904]: [ib_sm_sweep.c:1831]: ********************** NEW SWEEP ********************\\n',\n",
       " '- 1131566527 2005.11.09 aadmin1 Nov 9 12:02:07 src@aadmin1 dhcpd: DHCPACK on 10.100.4.251 to 00:11:43:e3:ba:c3 via eth1\\n',\n",
       " '- 1131566527 2005.11.09 aadmin1 Nov 9 12:02:07 src@aadmin1 dhcpd: DHCPDISCOVER from 00:11:43:e3:ba:c3 via eth1\\n',\n",
       " '- 1131566527 2005.11.09 aadmin1 Nov 9 12:02:07 src@aadmin1 dhcpd: DHCPDISCOVER from 00:11:43:e3:ba:c3 via eth1\\n',\n",
       " '- 1131566527 2005.11.09 aadmin1 Nov 9 12:02:07 src@aadmin1 dhcpd: DHCPOFFER on 10.100.4.251 to 00:11:43:e3:ba:c3 via eth1\\n',\n",
       " '- 1131566527 2005.11.09 aadmin1 Nov 9 12:02:07 src@aadmin1 dhcpd: DHCPOFFER on 10.100.4.251 to 00:11:43:e3:ba:c3 via eth1\\n',\n",
       " '- 1131566527 2005.11.09 aadmin1 Nov 9 12:02:07 src@aadmin1 dhcpd: DHCPREQUEST for 10.100.4.251 (10.100.0.250) from 00:11:43:e3:ba:c3 via eth1\\n',\n",
       " '- 1131566527 2005.11.09 aadmin2 Nov 9 12:02:07 src@aadmin2 dhcpd: DHCPDISCOVER from 00:11:43:e3:ba:c3 via eth1: network A_net: no free leases\\n',\n",
       " '- 1131566527 2005.11.09 aadmin2 Nov 9 12:02:07 src@aadmin2 dhcpd: DHCPDISCOVER from 00:11:43:e3:ba:c3 via eth1: network A_net: no free leases\\n',\n",
       " '- 1131566527 2005.11.09 aadmin2 Nov 9 12:02:07 src@aadmin2 dhcpd: DHCPREQUEST for 10.100.4.251 (10.100.0.250) from 00:11:43:e3:ba:c3 via eth1: unknown lease 10.100.4.251.\\n',\n",
       " '- 1131566527 2005.11.09 aadmin3 Nov 9 12:02:07 src@aadmin3 dhcpd: DHCPDISCOVER from 00:11:43:e3:ba:c3 via eth1: network A_net: no free leases\\n',\n",
       " '- 1131566527 2005.11.09 aadmin3 Nov 9 12:02:07 src@aadmin3 dhcpd: DHCPDISCOVER from 00:11:43:e3:ba:c3 via eth1: network A_net: no free leases\\n',\n",
       " '- 1131566527 2005.11.09 aadmin3 Nov 9 12:02:07 src@aadmin3 dhcpd: DHCPREQUEST for 10.100.4.251 (10.100.0.250) from 00:11:43:e3:ba:c3 via eth1: unknown lease 10.100.4.251.\\n',\n",
       " '- 1131566527 2005.11.09 aadmin4 Nov 9 12:02:07 src@aadmin4 dhcpd: DHCPDISCOVER from 00:11:43:e3:ba:c3 via eth1: network A_net: no free leases\\n',\n",
       " '- 1131566527 2005.11.09 aadmin4 Nov 9 12:02:07 src@aadmin4 dhcpd: DHCPDISCOVER from 00:11:43:e3:ba:c3 via eth1: network A_net: no free leases\\n',\n",
       " '- 1131566527 2005.11.09 aadmin4 Nov 9 12:02:07 src@aadmin4 dhcpd: DHCPREQUEST for 10.100.4.251 (10.100.0.250) from 00:11:43:e3:ba:c3 via eth1: unknown lease 10.100.4.251.\\n',\n",
       " '- 1131566530 2005.11.09 tbird-sm1 Nov 9 12:02:10 src@tbird-sm1 ib_sm.x[24904]: [ib_sm_sweep.c:1455]: No topology change\\n',\n",
       " '- 1131566530 2005.11.09 tbird-sm1 Nov 9 12:02:10 src@tbird-sm1 ib_sm.x[24904]: [ib_sm_sweep.c:1482]: No configuration change required\\n',\n",
       " '- 1131566540 2005.11.09 tbird-sm1 Nov 9 12:02:20 src@tbird-sm1 ib_sm.x[24904]: [ib_sm_sweep.c:1831]: ********************** NEW SWEEP ********************\\n',\n",
       " '- 1131566544 2005.11.09 tbird-sm1 Nov 9 12:02:24 src@tbird-sm1 ib_sm.x[24904]: [ib_sm_sweep.c:1455]: No topology change\\n',\n",
       " '- 1131566544 2005.11.09 tbird-sm1 Nov 9 12:02:24 src@tbird-sm1 ib_sm.x[24904]: [ib_sm_sweep.c:1482]: No configuration change required\\n',\n",
       " '- 1131566554 2005.11.09 tbird-sm1 Nov 9 12:02:34 src@tbird-sm1 ib_sm.x[24904]: [ib_sm_sweep.c:1831]: ********************** NEW SWEEP ********************\\n',\n",
       " '- 1131566558 2005.11.09 tbird-sm1 Nov 9 12:02:38 src@tbird-sm1 ib_sm.x[24904]: [ib_sm_sweep.c:1455]: No topology change\\n',\n",
       " '- 1131566558 2005.11.09 tbird-sm1 Nov 9 12:02:38 src@tbird-sm1 ib_sm.x[24904]: [ib_sm_sweep.c:1482]: No configuration change required\\n',\n",
       " '- 1131566568 2005.11.09 tbird-sm1 Nov 9 12:02:48 src@tbird-sm1 ib_sm.x[24904]: [ib_sm_sweep.c:1831]: ********************** NEW SWEEP ********************\\n',\n",
       " '- 1131566572 2005.11.09 tbird-sm1 Nov 9 12:02:52 src@tbird-sm1 ib_sm.x[24904]: [ib_sm_sweep.c:1455]: No topology change\\n',\n",
       " '- 1131566572 2005.11.09 tbird-sm1 Nov 9 12:02:52 src@tbird-sm1 ib_sm.x[24904]: [ib_sm_sweep.c:1482]: No configuration change required\\n',\n",
       " '- 1131566582 2005.11.09 tbird-sm1 Nov 9 12:03:02 src@tbird-sm1 ib_sm.x[24904]: [ib_sm_sweep.c:1831]: ********************** NEW SWEEP ********************\\n',\n",
       " '- 1131566586 2005.11.09 tbird-sm1 Nov 9 12:03:06 src@tbird-sm1 ib_sm.x[24904]: [ib_sm_sweep.c:1455]: No topology change\\n',\n",
       " '- 1131566586 2005.11.09 tbird-sm1 Nov 9 12:03:06 src@tbird-sm1 ib_sm.x[24904]: [ib_sm_sweep.c:1482]: No configuration change required\\n',\n",
       " '- 1131566596 2005.11.09 tbird-sm1 Nov 9 12:03:16 src@tbird-sm1 ib_sm.x[24904]: [ib_sm_sweep.c:1831]: ********************** NEW SWEEP ********************\\n',\n",
       " '- 1131566600 2005.11.09 tbird-sm1 Nov 9 12:03:20 src@tbird-sm1 ib_sm.x[24904]: [ib_sm_sweep.c:1455]: No topology change\\n',\n",
       " '- 1131566600 2005.11.09 tbird-sm1 Nov 9 12:03:20 src@tbird-sm1 ib_sm.x[24904]: [ib_sm_sweep.c:1482]: No configuration change required\\n',\n",
       " '- 1131566610 2005.11.09 tbird-sm1 Nov 9 12:03:30 src@tbird-sm1 ib_sm.x[24904]: [ib_sm_sweep.c:1831]: ********************** NEW SWEEP ********************\\n',\n",
       " '- 1131566614 2005.11.09 tbird-sm1 Nov 9 12:03:34 src@tbird-sm1 ib_sm.x[24904]: [ib_sm_sweep.c:1455]: No topology change\\n',\n",
       " '- 1131566614 2005.11.09 tbird-sm1 Nov 9 12:03:34 src@tbird-sm1 ib_sm.x[24904]: [ib_sm_sweep.c:1482]: No configuration change required\\n',\n",
       " '- 1131566624 2005.11.09 tbird-sm1 Nov 9 12:03:44 src@tbird-sm1 ib_sm.x[24904]: [ib_sm_sweep.c:1831]: ********************** NEW SWEEP ********************\\n',\n",
       " '- 1131566628 2005.11.09 tbird-sm1 Nov 9 12:03:48 src@tbird-sm1 ib_sm.x[24904]: [ib_sm_sweep.c:1455]: No topology change\\n',\n",
       " '- 1131566628 2005.11.09 tbird-sm1 Nov 9 12:03:48 src@tbird-sm1 ib_sm.x[24904]: [ib_sm_sweep.c:1482]: No configuration change required\\n',\n",
       " '- 1131566638 2005.11.09 tbird-sm1 Nov 9 12:03:58 src@tbird-sm1 ib_sm.x[24904]: [ib_sm_sweep.c:1831]: ********************** NEW SWEEP ********************\\n',\n",
       " '- 1131566642 2005.11.09 tbird-sm1 Nov 9 12:04:02 src@tbird-sm1 ib_sm.x[24904]: [ib_sm_sweep.c:1455]: No topology change\\n',\n",
       " '- 1131566642 2005.11.09 tbird-sm1 Nov 9 12:04:02 src@tbird-sm1 ib_sm.x[24904]: [ib_sm_sweep.c:1482]: No configuration change required\\n',\n",
       " '- 1131566652 2005.11.09 tbird-sm1 Nov 9 12:04:12 src@tbird-sm1 ib_sm.x[24904]: [ib_sm_sweep.c:1831]: ********************** NEW SWEEP ********************\\n',\n",
       " '- 1131566656 2005.11.09 tbird-sm1 Nov 9 12:04:16 src@tbird-sm1 ib_sm.x[24904]: [ib_sm_sweep.c:1455]: No topology change\\n',\n",
       " '- 1131566656 2005.11.09 tbird-sm1 Nov 9 12:04:16 src@tbird-sm1 ib_sm.x[24904]: [ib_sm_sweep.c:1482]: No configuration change required\\n',\n",
       " '- 1131566666 2005.11.09 tbird-sm1 Nov 9 12:04:26 src@tbird-sm1 ib_sm.x[24904]: [ib_sm_sweep.c:1831]: ********************** NEW SWEEP ********************\\n',\n",
       " '- 1131566670 2005.11.09 tbird-sm1 Nov 9 12:04:30 src@tbird-sm1 ib_sm.x[24904]: [ib_sm_sweep.c:1455]: No topology change\\n',\n",
       " '- 1131566670 2005.11.09 tbird-sm1 Nov 9 12:04:30 src@tbird-sm1 ib_sm.x[24904]: [ib_sm_sweep.c:1482]: No configuration change required\\n',\n",
       " '- 1131566680 2005.11.09 tbird-sm1 Nov 9 12:04:40 src@tbird-sm1 ib_sm.x[24904]: [ib_sm_sweep.c:1831]: ********************** NEW SWEEP ********************\\n',\n",
       " '- 1131566684 2005.11.09 tbird-sm1 Nov 9 12:04:44 src@tbird-sm1 ib_sm.x[24904]: [ib_sm_sweep.c:1455]: No topology change\\n',\n",
       " '- 1131566684 2005.11.09 tbird-sm1 Nov 9 12:04:44 src@tbird-sm1 ib_sm.x[24904]: [ib_sm_sweep.c:1482]: No configuration change required\\n',\n",
       " '- 1131566694 2005.11.09 tbird-sm1 Nov 9 12:04:54 src@tbird-sm1 ib_sm.x[24904]: [ib_sm_sweep.c:1831]: ********************** NEW SWEEP ********************\\n',\n",
       " '- 1131566698 2005.11.09 tbird-sm1 Nov 9 12:04:58 src@tbird-sm1 ib_sm.x[24904]: [ib_sm_sweep.c:1455]: No topology change\\n',\n",
       " '- 1131566698 2005.11.09 tbird-sm1 Nov 9 12:04:58 src@tbird-sm1 ib_sm.x[24904]: [ib_sm_sweep.c:1482]: No configuration change required\\n',\n",
       " '- 1131566708 2005.11.09 tbird-sm1 Nov 9 12:05:08 src@tbird-sm1 ib_sm.x[24904]: [ib_sm_sweep.c:1831]: ********************** NEW SWEEP ********************\\n',\n",
       " '- 1131566712 2005.11.09 tbird-sm1 Nov 9 12:05:12 src@tbird-sm1 ib_sm.x[24904]: [ib_sm_sweep.c:1455]: No topology change\\n',\n",
       " '- 1131566712 2005.11.09 tbird-sm1 Nov 9 12:05:12 src@tbird-sm1 ib_sm.x[24904]: [ib_sm_sweep.c:1482]: No configuration change required\\n',\n",
       " '- 1131566722 2005.11.09 tbird-sm1 Nov 9 12:05:22 src@tbird-sm1 ib_sm.x[24904]: [ib_sm_sweep.c:1831]: ********************** NEW SWEEP ********************\\n',\n",
       " '- 1131566726 2005.11.09 tbird-sm1 Nov 9 12:05:26 src@tbird-sm1 ib_sm.x[24904]: [ib_sm_sweep.c:1455]: No topology change\\n',\n",
       " '- 1131566726 2005.11.09 tbird-sm1 Nov 9 12:05:26 src@tbird-sm1 ib_sm.x[24904]: [ib_sm_sweep.c:1482]: No configuration change required\\n',\n",
       " '- 1131566736 2005.11.09 tbird-sm1 Nov 9 12:05:36 src@tbird-sm1 ib_sm.x[24904]: [ib_sm_sweep.c:1831]: ********************** NEW SWEEP ********************\\n',\n",
       " '- 1131566740 2005.11.09 tbird-sm1 Nov 9 12:05:40 src@tbird-sm1 ib_sm.x[24904]: [ib_sm_sweep.c:1455]: No topology change\\n',\n",
       " '- 1131566740 2005.11.09 tbird-sm1 Nov 9 12:05:40 src@tbird-sm1 ib_sm.x[24904]: [ib_sm_sweep.c:1482]: No configuration change required\\n',\n",
       " '- 1131566750 2005.11.09 tbird-sm1 Nov 9 12:05:50 src@tbird-sm1 ib_sm.x[24904]: [ib_sm_sweep.c:1831]: ********************** NEW SWEEP ********************\\n',\n",
       " '- 1131566754 2005.11.09 tbird-sm1 Nov 9 12:05:54 src@tbird-sm1 ib_sm.x[24904]: [ib_sm_sweep.c:1455]: No topology change\\n',\n",
       " '- 1131566754 2005.11.09 tbird-sm1 Nov 9 12:05:54 src@tbird-sm1 ib_sm.x[24904]: [ib_sm_sweep.c:1482]: No configuration change required\\n',\n",
       " '- 1131566764 2005.11.09 tbird-sm1 Nov 9 12:06:04 src@tbird-sm1 ib_sm.x[24904]: [ib_sm_sweep.c:1831]: ********************** NEW SWEEP ********************\\n',\n",
       " '- 1131566768 2005.11.09 tbird-sm1 Nov 9 12:06:08 src@tbird-sm1 ib_sm.x[24904]: [ib_sm_sweep.c:1455]: No topology change\\n',\n",
       " '- 1131566768 2005.11.09 tbird-sm1 Nov 9 12:06:08 src@tbird-sm1 ib_sm.x[24904]: [ib_sm_sweep.c:1482]: No configuration change required\\n',\n",
       " '- 1131566778 2005.11.09 tbird-sm1 Nov 9 12:06:18 src@tbird-sm1 ib_sm.x[24904]: [ib_sm_sweep.c:1831]: ********************** NEW SWEEP ********************\\n',\n",
       " '- 1131566782 2005.11.09 tbird-sm1 Nov 9 12:06:22 src@tbird-sm1 ib_sm.x[24904]: [ib_sm_sweep.c:1455]: No topology change\\n',\n",
       " '- 1131566782 2005.11.09 tbird-sm1 Nov 9 12:06:22 src@tbird-sm1 ib_sm.x[24904]: [ib_sm_sweep.c:1482]: No configuration change required\\n',\n",
       " '- 1131566792 2005.11.09 tbird-sm1 Nov 9 12:06:32 src@tbird-sm1 ib_sm.x[24904]: [ib_sm_sweep.c:1831]: ********************** NEW SWEEP ********************\\n',\n",
       " '- 1131566796 2005.11.09 tbird-sm1 Nov 9 12:06:36 src@tbird-sm1 ib_sm.x[24904]: [ib_sm_sweep.c:1455]: No topology change\\n',\n",
       " '- 1131566796 2005.11.09 tbird-sm1 Nov 9 12:06:36 src@tbird-sm1 ib_sm.x[24904]: [ib_sm_sweep.c:1482]: No configuration change required\\n',\n",
       " '- 1131566806 2005.11.09 tbird-sm1 Nov 9 12:06:46 src@tbird-sm1 ib_sm.x[24904]: [ib_sm_sweep.c:1831]: ********************** NEW SWEEP ********************\\n',\n",
       " '- 1131566810 2005.11.09 tbird-sm1 Nov 9 12:06:50 src@tbird-sm1 ib_sm.x[24904]: [ib_sm_sweep.c:1455]: No topology change\\n',\n",
       " '- 1131566810 2005.11.09 tbird-sm1 Nov 9 12:06:50 src@tbird-sm1 ib_sm.x[24904]: [ib_sm_sweep.c:1482]: No configuration change required\\n',\n",
       " '- 1131566820 2005.11.09 tbird-sm1 Nov 9 12:07:00 src@tbird-sm1 ib_sm.x[24904]: [ib_sm_sweep.c:1831]: ********************** NEW SWEEP ********************\\n',\n",
       " '- 1131566824 2005.11.09 tbird-sm1 Nov 9 12:07:04 src@tbird-sm1 ib_sm.x[24904]: [ib_sm_sweep.c:1455]: No topology change\\n',\n",
       " '- 1131566824 2005.11.09 tbird-sm1 Nov 9 12:07:04 src@tbird-sm1 ib_sm.x[24904]: [ib_sm_sweep.c:1482]: No configuration change required\\n',\n",
       " '- 1131566834 2005.11.09 tbird-sm1 Nov 9 12:07:14 src@tbird-sm1 ib_sm.x[24904]: [ib_sm_sweep.c:1831]: ********************** NEW SWEEP ********************\\n',\n",
       " '- 1131566838 2005.11.09 tbird-sm1 Nov 9 12:07:18 src@tbird-sm1 ib_sm.x[24904]: [ib_sm_sweep.c:1455]: No topology change\\n',\n",
       " '- 1131566838 2005.11.09 tbird-sm1 Nov 9 12:07:18 src@tbird-sm1 ib_sm.x[24904]: [ib_sm_sweep.c:1482]: No configuration change required\\n',\n",
       " '- 1131566848 2005.11.09 tbird-sm1 Nov 9 12:07:28 src@tbird-sm1 ib_sm.x[24904]: [ib_sm_sweep.c:1831]: ********************** NEW SWEEP ********************\\n',\n",
       " '- 1131566852 2005.11.09 tbird-sm1 Nov 9 12:07:32 src@tbird-sm1 ib_sm.x[24904]: [ib_sm_sweep.c:1455]: No topology change\\n',\n",
       " '- 1131566852 2005.11.09 tbird-sm1 Nov 9 12:07:32 src@tbird-sm1 ib_sm.x[24904]: [ib_sm_sweep.c:1482]: No configuration change required\\n',\n",
       " '- 1131566862 2005.11.09 tbird-sm1 Nov 9 12:07:42 src@tbird-sm1 ib_sm.x[24904]: [ib_sm_sweep.c:1831]: ********************** NEW SWEEP ********************\\n',\n",
       " '- 1131566866 2005.11.09 tbird-sm1 Nov 9 12:07:46 src@tbird-sm1 ib_sm.x[24904]: [ib_sm_sweep.c:1455]: No topology change\\n',\n",
       " '- 1131566866 2005.11.09 tbird-sm1 Nov 9 12:07:46 src@tbird-sm1 ib_sm.x[24904]: [ib_sm_sweep.c:1482]: No configuration change required\\n',\n",
       " '- 1131566876 2005.11.09 tbird-sm1 Nov 9 12:07:56 src@tbird-sm1 ib_sm.x[24904]: [ib_sm_sweep.c:1831]: ********************** NEW SWEEP ********************\\n',\n",
       " '- 1131566880 2005.11.09 tbird-sm1 Nov 9 12:08:00 src@tbird-sm1 ib_sm.x[24904]: [ib_sm_sweep.c:1455]: No topology change\\n',\n",
       " '- 1131566880 2005.11.09 tbird-sm1 Nov 9 12:08:00 src@tbird-sm1 ib_sm.x[24904]: [ib_sm_sweep.c:1482]: No configuration change required\\n',\n",
       " '- 1131566890 2005.11.09 tbird-sm1 Nov 9 12:08:10 src@tbird-sm1 ib_sm.x[24904]: [ib_sm_sweep.c:1831]: ********************** NEW SWEEP ********************\\n',\n",
       " '- 1131566894 2005.11.09 tbird-sm1 Nov 9 12:08:14 src@tbird-sm1 ib_sm.x[24904]: [ib_sm_sweep.c:1455]: No topology change\\n',\n",
       " '- 1131566894 2005.11.09 tbird-sm1 Nov 9 12:08:14 src@tbird-sm1 ib_sm.x[24904]: [ib_sm_sweep.c:1482]: No configuration change required\\n',\n",
       " '- 1131566904 2005.11.09 tbird-sm1 Nov 9 12:08:24 src@tbird-sm1 ib_sm.x[24904]: [ib_sm_sweep.c:1831]: ********************** NEW SWEEP ********************\\n',\n",
       " '- 1131566908 2005.11.09 tbird-sm1 Nov 9 12:08:28 src@tbird-sm1 ib_sm.x[24904]: [ib_sm_sweep.c:1455]: No topology change\\n',\n",
       " '- 1131566908 2005.11.09 tbird-sm1 Nov 9 12:08:28 src@tbird-sm1 ib_sm.x[24904]: [ib_sm_sweep.c:1482]: No configuration change required\\n',\n",
       " '- 1131566918 2005.11.09 tbird-sm1 Nov 9 12:08:38 src@tbird-sm1 ib_sm.x[24904]: [ib_sm_sweep.c:1831]: ********************** NEW SWEEP ********************\\n',\n",
       " '- 1131566922 2005.11.09 tbird-sm1 Nov 9 12:08:42 src@tbird-sm1 ib_sm.x[24904]: [ib_sm_sweep.c:1455]: No topology change\\n',\n",
       " '- 1131566922 2005.11.09 tbird-sm1 Nov 9 12:08:42 src@tbird-sm1 ib_sm.x[24904]: [ib_sm_sweep.c:1482]: No configuration change required\\n',\n",
       " '- 1131566932 2005.11.09 tbird-sm1 Nov 9 12:08:52 src@tbird-sm1 ib_sm.x[24904]: [ib_sm_sweep.c:1831]: ********************** NEW SWEEP ********************\\n',\n",
       " '- 1131566936 2005.11.09 tbird-sm1 Nov 9 12:08:56 src@tbird-sm1 ib_sm.x[24904]: [ib_sm_sweep.c:1455]: No topology change\\n',\n",
       " '- 1131566936 2005.11.09 tbird-sm1 Nov 9 12:08:56 src@tbird-sm1 ib_sm.x[24904]: [ib_sm_sweep.c:1482]: No configuration change required\\n',\n",
       " '- 1131566946 2005.11.09 tbird-sm1 Nov 9 12:09:06 src@tbird-sm1 ib_sm.x[24904]: [ib_sm_sweep.c:1831]: ********************** NEW SWEEP ********************\\n',\n",
       " '- 1131566950 2005.11.09 tbird-sm1 Nov 9 12:09:10 src@tbird-sm1 ib_sm.x[24904]: [ib_sm_sweep.c:1455]: No topology change\\n',\n",
       " '- 1131566950 2005.11.09 tbird-sm1 Nov 9 12:09:10 src@tbird-sm1 ib_sm.x[24904]: [ib_sm_sweep.c:1482]: No configuration change required\\n',\n",
       " '- 1131566960 2005.11.09 tbird-sm1 Nov 9 12:09:20 src@tbird-sm1 ib_sm.x[24904]: [ib_sm_sweep.c:1831]: ********************** NEW SWEEP ********************\\n',\n",
       " '- 1131566964 2005.11.09 tbird-sm1 Nov 9 12:09:24 src@tbird-sm1 ib_sm.x[24904]: [ib_sm_sweep.c:1455]: No topology change\\n',\n",
       " '- 1131566964 2005.11.09 tbird-sm1 Nov 9 12:09:24 src@tbird-sm1 ib_sm.x[24904]: [ib_sm_sweep.c:1482]: No configuration change required\\n',\n",
       " '- 1131566974 2005.11.09 tbird-sm1 Nov 9 12:09:34 src@tbird-sm1 ib_sm.x[24904]: [ib_sm_sweep.c:1831]: ********************** NEW SWEEP ********************\\n',\n",
       " '- 1131566978 2005.11.09 tbird-sm1 Nov 9 12:09:38 src@tbird-sm1 ib_sm.x[24904]: [ib_sm_sweep.c:1455]: No topology change\\n',\n",
       " '- 1131566978 2005.11.09 tbird-sm1 Nov 9 12:09:38 src@tbird-sm1 ib_sm.x[24904]: [ib_sm_sweep.c:1482]: No configuration change required\\n',\n",
       " '- 1131566988 2005.11.09 tbird-sm1 Nov 9 12:09:48 src@tbird-sm1 ib_sm.x[24904]: [ib_sm_sweep.c:1831]: ********************** NEW SWEEP ********************\\n',\n",
       " '- 1131566992 2005.11.09 tbird-sm1 Nov 9 12:09:52 src@tbird-sm1 ib_sm.x[24904]: [ib_sm_sweep.c:1455]: No topology change\\n',\n",
       " '- 1131566992 2005.11.09 tbird-sm1 Nov 9 12:09:52 src@tbird-sm1 ib_sm.x[24904]: [ib_sm_sweep.c:1482]: No configuration change required\\n',\n",
       " '- 1131567002 2005.11.09 tbird-sm1 Nov 9 12:10:02 src@tbird-sm1 ib_sm.x[24904]: [ib_sm_sweep.c:1831]: ********************** NEW SWEEP ********************\\n',\n",
       " '- 1131567006 2005.11.09 tbird-sm1 Nov 9 12:10:06 src@tbird-sm1 ib_sm.x[24904]: [ib_sm_sweep.c:1455]: No topology change\\n',\n",
       " '- 1131567006 2005.11.09 tbird-sm1 Nov 9 12:10:06 src@tbird-sm1 ib_sm.x[24904]: [ib_sm_sweep.c:1482]: No configuration change required\\n',\n",
       " '- 1131567016 2005.11.09 tbird-sm1 Nov 9 12:10:16 src@tbird-sm1 ib_sm.x[24904]: [ib_sm_sweep.c:1831]: ********************** NEW SWEEP ********************\\n',\n",
       " '- 1131567020 2005.11.09 tbird-sm1 Nov 9 12:10:20 src@tbird-sm1 ib_sm.x[24904]: [ib_sm_sweep.c:1455]: No topology change\\n',\n",
       " '- 1131567020 2005.11.09 tbird-sm1 Nov 9 12:10:20 src@tbird-sm1 ib_sm.x[24904]: [ib_sm_sweep.c:1482]: No configuration change required\\n',\n",
       " '- 1131567030 2005.11.09 tbird-sm1 Nov 9 12:10:30 src@tbird-sm1 ib_sm.x[24904]: [ib_sm_sweep.c:1831]: ********************** NEW SWEEP ********************\\n',\n",
       " '- 1131567034 2005.11.09 tbird-sm1 Nov 9 12:10:34 src@tbird-sm1 ib_sm.x[24904]: [ib_sm_sweep.c:1455]: No topology change\\n',\n",
       " '- 1131567034 2005.11.09 tbird-sm1 Nov 9 12:10:34 src@tbird-sm1 ib_sm.x[24904]: [ib_sm_sweep.c:1482]: No configuration change required\\n',\n",
       " '- 1131567043 2005.11.09 tbird-admin1 Nov 9 12:10:43 local@tbird-admin1 - User ID: CentOS-4 (Kernel Module GPG key)\\n',\n",
       " '- 1131567043 2005.11.09 tbird-admin1 Nov 9 12:10:43 local@tbird-admin1 ACPI: (supports S0 S4 S5)\\n',\n",
       " '- 1131567043 2005.11.09 tbird-admin1 Nov 9 12:10:43 local@tbird-admin1 ACPI: DSDT (v001 DELL PE BKC 0x00000001 MSFT 0x0100000e) @ 0x0000000000000000\\n',\n",
       " '- 1131567043 2005.11.09 tbird-admin1 Nov 9 12:10:43 local@tbird-admin1 ACPI: FADT (v001 DELL PE BKC 0x00000001 MSFT 0x0100000a) @ 0x00000000000fd6b0\\n',\n",
       " '- 1131567043 2005.11.09 tbird-admin1 Nov 9 12:10:43 local@tbird-admin1 ACPI: HPET (v001 DELL PE BKC 0x00000001 MSFT 0x0100000a) @ 0x00000000000fd81c\\n',\n",
       " '- 1131567043 2005.11.09 tbird-admin1 Nov 9 12:10:43 local@tbird-admin1 ACPI: HPET id: 0xffffffff base: 0xfed00000\\n',\n",
       " '- 1131567043 2005.11.09 tbird-admin1 Nov 9 12:10:43 local@tbird-admin1 ACPI: INT_SRC_OVR (bus 0 bus_irq 0 global_irq 2 dfl dfl)\\n',\n",
       " '- 1131567043 2005.11.09 tbird-admin1 Nov 9 12:10:43 local@tbird-admin1 ACPI: INT_SRC_OVR (bus 0 bus_irq 9 global_irq 9 high level)\\n',\n",
       " '- 1131567043 2005.11.09 tbird-admin1 Nov 9 12:10:43 local@tbird-admin1 ACPI: IOAPIC (id[0x08] address[0xfec00000] gsi_base[0])\\n',\n",
       " '- 1131567043 2005.11.09 tbird-admin1 Nov 9 12:10:43 local@tbird-admin1 ACPI: IOAPIC (id[0x09] address[0xfec80000] gsi_base[32])\\n',\n",
       " '- 1131567043 2005.11.09 tbird-admin1 Nov 9 12:10:43 local@tbird-admin1 ACPI: IOAPIC (id[0x0a] address[0xfec83000] gsi_base[64])\\n',\n",
       " '- 1131567043 2005.11.09 tbird-admin1 Nov 9 12:10:43 local@tbird-admin1 ACPI: IRQ0 used by override.\\n',\n",
       " '- 1131567043 2005.11.09 tbird-admin1 Nov 9 12:10:43 local@tbird-admin1 ACPI: IRQ2 used by override.\\n',\n",
       " '- 1131567043 2005.11.09 tbird-admin1 Nov 9 12:10:43 local@tbird-admin1 ACPI: IRQ9 used by override.\\n',\n",
       " '- 1131567043 2005.11.09 tbird-admin1 Nov 9 12:10:43 local@tbird-admin1 ACPI: Interpreter enabled\\n',\n",
       " '- 1131567043 2005.11.09 tbird-admin1 Nov 9 12:10:43 local@tbird-admin1 ACPI: LAPIC (acpi_id[0x01] lapic_id[0x00] enabled)\\n',\n",
       " '- 1131567043 2005.11.09 tbird-admin1 Nov 9 12:10:43 local@tbird-admin1 ACPI: LAPIC (acpi_id[0x02] lapic_id[0x06] enabled)\\n',\n",
       " '- 1131567043 2005.11.09 tbird-admin1 Nov 9 12:10:43 local@tbird-admin1 ACPI: LAPIC (acpi_id[0x03] lapic_id[0x01] enabled)\\n',\n",
       " '- 1131567043 2005.11.09 tbird-admin1 Nov 9 12:10:43 local@tbird-admin1 ACPI: LAPIC (acpi_id[0x04] lapic_id[0x07] enabled)\\n',\n",
       " '- 1131567043 2005.11.09 tbird-admin1 Nov 9 12:10:43 local@tbird-admin1 ACPI: LAPIC_NMI (acpi_id[0x01] high edge lint[0x1])\\n',\n",
       " '- 1131567043 2005.11.09 tbird-admin1 Nov 9 12:10:43 local@tbird-admin1 ACPI: LAPIC_NMI (acpi_id[0x02] high edge lint[0x1])\\n',\n",
       " '- 1131567043 2005.11.09 tbird-admin1 Nov 9 12:10:43 local@tbird-admin1 ACPI: LAPIC_NMI (acpi_id[0x03] high edge lint[0x1])\\n',\n",
       " '- 1131567043 2005.11.09 tbird-admin1 Nov 9 12:10:43 local@tbird-admin1 ACPI: LAPIC_NMI (acpi_id[0x04] high edge lint[0x1])\\n',\n",
       " '- 1131567043 2005.11.09 tbird-admin1 Nov 9 12:10:43 local@tbird-admin1 ACPI: Local APIC address 0xfee00000\\n',\n",
       " '- 1131567043 2005.11.09 tbird-admin1 Nov 9 12:10:43 local@tbird-admin1 ACPI: MADT (v001 DELL PE BKC 0x00000001 MSFT 0x0100000a) @ 0x00000000000fd724\\n',\n",
       " '- 1131567043 2005.11.09 tbird-admin1 Nov 9 12:10:43 local@tbird-admin1 ACPI: MCFG (v001 DELL PE BKC 0x00000001 MSFT 0x0100000a) @ 0x00000000000fd854\\n',\n",
       " '- 1131567043 2005.11.09 tbird-admin1 Nov 9 12:10:43 local@tbird-admin1 ACPI: PCI Interrupt Link [LNKA] (IRQs 3 4 5 6 7 10 11 12) *14\\n',\n",
       " '- 1131567043 2005.11.09 tbird-admin1 Nov 9 12:10:43 local@tbird-admin1 ACPI: PCI Interrupt Link [LNKB] (IRQs 3 4 5 6 7 10 *11 12)\\n',\n",
       " '- 1131567043 2005.11.09 tbird-admin1 Nov 9 12:10:43 local@tbird-admin1 ACPI: PCI Interrupt Link [LNKC] (IRQs 3 4 5 6 7 10 11 12) *15\\n',\n",
       " '- 1131567043 2005.11.09 tbird-admin1 Nov 9 12:10:43 local@tbird-admin1 ACPI: PCI Interrupt Link [LNKD] (IRQs 3 4 5 6 7 10 11 12) *0, disabled.\\n',\n",
       " '- 1131567043 2005.11.09 tbird-admin1 Nov 9 12:10:43 local@tbird-admin1 ACPI: PCI Interrupt Link [LNKE] (IRQs 3 4 5 6 7 10 11 12) *0, disabled.\\n',\n",
       " '- 1131567043 2005.11.09 tbird-admin1 Nov 9 12:10:43 local@tbird-admin1 ACPI: PCI Interrupt Link [LNKF] (IRQs 3 4 5 6 7 10 11 12) *0, disabled.\\n',\n",
       " '- 1131567043 2005.11.09 tbird-admin1 Nov 9 12:10:43 local@tbird-admin1 ACPI: PCI Interrupt Link [LNKG] (IRQs 3 4 5 6 7 10 11 12) *0, disabled.\\n',\n",
       " '- 1131567043 2005.11.09 tbird-admin1 Nov 9 12:10:43 local@tbird-admin1 ACPI: PCI Interrupt Link [LNKH] (IRQs 3 4 5 6 7 10 11 12) *0, disabled.\\n',\n",
       " '- 1131567043 2005.11.09 tbird-admin1 Nov 9 12:10:43 local@tbird-admin1 ACPI: PCI Interrupt Routing Table [\\\\_SB_.PCI0.PALO.DOBA._PRT]\\n',\n",
       " '- 1131567043 2005.11.09 tbird-admin1 Nov 9 12:10:43 local@tbird-admin1 ACPI: PCI Interrupt Routing Table [\\\\_SB_.PCI0.PALO.DOBB._PRT]\\n',\n",
       " '- 1131567043 2005.11.09 tbird-admin1 Nov 9 12:10:43 local@tbird-admin1 ACPI: PCI Interrupt Routing Table [\\\\_SB_.PCI0.PALO._PRT]\\n',\n",
       " '- 1131567043 2005.11.09 tbird-admin1 Nov 9 12:10:43 local@tbird-admin1 ACPI: PCI Interrupt Routing Table [\\\\_SB_.PCI0.PBHI.PXB1._PRT]\\n',\n",
       " '- 1131567043 2005.11.09 tbird-admin1 Nov 9 12:10:43 local@tbird-admin1 ACPI: PCI Interrupt Routing Table [\\\\_SB_.PCI0.PBHI.PXB2._PRT]\\n',\n",
       " '- 1131567043 2005.11.09 tbird-admin1 Nov 9 12:10:43 local@tbird-admin1 ACPI: PCI Interrupt Routing Table [\\\\_SB_.PCI0.PBHI._PRT]\\n',\n",
       " '- 1131567043 2005.11.09 tbird-admin1 Nov 9 12:10:43 local@tbird-admin1 ACPI: PCI Interrupt Routing Table [\\\\_SB_.PCI0.PBLO._PRT]\\n',\n",
       " '- 1131567043 2005.11.09 tbird-admin1 Nov 9 12:10:43 local@tbird-admin1 ACPI: PCI Interrupt Routing Table [\\\\_SB_.PCI0.PICH._PRT]\\n',\n",
       " '- 1131567043 2005.11.09 tbird-admin1 Nov 9 12:10:43 local@tbird-admin1 ACPI: PCI Interrupt Routing Table [\\\\_SB_.PCI0.VPR0._PRT]\\n',\n",
       " '- 1131567043 2005.11.09 tbird-admin1 Nov 9 12:10:43 local@tbird-admin1 ACPI: PCI Interrupt Routing Table [\\\\_SB_.PCI0._PRT]\\n',\n",
       " '- 1131567043 2005.11.09 tbird-admin1 Nov 9 12:10:43 local@tbird-admin1 ACPI: PCI Root Bridge [PCI0] (00:00)\\n',\n",
       " '- 1131567043 2005.11.09 tbird-admin1 Nov 9 12:10:43 local@tbird-admin1 ACPI: PCI interrupt 0000:00:02.0[A] -> GSI 16 (level, low) -> IRQ 169\\n',\n",
       " '- 1131567043 2005.11.09 tbird-admin1 Nov 9 12:10:43 local@tbird-admin1 ACPI: PCI interrupt 0000:00:04.0[A] -> GSI 16 (level, low) -> IRQ 169\\n',\n",
       " '- 1131567043 2005.11.09 tbird-admin1 Nov 9 12:10:43 local@tbird-admin1 ACPI: PCI interrupt 0000:00:05.0[A] -> GSI 16 (level, low) -> IRQ 169\\n',\n",
       " '- 1131567043 2005.11.09 tbird-admin1 Nov 9 12:10:43 local@tbird-admin1 ACPI: PCI interrupt 0000:00:06.0[A] -> GSI 16 (level, low) -> IRQ 169\\n',\n",
       " '- 1131567043 2005.11.09 tbird-admin1 Nov 9 12:10:43 local@tbird-admin1 ACPI: PCI interrupt 0000:02:0e.0[A] -> GSI 46 (level, low) -> IRQ 177\\n',\n",
       " '- 1131567043 2005.11.09 tbird-admin1 Nov 9 12:10:43 local@tbird-admin1 ACPI: PCI interrupt 0000:02:0e.0[A] -> GSI 46 (level, low) -> IRQ 177\\n',\n",
       " '- 1131567043 2005.11.09 tbird-admin1 Nov 9 12:10:43 local@tbird-admin1 ACPI: PCI interrupt 0000:06:07.0[A] -> GSI 64 (level, low) -> IRQ 185\\n',\n",
       " '- 1131567043 2005.11.09 tbird-admin1 Nov 9 12:10:43 local@tbird-admin1 ACPI: PCI interrupt 0000:06:07.0[A] -> GSI 64 (level, low) -> IRQ 185\\n',\n",
       " '- 1131567043 2005.11.09 tbird-admin1 Nov 9 12:10:43 local@tbird-admin1 ACPI: PCI interrupt 0000:07:08.0[A] -> GSI 65 (level, low) -> IRQ 193\\n',\n",
       " '- 1131567043 2005.11.09 tbird-admin1 Nov 9 12:10:43 local@tbird-admin1 ACPI: PCI interrupt 0000:07:08.0[A] -> GSI 65 (level, low) -> IRQ 193\\n',\n",
       " '- 1131567043 2005.11.09 tbird-admin1 Nov 9 12:10:43 local@tbird-admin1 ACPI: PCI interrupt 0000:09:0d.0[A] -> GSI 18 (level, low) -> IRQ 201\\n',\n",
       " '- 1131567043 2005.11.09 tbird-admin1 Nov 9 12:10:43 local@tbird-admin1 ACPI: Power Button (FF) [PWRF]\\n',\n",
       " '- 1131567043 2005.11.09 tbird-admin1 Nov 9 12:10:43 local@tbird-admin1 ACPI: Processor [CPU0] (supports C1)\\n',\n",
       " '- 1131567043 2005.11.09 tbird-admin1 Nov 9 12:10:43 local@tbird-admin1 ACPI: Processor [CPU1] (supports C1)\\n',\n",
       " '- 1131567043 2005.11.09 tbird-admin1 Nov 9 12:10:43 local@tbird-admin1 ACPI: Processor [CPU2] (supports C1)\\n',\n",
       " '- 1131567043 2005.11.09 tbird-admin1 Nov 9 12:10:43 local@tbird-admin1 ACPI: Processor [CPU3] (supports C1)\\n',\n",
       " '- 1131567043 2005.11.09 tbird-admin1 Nov 9 12:10:43 local@tbird-admin1 ACPI: RSDP (v000 DELL ) @ 0x00000000000fd650\\n',\n",
       " '- 1131567043 2005.11.09 tbird-admin1 Nov 9 12:10:43 local@tbird-admin1 ACPI: RSDT (v001 DELL PE BKC 0x00000001 MSFT 0x0100000a) @ 0x00000000000fd664\\n',\n",
       " '- 1131567043 2005.11.09 tbird-admin1 Nov 9 12:10:43 local@tbird-admin1 ACPI: SPCR (v001 DELL PE BKC 0x00000001 MSFT 0x0100000a) @ 0x00000000000fd7cc\\n',\n",
       " '- 1131567043 2005.11.09 tbird-admin1 Nov 9 12:10:43 local@tbird-admin1 ACPI: Subsystem revision 20040816\\n',\n",
       " '- 1131567043 2005.11.09 tbird-admin1 Nov 9 12:10:43 local@tbird-admin1 ACPI: Using IOAPIC for interrupt routing\\n',\n",
       " '- 1131567043 2005.11.09 tbird-admin1 Nov 9 12:10:43 local@tbird-admin1 CPU0: Intel(R) Xeon(TM) CPU 3.60GHz stepping 03\\n',\n",
       " '- 1131567043 2005.11.09 tbird-admin1 Nov 9 12:10:43 local@tbird-admin1 CPU: L2 cache: 2048K\\n',\n",
       " '- 1131567043 2005.11.09 tbird-admin1 Nov 9 12:10:43 local@tbird-admin1 CPU: L2 cache: 2048K\\n',\n",
       " '- 1131567043 2005.11.09 tbird-admin1 Nov 9 12:10:43 local@tbird-admin1 CPU: L2 cache: 2048K\\n',\n",
       " '- 1131567043 2005.11.09 tbird-admin1 Nov 9 12:10:43 local@tbird-admin1 CPU: L2 cache: 2048K\\n',\n",
       " '- 1131567043 2005.11.09 tbird-admin1 Nov 9 12:10:43 local@tbird-admin1 CPU: L2 cache: 2048K\\n',\n",
       " '- 1131567043 2005.11.09 tbird-admin1 Nov 9 12:10:43 local@tbird-admin1 CPU: Physical Processor ID: 0\\n',\n",
       " '- 1131567043 2005.11.09 tbird-admin1 Nov 9 12:10:43 local@tbird-admin1 CPU: Physical Processor ID: 0\\n',\n",
       " '- 1131567043 2005.11.09 tbird-admin1 Nov 9 12:10:43 local@tbird-admin1 CPU: Physical Processor ID: 0\\n',\n",
       " '- 1131567043 2005.11.09 tbird-admin1 Nov 9 12:10:43 local@tbird-admin1 CPU: Physical Processor ID: 3\\n',\n",
       " '- 1131567043 2005.11.09 tbird-admin1 Nov 9 12:10:43 local@tbird-admin1 CPU: Physical Processor ID: 3\\n',\n",
       " '- 1131567043 2005.11.09 tbird-admin1 Nov 9 12:10:43 local@tbird-admin1 CPU: Trace cache: 12K uops, L1 D cache: 16K\\n',\n",
       " '- 1131567043 2005.11.09 tbird-admin1 Nov 9 12:10:43 local@tbird-admin1 CPU: Trace cache: 12K uops, L1 D cache: 16K\\n',\n",
       " '- 1131567043 2005.11.09 tbird-admin1 Nov 9 12:10:43 local@tbird-admin1 CPU: Trace cache: 12K uops, L1 D cache: 16K\\n',\n",
       " '- 1131567043 2005.11.09 tbird-admin1 Nov 9 12:10:43 local@tbird-admin1 CPU: Trace cache: 12K uops, L1 D cache: 16K\\n',\n",
       " '- 1131567043 2005.11.09 tbird-admin1 Nov 9 12:10:43 local@tbird-admin1 CPU: Trace cache: 12K uops, L1 D cache: 16K\\n',\n",
       " '- 1131567043 2005.11.09 tbird-admin1 Nov 9 12:10:43 local@tbird-admin1 Console: colour VGA+ 80x25\\n',\n",
       " '- 1131567043 2005.11.09 tbird-admin1 Nov 9 12:10:43 local@tbird-admin1 EXT3-fs: mounted filesystem with ordered data mode.\\n',\n",
       " '- 1131567043 2005.11.09 tbird-admin1 Nov 9 12:10:43 local@tbird-admin1 EXT3-fs: mounted filesystem with ordered data mode.\\n',\n",
       " '- 1131567043 2005.11.09 tbird-admin1 Nov 9 12:10:43 local@tbird-admin1 EXT3-fs: mounted filesystem with ordered data mode.\\n',\n",
       " '- 1131567043 2005.11.09 tbird-admin1 Nov 9 12:10:43 local@tbird-admin1 IA32 emulation $Id: sys_ia32.c,v 1.32 2002/03/24 13:02:28 ak Exp $\\n',\n",
       " '- 1131567043 2005.11.09 tbird-admin1 Nov 9 12:10:43 local@tbird-admin1 IOAPIC[0]: apic_id 8, version 32, address 0xfec00000, GSI 0-23\\n',\n",
       " '- 1131567043 2005.11.09 tbird-admin1 Nov 9 12:10:43 local@tbird-admin1 IOAPIC[1]: apic_id 9, version 32, address 0xfec80000, GSI 32-55\\n',\n",
       " '- 1131567043 2005.11.09 tbird-admin1 Nov 9 12:10:43 local@tbird-admin1 IOAPIC[2]: apic_id 10, version 32, address 0xfec83000, GSI 64-87\\n',\n",
       " '- 1131567043 2005.11.09 tbird-admin1 Nov 9 12:10:43 local@tbird-admin1 IP: routing cache hash table of 65536 buckets, 1024Kbytes\\n',\n",
       " '- 1131567043 2005.11.09 tbird-admin1 Nov 9 12:10:43 local@tbird-admin1 Intel E7520/7320/7525 detected.<6>pci_hotplug: PCI Hot Plug PCI Core version: 0.5\\n',\n",
       " '- 1131567043 2005.11.09 tbird-admin1 Nov 9 12:10:43 local@tbird-admin1 Kernel command line: root=LABEL=/ initrd=/x86_64/initrd-2.6.9-5.0.5.EL-lustre-1.4.2-perfctr-admin console=tty0 console=ttyS0,19200 fastboot BOOT_IMAGE=/x86_64/vmlinuz-2.6.9-5.0.5.EL-lustre-1.4.2-perfctr\\n',\n",
       " '- 1131567043 2005.11.09 tbird-admin1 Nov 9 12:10:43 local@tbird-admin1 NET: Registered protocol family 1\\n',\n",
       " '- 1131567043 2005.11.09 tbird-admin1 Nov 9 12:10:43 local@tbird-admin1 NET: Registered protocol family 16\\n',\n",
       " '- 1131567043 2005.11.09 tbird-admin1 Nov 9 12:10:43 local@tbird-admin1 NET: Registered protocol family 17\\n',\n",
       " '- 1131567043 2005.11.09 tbird-admin1 Nov 9 12:10:43 local@tbird-admin1 NET: Registered protocol family 2\\n',\n",
       " '- 1131567043 2005.11.09 tbird-admin1 Nov 9 12:10:43 local@tbird-admin1 PCI-DMA: Using software bounce buffering for IO (SWIOTLB)\\n',\n",
       " '- 1131567043 2005.11.09 tbird-admin1 Nov 9 12:10:43 local@tbird-admin1 PCI: Probing PCI hardware (bus 00)\\n',\n",
       " '- 1131567043 2005.11.09 tbird-admin1 Nov 9 12:10:43 local@tbird-admin1 PCI: Transparent bridge - 0000:00:1e.0\\n',\n",
       " '- 1131567043 2005.11.09 tbird-admin1 Nov 9 12:10:43 local@tbird-admin1 PCI: Using ACPI for IRQ routing\\n',\n",
       " '- 1131567043 2005.11.09 tbird-admin1 Nov 9 12:10:43 local@tbird-admin1 PCI: Using MMCONFIG at e0000000\\n',\n",
       " '- 1131567043 2005.11.09 tbird-admin1 Nov 9 12:10:43 local@tbird-admin1 PCI: Using configuration type 1\\n',\n",
       " '- 1131567043 2005.11.09 tbird-admin1 Nov 9 12:10:43 local@tbird-admin1 RAMDISK: Compressed image found at block 0\\n',\n",
       " '- 1131567043 2005.11.09 tbird-admin1 Nov 9 12:10:43 local@tbird-admin1 SELinux: Disabled at runtime.\\n',\n",
       " '- 1131567043 2005.11.09 tbird-admin1 Nov 9 12:10:43 local@tbird-admin1 SELinux: Initializing.\\n',\n",
       " '- 1131567043 2005.11.09 tbird-admin1 Nov 9 12:10:43 local@tbird-admin1 SELinux: Registering netfilter hooks\\n',\n",
       " '- 1131567043 2005.11.09 tbird-admin1 Nov 9 12:10:43 local@tbird-admin1 SELinux: Starting in permissive mode\\n',\n",
       " '- 1131567043 2005.11.09 tbird-admin1 Nov 9 12:10:43 local@tbird-admin1 SELinux: Unregistering netfilter hooks\\n',\n",
       " '- 1131567043 2005.11.09 tbird-admin1 Nov 9 12:10:43 local@tbird-admin1 TCP: Hash tables configured (established 262144 bind 65536)\\n',\n",
       " '- 1131567043 2005.11.09 tbird-admin1 Nov 9 12:10:43 local@tbird-admin1 Type: Direct-Access ANSI SCSI revision: 02\\n',\n",
       " '- 1131567043 2005.11.09 tbird-admin1 Nov 9 12:10:43 local@tbird-admin1 Type: Processor ANSI SCSI revision: 02\\n',\n",
       " '- 1131567043 2005.11.09 tbird-admin1 Nov 9 12:10:43 local@tbird-admin1 VFS: Disk quotas dquot_6.5.1\\n',\n",
       " '- 1131567043 2005.11.09 tbird-admin1 Nov 9 12:10:43 local@tbird-admin1 VFS: Mounted root (ext2 filesystem).\\n',\n",
       " '- 1131567043 2005.11.09 tbird-admin1 Nov 9 12:10:43 local@tbird-admin1 Vendor: MegaRAID Model: LD 0 RAID1 139G Rev: 516A\\n',\n",
       " '- 1131567043 2005.11.09 tbird-admin1 Nov 9 12:10:43 local@tbird-admin1 Vendor: PE/PV Model: 1x2 SCSI BP Rev: 1.0\\n',\n",
       " '- 1131567043 2005.11.09 tbird-admin1 Nov 9 12:10:43 local@tbird-admin1 audit(1131538222.234:0): initialized\\n',\n",
       " '- 1131567043 2005.11.09 tbird-admin1 Nov 9 12:10:43 local@tbird-admin1 audit: initializing netlink socket (disabled)\\n',\n",
       " '- 1131567043 2005.11.09 tbird-admin1 Nov 9 12:10:43 local@tbird-admin1 checking TSC synchronization across 4 CPUs: passed.\\n',\n",
       " '- 1131567043 2005.11.09 tbird-admin1 Nov 9 12:10:43 local@tbird-admin1 device-mapper: 4.1.0-ioctl (2003-12-10) initialised: #36#@#37#\\n',\n",
       " '- 1131567043 2005.11.09 tbird-admin1 Nov 9 12:10:43 local@tbird-admin1 divert: allocating divert_blk for eth0\\n',\n",
       " '- 1131567043 2005.11.09 tbird-admin1 Nov 9 12:10:43 local@tbird-admin1 divert: allocating divert_blk for eth1\\n',\n",
       " '- 1131567043 2005.11.09 tbird-admin1 Nov 9 12:10:43 local@tbird-admin1 divert: not allocating divert_blk for non-ethernet device lo\\n',\n",
       " '- 1131567043 2005.11.09 tbird-admin1 Nov 9 12:10:43 local@tbird-admin1 drivers/usb/input/hid-core.c: v2.0:USB HID core driver\\n',\n",
       " '- 1131567043 2005.11.09 tbird-admin1 Nov 9 12:10:43 local@tbird-admin1 e1000: eth0: e1000_probe: Intel(R) PRO/1000 Network Connection\\n',\n",
       " '- 1131567043 2005.11.09 tbird-admin1 Nov 9 12:10:43 local@tbird-admin1 e1000: eth0: e1000_watchdog: NIC Link is Up 1000 Mbps Full Duplex\\n',\n",
       " '- 1131567043 2005.11.09 tbird-admin1 Nov 9 12:10:43 local@tbird-admin1 e1000: eth1: e1000_probe: Intel(R) PRO/1000 Network Connection\\n',\n",
       " '- 1131567043 2005.11.09 tbird-admin1 Nov 9 12:10:43 local@tbird-admin1 floppy0: no floppy controllers found\\n',\n",
       " '- 1131567043 2005.11.09 tbird-admin1 Nov 9 12:10:43 local@tbird-admin1 hw_random: RNG not detected\\n',\n",
       " '- 1131567043 2005.11.09 tbird-admin1 Nov 9 12:10:43 local@tbird-admin1 ide0: Wait for ready failed before probe !\\n',\n",
       " '- 1131567043 2005.11.09 tbird-admin1 Nov 9 12:10:43 local@tbird-admin1 ide1: Wait for ready failed before probe !\\n',\n",
       " '- 1131567043 2005.11.09 tbird-admin1 Nov 9 12:10:43 local@tbird-admin1 ide2: Wait for ready failed before probe !\\n',\n",
       " '- 1131567043 2005.11.09 tbird-admin1 Nov 9 12:10:43 local@tbird-admin1 ide3: Wait for ready failed before probe !\\n',\n",
       " '- 1131567043 2005.11.09 tbird-admin1 Nov 9 12:10:43 local@tbird-admin1 ide4: Wait for ready failed before probe !\\n',\n",
       " '- 1131567043 2005.11.09 tbird-admin1 Nov 9 12:10:43 local@tbird-admin1 ide5: Wait for ready failed before probe !\\n',\n",
       " '- 1131567043 2005.11.09 tbird-admin1 Nov 9 12:10:43 local@tbird-admin1 ide: Assuming 33MHz system bus speed for PIO modes; override with idebus=xx\\n',\n",
       " '- 1131567043 2005.11.09 tbird-admin1 Nov 9 12:10:43 local@tbird-admin1 ioctl32(fdisk:515): Unknown cmd fd(5) cmd(80081272){00} arg(ffffda44) on /dev/sda\\n',\n",
       " '- 1131567043 2005.11.09 tbird-admin1 Nov 9 12:10:43 local@tbird-admin1 ip_tables: (C) 2000-2002 Netfilter core team\\n',\n",
       " '- 1131567043 2005.11.09 tbird-admin1 Nov 9 12:10:43 local@tbird-admin1 ip_tables: (C) 2000-2002 Netfilter core team\\n',\n",
       " '- 1131567043 2005.11.09 tbird-admin1 Nov 9 12:10:43 local@tbird-admin1 ip_tables: (C) 2000-2002 Netfilter core team\\n',\n",
       " '- 1131567043 2005.11.09 tbird-admin1 Nov 9 12:10:43 local@tbird-admin1 ip_tables: (C) 2000-2002 Netfilter core team\\n',\n",
       " '- 1131567043 2005.11.09 tbird-admin1 Nov 9 12:10:43 local@tbird-admin1 ksign: Installing public key data\\n',\n",
       " '- 1131567043 2005.11.09 tbird-admin1 Nov 9 12:10:43 local@tbird-admin1 md: ... autorun DONE.\\n',\n",
       " '- 1131567043 2005.11.09 tbird-admin1 Nov 9 12:10:43 local@tbird-admin1 md: ... autorun DONE.\\n',\n",
       " '- 1131567043 2005.11.09 tbird-admin1 Nov 9 12:10:43 local@tbird-admin1 md: Autodetecting RAID arrays.\\n',\n",
       " '- 1131567043 2005.11.09 tbird-admin1 Nov 9 12:10:43 local@tbird-admin1 md: Autodetecting RAID arrays.\\n',\n",
       " '- 1131567043 2005.11.09 tbird-admin1 Nov 9 12:10:43 local@tbird-admin1 md: autorun ...\\n',\n",
       " '- 1131567043 2005.11.09 tbird-admin1 Nov 9 12:10:43 local@tbird-admin1 md: autorun ...\\n',\n",
       " '- 1131567043 2005.11.09 tbird-admin1 Nov 9 12:10:43 local@tbird-admin1 md: md driver 0.90.0 MAX_MD_DEVS=256, MD_SB_DISKS=27\\n',\n",
       " '- 1131567043 2005.11.09 tbird-admin1 Nov 9 12:10:43 local@tbird-admin1 megaraid cmm: #38#-rh1 (Release Date: Fri Dec 10 19:02:14 EST 2004)\\n',\n",
       " '- 1131567043 2005.11.09 tbird-admin1 Nov 9 12:10:43 local@tbird-admin1 megaraid: #39# (Release Date: Mon Sep 27 22:15:07 EDT 2004)\\n',\n",
       " '- 1131567043 2005.11.09 tbird-admin1 Nov 9 12:10:43 local@tbird-admin1 megaraid: fw version:[516A] bios version:[H418]\\n',\n",
       " '- 1131567043 2005.11.09 tbird-admin1 Nov 9 12:10:43 local@tbird-admin1 megaraid: probe new device 0x1028:0x0013:0x1028:0x016c: bus 2:slot 14:func 0\\n',\n",
       " '- 1131567043 2005.11.09 tbird-admin1 Nov 9 12:10:43 local@tbird-admin1 mice: PS/2 mouse device common for all mice\\n',\n",
       " '- 1131567043 2005.11.09 tbird-admin1 Nov 9 12:10:43 local@tbird-admin1 mtrr: v2.0 (20020519)\\n',\n",
       " '- 1131567043 2005.11.09 tbird-admin1 Nov 9 12:10:43 local@tbird-admin1 nfslock: rpc.statd startup succeeded\\n',\n",
       " '- 1131567043 2005.11.09 tbird-admin1 Nov 9 12:10:43 local@tbird-admin1 portmap: portmap startup succeeded\\n',\n",
       " '- 1131567043 2005.11.09 tbird-admin1 Nov 9 12:10:43 local@tbird-admin1 rc: Starting ts_fixup: succeeded\\n',\n",
       " '- 1131567043 2005.11.09 tbird-admin1 Nov 9 12:10:43 local@tbird-admin1 scsi0 : LSI Logic MegaRAID driver\\n',\n",
       " '- 1131567043 2005.11.09 tbird-admin1 Nov 9 12:10:43 local@tbird-admin1 scsi[0]: scanning scsi channel 0 [Phy 0] for non-raid devices\\n',\n",
       " '- 1131567043 2005.11.09 tbird-admin1 Nov 9 12:10:43 local@tbird-admin1 scsi[0]: scanning scsi channel 1 [virtual] for logical drives\\n',\n",
       " '- 1131567043 2005.11.09 tbird-admin1 Nov 9 12:10:43 local@tbird-admin1 sda: asking for cache data failed\\n',\n",
       " '- 1131567043 2005.11.09 tbird-admin1 Nov 9 12:10:43 local@tbird-admin1 sda: assuming drive cache: write through\\n',\n",
       " '- 1131567043 2005.11.09 tbird-admin1 Nov 9 12:10:43 local@tbird-admin1 sda: sda1 sda2 sda3 sda4\\n',\n",
       " '- 1131567043 2005.11.09 tbird-admin1 Nov 9 12:10:43 local@tbird-admin1 selinux_register_security: Registering secondary module capability\\n',\n",
       " '- 1131567043 2005.11.09 tbird-admin1 Nov 9 12:10:43 local@tbird-admin1 serio: i8042 AUX port at 0x60,0x64 irq 12\\n',\n",
       " '- 1131567043 2005.11.09 tbird-admin1 Nov 9 12:10:43 local@tbird-admin1 serio: i8042 KBD port at 0x60,0x64 irq 1\\n',\n",
       " '- 1131567043 2005.11.09 tbird-admin1 Nov 9 12:10:43 local@tbird-admin1 syslog-ng: syslog-ng startup succeeded\\n',\n",
       " '- 1131567043 2005.11.09 tbird-admin1 Nov 9 12:10:43 local@tbird-admin1 syslog-ng[1605]: syslog-ng version 1.6.7 starting\\n',\n",
       " '- 1131567043 2005.11.09 tbird-admin1 Nov 9 12:10:43 local@tbird-admin1 time.c: Detected 3591.360 MHz processor.\\n',\n",
       " '- 1131567043 2005.11.09 tbird-admin1 Nov 9 12:10:43 local@tbird-admin1 time.c: Using 14.318180 MHz HPET timer.\\n',\n",
       " '- 1131567043 2005.11.09 tbird-admin1 Nov 9 12:10:43 local@tbird-admin1 time.c: Using HPET based timekeeping.\\n',\n",
       " '- 1131567043 2005.11.09 tbird-admin1 Nov 9 12:10:43 local@tbird-admin1 ts_fixup: Creating Topspin /dev entries:\\n',\n",
       " '- 1131567043 2005.11.09 tbird-admin1 Nov 9 12:10:43 local@tbird-admin1 usbcore: registered new driver hiddev\\n',\n",
       " '- 1131567043 2005.11.09 tbird-admin1 Nov 9 12:10:43 local@tbird-admin1 usbcore: registered new driver hub\\n',\n",
       " '- 1131567043 2005.11.09 tbird-admin1 Nov 9 12:10:43 local@tbird-admin1 usbcore: registered new driver usbfs\\n',\n",
       " '- 1131567043 2005.11.09 tbird-admin1 Nov 9 12:10:43 local@tbird-admin1 usbcore: registered new driver usbhid\\n',\n",
       " '- 1131567043 2005.11.09 tbird-admin1 Nov 9 12:10:43 local@tbird-admin1 vesafb: probe of vesafb0 failed with error -6\\n',\n",
       " '- 1131567044 2005.11.09 tbird-sm1 Nov 9 12:10:44 src@tbird-sm1 ib_sm.x[24904]: [ib_sm_sweep.c:1831]: ********************** NEW SWEEP ********************\\n',\n",
       " '- 1131567048 2005.11.09 tbird-sm1 Nov 9 12:10:48 src@tbird-sm1 ib_sm.x[24904]: [ib_sm_sweep.c:1455]: No topology change\\n',\n",
       " '- 1131567048 2005.11.09 tbird-sm1 Nov 9 12:10:48 src@tbird-sm1 ib_sm.x[24904]: [ib_sm_sweep.c:1482]: No configuration change required\\n',\n",
       " '- 1131567052 2005.11.09 tbird-admin1 Nov 9 12:10:52 local@tbird-admin1 netfs: Mounting NFS filesystems: succeeded\\n',\n",
       " '- 1131567052 2005.11.09 tbird-admin1 Nov 9 12:10:52 local@tbird-admin1 netfs: Mounting other filesystems: failed\\n',\n",
       " '- 1131567053 2005.11.09 tbird-admin1 Nov 9 12:10:53 local@tbird-admin1 gmetad: Warning: we failed to resolve data source name an14 an15 an16 an17 an18 an19 an20 an21 an22 an23 an24 an25 an26 an27 an28 an29 an30 an31 an32 an33 an34 an35 an36 an37 an38 an39 an40 an41 an42 an43 an44 an45 an46 an47 an48 an49 an50 an51 an52 an53 an54 an55 an56 an57 an58 an59 an60 an61 an62 an63 an64 an65 an66 an67 an68 an69 an70 an71 an72 an73 an74 an75 an76 an77 an78 an79 an80 an81 an82 an83 an84 an85 an86 an87 an88 an89 an90 an91 an92 an93 an94 an95 an96 an97 an98 an99 an100 an101 an102 an103 an104 an105 an106 an107 an108 an109 an110 an111 an112 an113 an114 an115 an116 an117 an118 an119 an120 an121 an122 an123 an124 an125 an126 an127 an128\\n',\n",
       " '- 1131567053 2005.11.09 tbird-admin1 Nov 9 12:10:53 local@tbird-admin1 gmetad: Warning: we failed to resolve data source name an14 an15 an16 an17 an18 an19 an20 an21 an22 an23 an24 an25 an26 an27 an28 an29 an30 an31 an32 an33 an34 an35 an36 an37 an38 an39 an40 an41 an42 an43 an44 an45 an46 an47 an48 an49 an50 an51 an52 an53 an54 an55 an56 an57 an58 an59 an60 an61 an62 an63 an64 an65 an66 an67 an68 an69 an70 an71 an72 an73 an74 an75 an76 an77 an78 an79 an80 an81 an82 an83 an84 an85 an86 an87 an88 an89 an90 an91 an92 an93 an94 an95 an96 an97 an98 an99 an100 an101 an102 an103 an104 an105 an106 an107 an108 an109 an110 an111 an112 an113 an114 an115 an116 an117 an118 an119 an120 an121 an122 an123 an124 an125 an126 an127 an128\\n',\n",
       " '- 1131567053 2005.11.09 tbird-admin1 Nov 9 12:10:53 local@tbird-admin1 gmetad: Warning: we failed to resolve data source name an142 an143 an144 an145 an146 an147 an148 an149 an150 an151 an152 an153 an154 an155 an156 an157 an158 an159 an160 an161 an162 an163 an164 an165 an166 an167 an168 an169 an170 an171 an172 an173 an174 an175 an176 an177 an178 an179 an180 an181 an182 an183 an184 an185 an186 an187 an188 an189 an190 an191 an192 an193 an194 an195 an196 an197 an198 an199 an200 an201 an202 an203 an204 an205 an206 an207 an208 an209 an210 an211 an212 an213 an214 an215 an216 an217 an218 an219 an220 an221 an222 an223 an224 an225 an226 an227 an228 an229 an230 an231 an232 an233 an234 an235 an236 an237 an238 an239 an240 an241 an242 an243 an244 an245 an246 an247 an248 an249 an250 an251 an252 an253 an254 an255 an256\\n',\n",
       " '- 1131567053 2005.11.09 tbird-admin1 Nov 9 12:10:53 local@tbird-admin1 gmetad: Warning: we failed to resolve data source name an270 an271 an272 an273 an274 an275 an276 an277 an278 an279 an280 an281 an282 an283 an284 an285 an286 an287 an288 an289 an290 an291 an292 an293 an294 an295 an296 an297 an298 an299 an300 an301 an302 an303 an304 an305 an306 an307 an308 an309 an310 an311 an312 an313 an314 an315 an316 an317 an318 an319 an320 an321 an322 an323 an324 an325 an326 an327 an328 an329 an330 an331 an332 an333 an334 an335 an336 an337 an338 an339 an340 an341 an342 an343 an344 an345 an346 an347 an348 an349 an350 an351 an352 an353 an354 an355 an356 an357 an358 an359 an360 an361 an362 an363 an364 an365 an366 an367 an368 an369 an370 an371 an372 an373 an374 an375 an376 an377 an378 an379 an380 an381 an382 an383 an384\\n',\n",
       " '- 1131567053 2005.11.09 tbird-admin1 Nov 9 12:10:53 local@tbird-admin1 gmetad: Warning: we failed to resolve data source name an398 an399 an400 an401 an402 an403 an404 an405 an406 an407 an408 an409 an410 an411 an412 an413 an414 an415 an416 an417 an418 an419 an420 an421 an422 an423 an424 an425 an426 an427 an428 an429 an430 an431 an432 an433 an434 an435 an436 an437 an438 an439 an440 an441 an442 an443 an444 an445 an446 an447 an448 an449 an450 an451 an452 an453 an454 an455 an456 an457 an458 an459 an460 an461 an462 an463 an464 an465 an466 an467 an468 an469 an470 an471 an472 an473 an474 an475 an476 an477 an478 an479 an480 an481 an482 an483 an484 an485 an486 an487 an488 an489 an490 an491 an492 an493 an494 an495 an496 an497 an498 an499 an500 an501 an502 an503 an504 an505 an506 an507 an508 an509 an510 an511 an512\\n',\n",
       " '- 1131567053 2005.11.09 tbird-admin1 Nov 9 12:10:53 local@tbird-admin1 gmetad: Warning: we failed to resolve data source name an526 an527 an528 an529 an530 an531 an532 an533 an534 an535 an536 an537 an538 an539 an540 an541 an542 an543 an544 an545 an546 an547 an548 an549 an550 an551 an552 an553 an554 an555 an556 an557 an558 an559 an560 an561 an562 an563 an564 an565 an566 an567 an568 an569 an570 an571 an572 an573 an574 an575 an576 an577 an578 an579 an580 an581 an582 an583 an584 an585 an586 an587 an588 an589 an590 an591 an592 an593 an594 an595 an596 an597 an598 an599 an600 an601 an602 an603 an604 an605 an606 an607 an608 an609 an610 an611 an612 an613 an614 an615 an616 an617 an618 an619 an620 an621 an622 an623 an624 an625 an626 an627 an628 an629 an630 an631 an632 an633 an634 an635 an636 an637 an638 an639 an640\\n',\n",
       " '- 1131567053 2005.11.09 tbird-admin1 Nov 9 12:10:53 local@tbird-admin1 gmetad: Warning: we failed to resolve data source name an654 an655 an656 an657 an658 an659 an660 an661 an662 an663 an664 an665 an666 an667 an668 an669 an670 an671 an672 an673 an674 an675 an676 an677 an678 an679 an680 an681 an682 an683 an684 an685 an686 an687 an688 an689 an690 an691 an692 an693 an694 an695 an696 an697 an698 an699 an700 an701 an702 an703 an704 an705 an706 an707 an708 an709 an710 an711 an712 an713 an714 an715 an716 an717 an718 an719 an720 an721 an722 an723 an724 an725 an726 an727 an728 an729 an730 an731 an732 an733 an734 an735 an736 an737 an738 an739 an740 an741 an742 an743 an744 an745 an746 an747 an748 an749 an750 an751 an752 an753 an754 an755 an756 an757 an758 an759 an760 an761 an762 an763 an764 an765 an766 an767 an768\\n',\n",
       " '- 1131567053 2005.11.09 tbird-admin1 Nov 9 12:10:53 local@tbird-admin1 gmetad: Warning: we failed to resolve data source name an782 an783 an784 an785 an786 an787 an788 an789 an790 an791 an792 an793 an794 an795 an796 an797 an798 an799 an800 an801 an802 an803 an804 an805 an806 an807 an808 an809 an810 an811 an812 an813 an814 an815 an816 an817 an818 an819 an820 an821 an822 an823 an824 an825 an826 an827 an828 an829 an830 an831 an832 an833 an834 an835 an836 an837 an838 an839 an840 an841 an842 an843 an844 an845 an846 an847 an848 an849 an850 an851 an852 an853 an854 an855 an856 an857 an858 an859 an860 an861 an862 an863 an864 an865 an866 an867 an868 an869 an870 an871 an872 an873 an874 an875 an876 an877 an878 an879 an880 an881 an882 an883 an884 an885 an886 an887 an888 an889 an890 an891 an892 an893 an894 an895 an896\\n',\n",
       " '- 1131567053 2005.11.09 tbird-admin1 Nov 9 12:10:53 local@tbird-admin1 gmetad: Warning: we failed to resolve data source name an910 an911 an912 an913 an914 an915 an916 an917 an918 an919 an920 an921 an922 an923 an924 an925 an926 an927 an928 an929 an930 an931 an932 an933 an934 an935 an936 an937 an938 an939 an940 an941 an942 an943 an944 an945 an946 an947 an948 an949 an950 an951 an952 an953 an954 an955 an956 an957 an958 an959 an960 an961 an962 an963 an964 an965 an966 an967 an968 an969 an970 an971 an972 an973 an974 an975 an976 an977 an978 an979 an980 an981 an982 an983 an984 an985 an986 an987 an988 an989 an990 an991 an992 an993 an994 an995 an996 an997 an998 an999 an1000 an1001 an1002 an1003 an1004 an1005 an1006 an1007 an1008 an1009 an1010 an1011 an1012 an1013 an1014 an1015 an1016 an1017 an1018 an1019 an1020 an1021 an1022 an1023 an1024\\n',\n",
       " '- 1131567053 2005.11.09 tbird-admin1 Nov 9 12:10:53 local@tbird-admin1 gmetad: Warning: we failed to resolve data source name bn14 bn15 bn16 bn17 bn18 bn19 bn20 bn21 bn22 bn23 bn24 bn25 bn26 bn27 bn28 bn29 bn30 bn31 bn32 bn33 bn34 bn35 bn36 bn37 bn38 bn39 bn40 bn41 bn42 bn43 bn44 bn45 bn46 bn47 bn48 bn49 bn50 bn51 bn52 bn53 bn54 bn55 bn56 bn57 bn58 bn59 bn60 bn61 bn62 bn63 bn64 bn65 bn66 bn67 bn68 bn69 bn70 bn71 bn72 bn73 bn74 bn75 bn76 bn77 bn78 bn79 bn80 bn81 bn82 bn83 bn84 bn85 bn86 bn87 bn88 bn89 bn90 bn91 bn92 bn93 bn94 bn95 bn96 bn97 bn98 bn99 bn100 bn101 bn102 bn103 bn104 bn105 bn106 bn107 bn108 bn109 bn110 bn111 bn112 bn113 bn114 bn115 bn116 bn117 bn118 bn119 bn120 bn121 bn122 bn123 bn124 bn125 bn126 bn127 bn128\\n',\n",
       " '- 1131567053 2005.11.09 tbird-admin1 Nov 9 12:10:53 local@tbird-admin1 gmetad: Warning: we failed to resolve data source name bn142 bn143 bn144 bn145 bn146 bn147 bn148 bn149 bn150 bn151 bn152 bn153 bn154 bn155 bn156 bn157 bn158 bn159 bn160 bn161 bn162 bn163 bn164 bn165 bn166 bn167 bn168 bn169 bn170 bn171 bn172 bn173 bn174 bn175 bn176 bn177 bn178 bn179 bn180 bn181 bn182 bn183 bn184 bn185 bn186 bn187 bn188 bn189 bn190 bn191 bn192 bn193 bn194 bn195 bn196 bn197 bn198 bn199 bn200 bn201 bn202 bn203 bn204 bn205 bn206 bn207 bn208 bn209 bn210 bn211 bn212 bn213 bn214 bn215 bn216 bn217 bn218 bn219 bn220 bn221 bn222 bn223 bn224 bn225 bn226 bn227 bn228 bn229 bn230 bn231 bn232 bn233 bn234 bn235 bn236 bn237 bn238 bn239 bn240 bn241 bn242 bn243 bn244 bn245 bn246 bn247 bn248 bn249 bn250 bn251 bn252 bn253 bn254 bn255 bn256\\n',\n",
       " '- 1131567053 2005.11.09 tbird-admin1 Nov 9 12:10:53 local@tbird-admin1 gmetad: Warning: we failed to resolve data source name bn270 bn271 bn272 bn273 bn274 bn275 bn276 bn277 bn278 bn279 bn280 bn281 bn282 bn283 bn284 bn285 bn286 bn287 bn288 bn289 bn290 bn291 bn292 bn293 bn294 bn295 bn296 bn297 bn298 bn299 bn300 bn301 bn302 bn303 bn304 bn305 bn306 bn307 bn308 bn309 bn310 bn311 bn312 bn313 bn314 bn315 bn316 bn317 bn318 bn319 bn320 bn321 bn322 bn323 bn324 bn325 bn326 bn327 bn328 bn329 bn330 bn331 bn332 bn333 bn334 bn335 bn336 bn337 bn338 bn339 bn340 bn341 bn342 bn343 bn344 bn345 bn346 bn347 bn348 bn349 bn350 bn351 bn352 bn353 bn354 bn355 bn356 bn357 bn358 bn359 bn360 bn361 bn362 bn363 bn364 bn365 bn366 bn367 bn368 bn369 bn370 bn371 bn372 bn373 bn374 bn375 bn376 bn377 bn378 bn379 bn380 bn381 bn382 bn383 bn384\\n',\n",
       " '- 1131567053 2005.11.09 tbird-admin1 Nov 9 12:10:53 local@tbird-admin1 gmetad: Warning: we failed to resolve data source name bn398 bn399 bn400 bn401 bn402 bn403 bn404 bn405 bn406 bn407 bn408 bn409 bn410 bn411 bn412 bn413 bn414 bn415 bn416 bn417 bn418 bn419 bn420 bn421 bn422 bn423 bn424 bn425 bn426 bn427 bn428 bn429 bn430 bn431 bn432 bn433 bn434 bn435 bn436 bn437 bn438 bn439 bn440 bn441 bn442 bn443 bn444 bn445 bn446 bn447 bn448 bn449 bn450 bn451 bn452 bn453 bn454 bn455 bn456 bn457 bn458 bn459 bn460 bn461 bn462 bn463 bn464 bn465 bn466 bn467 bn468 bn469 bn470 bn471 bn472 bn473 bn474 bn475 bn476 bn477 bn478 bn479 bn480 bn481 bn482 bn483 bn484 bn485 bn486 bn487 bn488 bn489 bn490 bn491 bn492 bn493 bn494 bn495 bn496 bn497 bn498 bn499 bn500 bn501 bn502 bn503 bn504 bn505 bn506 bn507 bn508 bn509 bn510 bn511 bn512\\n',\n",
       " '- 1131567053 2005.11.09 tbird-admin1 Nov 9 12:10:53 local@tbird-admin1 gmetad: Warning: we failed to resolve data source name bn526 bn527 bn528 bn529 bn530 bn531 bn532 bn533 bn534 bn535 bn536 bn537 bn538 bn539 bn540 bn541 bn542 bn543 bn544 bn545 bn546 bn547 bn548 bn549 bn550 bn551 bn552 bn553 bn554 bn555 bn556 bn557 bn558 bn559 bn560 bn561 bn562 bn563 bn564 bn565 bn566 bn567 bn568 bn569 bn570 bn571 bn572 bn573 bn574 bn575 bn576 bn577 bn578 bn579 bn580 bn581 bn582 bn583 bn584 bn585 bn586 bn587 bn588 bn589 bn590 bn591 bn592 bn593 bn594 bn595 bn596 bn597 bn598 bn599 bn600 bn601 bn602 bn603 bn604 bn605 bn606 bn607 bn608 bn609 bn610 bn611 bn612 bn613 bn614 bn615 bn616 bn617 bn618 bn619 bn620 bn621 bn622 bn623 bn624 bn625 bn626 bn627 bn628 bn629 bn630 bn631 bn632 bn633 bn634 bn635 bn636 bn637 bn638 bn639 bn640\\n',\n",
       " '- 1131567053 2005.11.09 tbird-admin1 Nov 9 12:10:53 local@tbird-admin1 gmetad: Warning: we failed to resolve data source name bn654 bn655 bn656 bn657 bn658 bn659 bn660 bn661 bn662 bn663 bn664 bn665 bn666 bn667 bn668 bn669 bn670 bn671 bn672 bn673 bn674 bn675 bn676 bn677 bn678 bn679 bn680 bn681 bn682 bn683 bn684 bn685 bn686 bn687 bn688 bn689 bn690 bn691 bn692 bn693 bn694 bn695 bn696 bn697 bn698 bn699 bn700 bn701 bn702 bn703 bn704 bn705 bn706 bn707 bn708 bn709 bn710 bn711 bn712 bn713 bn714 bn715 bn716 bn717 bn718 bn719 bn720 bn721 bn722 bn723 bn724 bn725 bn726 bn727 bn728 bn729 bn730 bn731 bn732 bn733 bn734 bn735 bn736 bn737 bn738 bn739 bn740 bn741 bn742 bn743 bn744 bn745 bn746 bn747 bn748 bn749 bn750 bn751 bn752 bn753 bn754 bn755 bn756 bn757 bn758 bn759 bn760 bn761 bn762 bn763 bn764 bn765 bn766 bn767 bn768\\n',\n",
       " '- 1131567053 2005.11.09 tbird-admin1 Nov 9 12:10:53 local@tbird-admin1 gmetad: Warning: we failed to resolve data source name dadmin2 dadmin3 dadmin4\\n',\n",
       " '- 1131567054 2005.11.09 tbird-admin1 Nov 9 12:10:54 local@tbird-admin1 gmetad: Warning: we failed to resolve data source name bn782 bn783 bn784 bn785 bn786 bn787 bn788 bn789 bn790 bn791 bn792 bn793 bn794 bn795 bn796 bn797 bn798 bn799 bn800 bn801 bn802 bn803 bn804 bn805 bn806 bn807 bn808 bn809 bn810 bn811 bn812 bn813 bn814 bn815 bn816 bn817 bn818 bn819 bn820 bn821 bn822 bn823 bn824 bn825 bn826 bn827 bn828 bn829 bn830 bn831 bn832 bn833 bn834 bn835 bn836 bn837 bn838 bn839 bn840 bn841 bn842 bn843 bn844 bn845 bn846 bn847 bn848 bn849 bn850 bn851 bn852 bn853 bn854 bn855 bn856 bn857 bn858 bn859 bn860 bn861 bn862 bn863 bn864 bn865 bn866 bn867 bn868 bn869 bn870 bn871 bn872 bn873 bn874 bn875 bn876 bn877 bn878 bn879 bn880 bn881 bn882 bn883 bn884 bn885 bn886 bn887 bn888 bn889 bn890 bn891 bn892 bn893 bn894 bn895 bn896\\n',\n",
       " '- 1131567054 2005.11.09 tbird-admin1 Nov 9 12:10:54 local@tbird-admin1 gmetad: Warning: we failed to resolve data source name bn910 bn911 bn912 bn913 bn914 bn915 bn916 bn917 bn918 bn919 bn920 bn921 bn922 bn923 bn924 bn925 bn926 bn927 bn928 bn929 bn930 bn931 bn932 bn933 bn934 bn935 bn936 bn937 bn938 bn939 bn940 bn941 bn942 bn943 bn944 bn945 bn946 bn947 bn948 bn949 bn950 bn951 bn952 bn953 bn954 bn955 bn956 bn957 bn958 bn959 bn960 bn961 bn962 bn963 bn964 bn965 bn966 bn967 bn968 bn969 bn970 bn971 bn972 bn973 bn974 bn975 bn976 bn977 bn978 bn979 bn980 bn981 bn982 bn983 bn984 bn985 bn986 bn987 bn988 bn989 bn990 bn991 bn992 bn993 bn994 bn995 bn996 bn997 bn998 bn999 bn1000 bn1001 bn1002 bn1003 bn1004 bn1005 bn1006 bn1007 bn1008 bn1009 bn1010 bn1011 bn1012 bn1013 bn1014 bn1015 bn1016 bn1017 bn1018 bn1019 bn1020 bn1021 bn1022 bn1023 bn1024\\n',\n",
       " '- 1131567054 2005.11.09 tbird-admin1 Nov 9 12:10:54 local@tbird-admin1 gmetad: Warning: we failed to resolve data source name cn14 cn15 cn16 cn17 cn18 cn19 cn20 cn21 cn22 cn23 cn24 cn25 cn26 cn27 cn28 cn29 cn30 cn31 cn32 cn33 cn34 cn35 cn36 cn37 cn38 cn39 cn40 cn41 cn42 cn43 cn44 cn45 cn46 cn47 cn48 cn49 cn50 cn51 cn52 cn53 cn54 cn55 cn56 cn57 cn58 cn59 cn60 cn61 cn62 cn63 cn64 cn65 cn66 cn67 cn68 cn69 cn70 cn71 cn72 cn73 cn74 cn75 cn76 cn77 cn78 cn79 cn80 cn81 cn82 cn83 cn84 cn85 cn86 cn87 cn88 cn89 cn90 cn91 cn92 cn93 cn94 cn95 cn96 cn97 cn98 cn99 cn100 cn101 cn102 cn103 cn104 cn105 cn106 cn107 cn108 cn109 cn110 cn111 cn112 cn113 cn114 cn115 cn116 cn117 cn118 cn119 cn120 cn121 cn122 cn123 cn124 cn125 cn126 cn127 cn128\\n',\n",
       " '- 1131567054 2005.11.09 tbird-admin1 Nov 9 12:10:54 local@tbird-admin1 gmetad: Warning: we failed to resolve data source name cn142 cn143 cn144 cn145 cn146 cn147 cn148 cn149 cn150 cn151 cn152 cn153 cn154 cn155 cn156 cn157 cn158 cn159 cn160 cn161 cn162 cn163 cn164 cn165 cn166 cn167 cn168 cn169 cn170 cn171 cn172 cn173 cn174 cn175 cn176 cn177 cn178 cn179 cn180 cn181 cn182 cn183 cn184 cn185 cn186 cn187 cn188 cn189 cn190 cn191 cn192 cn193 cn194 cn195 cn196 cn197 cn198 cn199 cn200 cn201 cn202 cn203 cn204 cn205 cn206 cn207 cn208 cn209 cn210 cn211 cn212 cn213 cn214 cn215 cn216 cn217 cn218 cn219 cn220 cn221 cn222 cn223 cn224 cn225 cn226 cn227 cn228 cn229 cn230 cn231 cn232 cn233 cn234 cn235 cn236 cn237 cn238 cn239 cn240 cn241 cn242 cn243 cn244 cn245 cn246 cn247 cn248 cn249 cn250 cn251 cn252 cn253 cn254 cn255 cn256\\n',\n",
       " '- 1131567054 2005.11.09 tbird-admin1 Nov 9 12:10:54 local@tbird-admin1 gmetad: Warning: we failed to resolve data source name cn270 cn271 cn272 cn273 cn274 cn275 cn276 cn277 cn278 cn279 cn280 cn281 cn282 cn283 cn284 cn285 cn286 cn287 cn288 cn289 cn290 cn291 cn292 cn293 cn294 cn295 cn296 cn297 cn298 cn299 cn300 cn301 cn302 cn303 cn304 cn305 cn306 cn307 cn308 cn309 cn310 cn311 cn312 cn313 cn314 cn315 cn316 cn317 cn318 cn319 cn320 cn321 cn322 cn323 cn324 cn325 cn326 cn327 cn328 cn329 cn330 cn331 cn332 cn333 cn334 cn335 cn336 cn337 cn338 cn339 cn340 cn341 cn342 cn343 cn344 cn345 cn346 cn347 cn348 cn349 cn350 cn351 cn352 cn353 cn354 cn355 cn356 cn357 cn358 cn359 cn360 cn361 cn362 cn363 cn364 cn365 cn366 cn367 cn368 cn369 cn370 cn371 cn372 cn373 cn374 cn375 cn376 cn377 cn378 cn379 cn380 cn381 cn382 cn383 cn384\\n',\n",
       " '- 1131567054 2005.11.09 tbird-admin1 Nov 9 12:10:54 local@tbird-admin1 gmetad: Warning: we failed to resolve data source name cn398 cn399 cn400 cn401 cn402 cn403 cn404 cn405 cn406 cn407 cn408 cn409 cn410 cn411 cn412 cn413 cn414 cn415 cn416 cn417 cn418 cn419 cn420 cn421 cn422 cn423 cn424 cn425 cn426 cn427 cn428 cn429 cn430 cn431 cn432 cn433 cn434 cn435 cn436 cn437 cn438 cn439 cn440 cn441 cn442 cn443 cn444 cn445 cn446 cn447 cn448 cn449 cn450 cn451 cn452 cn453 cn454 cn455 cn456 cn457 cn458 cn459 cn460 cn461 cn462 cn463 cn464 cn465 cn466 cn467 cn468 cn469 cn470 cn471 cn472 cn473 cn474 cn475 cn476 cn477 cn478 cn479 cn480 cn481 cn482 cn483 cn484 cn485 cn486 cn487 cn488 cn489 cn490 cn491 cn492 cn493 cn494 cn495 cn496 cn497 cn498 cn499 cn500 cn501 cn502 cn503 cn504 cn505 cn506 cn507 cn508 cn509 cn510 cn511 cn512\\n',\n",
       " '- 1131567054 2005.11.09 tbird-admin1 Nov 9 12:10:54 local@tbird-admin1 gmetad: Warning: we failed to resolve data source name cn526 cn527 cn528 cn529 cn530 cn531 cn532 cn533 cn534 cn535 cn536 cn537 cn538 cn539 cn540 cn541 cn542 cn543 cn544 cn545 cn546 cn547 cn548 cn549 cn550 cn551 cn552 cn553 cn554 cn555 cn556 cn557 cn558 cn559 cn560 cn561 cn562 cn563 cn564 cn565 cn566 cn567 cn568 cn569 cn570 cn571 cn572 cn573 cn574 cn575 cn576 cn577 cn578 cn579 cn580 cn581 cn582 cn583 cn584 cn585 cn586 cn587 cn588 cn589 cn590 cn591 cn592 cn593 cn594 cn595 cn596 cn597 cn598 cn599 cn600 cn601 cn602 cn603 cn604 cn605 cn606 cn607 cn608 cn609 cn610 cn611 cn612 cn613 cn614 cn615 cn616 cn617 cn618 cn619 cn620 cn621 cn622 cn623 cn624 cn625 cn626 cn627 cn628 cn629 cn630 cn631 cn632 cn633 cn634 cn635 cn636 cn637 cn638 cn639 cn640\\n',\n",
       " '- 1131567054 2005.11.09 tbird-admin1 Nov 9 12:10:54 local@tbird-admin1 gmetad: Warning: we failed to resolve data source name cn654 cn655 cn656 cn657 cn658 cn659 cn660 cn661 cn662 cn663 cn664 cn665 cn666 cn667 cn668 cn669 cn670 cn671 cn672 cn673 cn674 cn675 cn676 cn677 cn678 cn679 cn680 cn681 cn682 cn683 cn684 cn685 cn686 cn687 cn688 cn689 cn690 cn691 cn692 cn693 cn694 cn695 cn696 cn697 cn698 cn699 cn700 cn701 cn702 cn703 cn704 cn705 cn706 cn707 cn708 cn709 cn710 cn711 cn712 cn713 cn714 cn715 cn716 cn717 cn718 cn719 cn720 cn721 cn722 cn723 cn724 cn725 cn726 cn727 cn728 cn729 cn730 cn731 cn732 cn733 cn734 cn735 cn736 cn737 cn738 cn739 cn740 cn741 cn742 cn743 cn744 cn745 cn746 cn747 cn748 cn749 cn750 cn751 cn752 cn753 cn754 cn755 cn756 cn757 cn758 cn759 cn760 cn761 cn762 cn763 cn764 cn765 cn766 cn767 cn768\\n',\n",
       " '- 1131567054 2005.11.09 tbird-admin1 Nov 9 12:10:54 local@tbird-admin1 gmetad: Warning: we failed to resolve data source name cn782 cn783 cn784 cn785 cn786 cn787 cn788 cn789 cn790 cn791 cn792 cn793 cn794 cn795 cn796 cn797 cn798 cn799 cn800 cn801 cn802 cn803 cn804 cn805 cn806 cn807 cn808 cn809 cn810 cn811 cn812 cn813 cn814 cn815 cn816 cn817 cn818 cn819 cn820 cn821 cn822 cn823 cn824 cn825 cn826 cn827 cn828 cn829 cn830 cn831 cn832 cn833 cn834 cn835 cn836 cn837 cn838 cn839 cn840 cn841 cn842 cn843 cn844 cn845 cn846 cn847 cn848 cn849 cn850 cn851 cn852 cn853 cn854 cn855 cn856 cn857 cn858 cn859 cn860 cn861 cn862 cn863 cn864 cn865 cn866 cn867 cn868 cn869 cn870 cn871 cn872 cn873 cn874 cn875 cn876 cn877 cn878 cn879 cn880 cn881 cn882 cn883 cn884 cn885 cn886 cn887 cn888 cn889 cn890 cn891 cn892 cn893 cn894 cn895 cn896\\n',\n",
       " '- 1131567054 2005.11.09 tbird-admin1 Nov 9 12:10:54 local@tbird-admin1 gmetad: Warning: we failed to resolve data source name cn910 cn911 cn912 cn913 cn914 cn915 cn916 cn917 cn918 cn919 cn920 cn921 cn922 cn923 cn924 cn925 cn926 cn927 cn928 cn929 cn930 cn931 cn932 cn933 cn934 cn935 cn936 cn937 cn938 cn939 cn940 cn941 cn942 cn943 cn944 cn945 cn946 cn947 cn948 cn949 cn950 cn951 cn952 cn953 cn954 cn955 cn956 cn957 cn958 cn959 cn960 cn961 cn962 cn963 cn964 cn965 cn966 cn967 cn968 cn969 cn970 cn971 cn972 cn973 cn974 cn975 cn976 cn977 cn978 cn979 cn980 cn981 cn982 cn983 cn984 cn985 cn986 cn987 cn988 cn989 cn990 cn991 cn992 cn993 cn994 cn995 cn996 cn997 cn998 cn999 cn1000 cn1001 cn1002 cn1003 cn1004 cn1005 cn1006 cn1007 cn1008 cn1009 cn1010 cn1011 cn1012 cn1013 cn1014 cn1015 cn1016 cn1017 cn1018 cn1019 cn1020 cn1021 cn1022 cn1023 cn1024\\n',\n",
       " '- 1131567054 2005.11.09 tbird-admin1 Nov 9 12:10:54 local@tbird-admin1 gmetad: Warning: we failed to resolve data source name dn14 dn15 dn16 dn17 dn18 dn19 dn20 dn21 dn22 dn23 dn24 dn25 dn26 dn27 dn28 dn29 dn30 dn31 dn32 dn33 dn34 dn35 dn36 dn37 dn38 dn39 dn40 dn41 dn42 dn43 dn44 dn45 dn46 dn47 dn48 dn49 dn50 dn51 dn52 dn53 dn54 dn55 dn56 dn57 dn58 dn59 dn60 dn61 dn62 dn63 dn64 dn65 dn66 dn67 dn68 dn69 dn70 dn71 dn72 dn73 dn74 dn75 dn76 dn77 dn78 dn79 dn80 dn81 dn82 dn83 dn84 dn85 dn86 dn87 dn88 dn89 dn90 dn91 dn92 dn93 dn94 dn95 dn96 dn97 dn98 dn99 dn100 dn101 dn102 dn103 dn104 dn105 dn106 dn107 dn108 dn109 dn110 dn111 dn112 dn113 dn114 dn115 dn116 dn117 dn118 dn119 dn120 dn121 dn122 dn123 dn124 dn125 dn126 dn127 dn128\\n',\n",
       " '- 1131567054 2005.11.09 tbird-admin1 Nov 9 12:10:54 local@tbird-admin1 gmetad: Warning: we failed to resolve data source name dn142 dn143 dn144 dn145 dn146 dn147 dn148 dn149 dn150 dn151 dn152 dn153 dn154 dn155 dn156 dn157 dn158 dn159 dn160 dn161 dn162 dn163 dn164 dn165 dn166 dn167 dn168 dn169 dn170 dn171 dn172 dn173 dn174 dn175 dn176 dn177 dn178 dn179 dn180 dn181 dn182 dn183 dn184 dn185 dn186 dn187 dn188 dn189 dn190 dn191 dn192 dn193 dn194 dn195 dn196 dn197 dn198 dn199 dn200 dn201 dn202 dn203 dn204 dn205 dn206 dn207 dn208 dn209 dn210 dn211 dn212 dn213 dn214 dn215 dn216 dn217 dn218 dn219 dn220 dn221 dn222 dn223 dn224 dn225 dn226 dn227 dn228 dn229 dn230 dn231 dn232 dn233 dn234 dn235 dn236 dn237 dn238 dn239 dn240 dn241 dn242 dn243 dn244 dn245 dn246 dn247 dn248 dn249 dn250 dn251 dn252 dn253 dn254 dn255 dn256\\n',\n",
       " '- 1131567054 2005.11.09 tbird-admin1 Nov 9 12:10:54 local@tbird-admin1 gmetad: Warning: we failed to resolve data source name dn270 dn271 dn272 dn273 dn274 dn275 dn276 dn277 dn278 dn279 dn280 dn281 dn282 dn283 dn284 dn285 dn286 dn287 dn288 dn289 dn290 dn291 dn292 dn293 dn294 dn295 dn296 dn297 dn298 dn299 dn300 dn301 dn302 dn303 dn304 dn305 dn306 dn307 dn308 dn309 dn310 dn311 dn312 dn313 dn314 dn315 dn316 dn317 dn318 dn319 dn320 dn321 dn322 dn323 dn324 dn325 dn326 dn327 dn328 dn329 dn330 dn331 dn332 dn333 dn334 dn335 dn336 dn337 dn338 dn339 dn340 dn341 dn342 dn343 dn344 dn345 dn346 dn347 dn348 dn349 dn350 dn351 dn352 dn353 dn354 dn355 dn356 dn357 dn358 dn359 dn360 dn361 dn362 dn363 dn364 dn365 dn366 dn367 dn368 dn369 dn370 dn371 dn372 dn373 dn374 dn375 dn376 dn377 dn378 dn379 dn380 dn381 dn382 dn383 dn384\\n',\n",
       " '- 1131567054 2005.11.09 tbird-admin1 Nov 9 12:10:54 local@tbird-admin1 gmetad: Warning: we failed to resolve data source name dn398 dn399 dn400 dn401 dn402 dn403 dn404 dn405 dn406 dn407 dn408 dn409 dn410 dn411 dn412 dn413 dn414 dn415 dn416 dn417 dn418 dn419 dn420 dn421 dn422 dn423 dn424 dn425 dn426 dn427 dn428 dn429 dn430 dn431 dn432 dn433 dn434 dn435 dn436 dn437 dn438 dn439 dn440 dn441 dn442 dn443 dn444 dn445 dn446 dn447 dn448 dn449 dn450 dn451 dn452 dn453 dn454 dn455 dn456 dn457 dn458 dn459 dn460 dn461 dn462 dn463 dn464 dn465 dn466 dn467 dn468 dn469 dn470 dn471 dn472 dn473 dn474 dn475 dn476 dn477 dn478 dn479 dn480 dn481 dn482 dn483 dn484 dn485 dn486 dn487 dn488 dn489 dn490 dn491 dn492 dn493 dn494 dn495 dn496 dn497 dn498 dn499 dn500 dn501 dn502 dn503 dn504 dn505 dn506 dn507 dn508 dn509 dn510 dn511 dn512\\n',\n",
       " '- 1131567054 2005.11.09 tbird-admin1 Nov 9 12:10:54 local@tbird-admin1 gmetad: Warning: we failed to resolve data source name dn526 dn527 dn528 dn529 dn530 dn531 dn532 dn533 dn534 dn535 dn536 dn537 dn538 dn539 dn540 dn541 dn542 dn543 dn544 dn545 dn546 dn547 dn548 dn549 dn550 dn551 dn552 dn553 dn554 dn555 dn556 dn557 dn558 dn559 dn560 dn561 dn562 dn563 dn564 dn565 dn566 dn567 dn568 dn569 dn570 dn571 dn572 dn573 dn574 dn575 dn576 dn577 dn578 dn579 dn580 dn581 dn582 dn583 dn584 dn585 dn586 dn587 dn588 dn589 dn590 dn591 dn592 dn593 dn594 dn595 dn596 dn597 dn598 dn599 dn600 dn601 dn602 dn603 dn604 dn605 dn606 dn607 dn608 dn609 dn610 dn611 dn612 dn613 dn614 dn615 dn616 dn617 dn618 dn619 dn620 dn621 dn622 dn623 dn624 dn625 dn626 dn627 dn628 dn629 dn630 dn631 dn632 dn633 dn634 dn635 dn636 dn637 dn638 dn639 dn640\\n',\n",
       " '- 1131567054 2005.11.09 tbird-admin1 Nov 9 12:10:54 local@tbird-admin1 gmetad: Warning: we failed to resolve data source name dn654 dn655 dn656 dn657 dn658 dn659 dn660 dn661 dn662 dn663 dn664 dn665 dn666 dn667 dn668 dn669 dn670 dn671 dn672 dn673 dn674 dn675 dn676 dn677 dn678 dn679 dn680 dn681 dn682 dn683 dn684 dn685 dn686 dn687 dn688 dn689 dn690 dn691 dn692 dn693 dn694 dn695 dn696 dn697 dn698 dn699 dn700 dn701 dn702 dn703 dn704 dn705 dn706 dn707 dn708 dn709 dn710 dn711 dn712 dn713 dn714 dn715 dn716 dn717 dn718 dn719 dn720 dn721 dn722 dn723 dn724 dn725 dn726 dn727 dn728 dn729 dn730 dn731 dn732 dn733 dn734 dn735 dn736 dn737 dn738 dn739 dn740 dn741 dn742 dn743 dn744 dn745 dn746 dn747 dn748 dn749 dn750 dn751 dn752 dn753 dn754 dn755 dn756 dn757 dn758 dn759 dn760 dn761 dn762 dn763 dn764 dn765 dn766 dn767 dn768\\n',\n",
       " '- 1131567054 2005.11.09 tbird-admin1 Nov 9 12:10:54 local@tbird-admin1 gmetad: Warning: we failed to resolve data source name dn782 dn783 dn784 dn785 dn786 dn787 dn788 dn789 dn790 dn791 dn792 dn793 dn794 dn795 dn796 dn797 dn798 dn799 dn800 dn801 dn802 dn803 dn804 dn805 dn806 dn807 dn808 dn809 dn810 dn811 dn812 dn813 dn814 dn815 dn816 dn817 dn818 dn819 dn820 dn821 dn822 dn823 dn824 dn825 dn826 dn827 dn828 dn829 dn830 dn831 dn832 dn833 dn834 dn835 dn836 dn837 dn838 dn839 dn840 dn841 dn842 dn843 dn844 dn845 dn846 dn847 dn848 dn849 dn850 dn851 dn852 dn853 dn854 dn855 dn856 dn857 dn858 dn859 dn860 dn861 dn862 dn863 dn864 dn865 dn866 dn867 dn868 dn869 dn870 dn871 dn872 dn873 dn874 dn875 dn876 dn877 dn878 dn879 dn880 dn881 dn882 dn883 dn884 dn885 dn886 dn887 dn888 dn889 dn890 dn891 dn892 dn893 dn894 dn895 dn896\\n',\n",
       " '- 1131567054 2005.11.09 tbird-admin1 Nov 9 12:10:54 local@tbird-admin1 gmetad: Warning: we failed to resolve data source name dn910 dn911 dn912 dn913 dn914 dn915 dn916 dn917 dn918 dn919 dn920 dn921 dn922 dn923 dn924 dn925 dn926 dn927 dn928 dn929 dn930 dn931 dn932 dn933 dn934 dn935 dn936 dn937 dn938 dn939 dn940 dn941 dn942 dn943 dn944 dn945 dn946 dn947 dn948 dn949 dn950 dn951 dn952 dn953 dn954 dn955 dn956 dn957 dn958 dn959 dn960 dn961 dn962 dn963 dn964 dn965 dn966 dn967 dn968 dn969 dn970 dn971 dn972 dn973 dn974 dn975 dn976 dn977 dn978 dn979 dn980 dn981 dn982 dn983 dn984 dn985 dn986 dn987 dn988 dn989 dn990 dn991 dn992 dn993 dn994 dn995 dn996 dn997 dn998 dn999 dn1000 dn1001 dn1002 dn1003 dn1004 dn1005 dn1006 dn1007 dn1008 dn1009 dn1010 dn1011 dn1012 dn1013 dn1014 dn1015 dn1016 dn1017 dn1018 dn1019 dn1020 dn1021 dn1022 dn1023 dn1024\\n',\n",
       " '- 1131567054 2005.11.09 tbird-admin1 Nov 9 12:10:54 local@tbird-admin1 gmetad: Warning: we failed to resolve trusted host name dadmin3 dadmin4\\n',\n",
       " '- 1131567054 2005.11.09 tbird-admin1 Nov 9 12:10:54 local@tbird-admin1 gmetad: gmetad startup succeeded\\n',\n",
       " '- 1131567055 2005.11.09 tbird-admin1 Nov 9 12:10:55 local@tbird-admin1 NET: Registered protocol family 10\\n',\n",
       " '- 1131567055 2005.11.09 tbird-admin1 Nov 9 12:10:55 local@tbird-admin1 divert: not allocating divert_blk for non-ethernet device sit0\\n',\n",
       " '- 1131567055 2005.11.09 tbird-admin1 Nov 9 12:10:55 local@tbird-admin1 sshd: succeeded\\n',\n",
       " '- 1131567057 2005.11.09 tbird-admin1 Nov 9 12:10:57 local@tbird-admin1 syslog-ng[1605]: Cannot open file /dev/logsurfer for writing (No such file or directory)\\n',\n",
       " '- 1131567057 2005.11.09 tbird-admin1 Nov 9 12:10:57 local@tbird-admin1 syslog-ng[1605]: Changing permissions on special file /dev/logsurfer\\n',\n",
       " '- 1131567058 2005.11.09 tbird-sm1 Nov 9 12:10:58 src@tbird-sm1 ib_sm.x[24904]: [ib_sm_sweep.c:1831]: ********************** NEW SWEEP ********************\\n',\n",
       " '- 1131567060 2005.11.09 tbird-admin1 Nov 9 12:11:00 local@tbird-admin1 solproxy: succeeded\\n',\n",
       " '- 1131567060 2005.11.09 tbird-admin1 Nov 9 12:11:00 local@tbird-admin1 xinetd: xinetd startup succeeded\\n',\n",
       " '- 1131567062 2005.11.09 tbird-sm1 Nov 9 12:11:02 src@tbird-sm1 ib_sm.x[24904]: [ib_sm_sweep.c:1455]: No topology change\\n',\n",
       " '- 1131567062 2005.11.09 tbird-sm1 Nov 9 12:11:02 src@tbird-sm1 ib_sm.x[24904]: [ib_sm_sweep.c:1482]: No configuration change required\\n',\n",
       " '- 1131567072 2005.11.09 tbird-sm1 Nov 9 12:11:12 src@tbird-sm1 ib_sm.x[24904]: [ib_sm_sweep.c:1831]: ********************** NEW SWEEP ********************\\n',\n",
       " '- 1131567076 2005.11.09 tbird-sm1 Nov 9 12:11:16 src@tbird-sm1 ib_sm.x[24904]: [ib_sm_sweep.c:1455]: No topology change\\n',\n",
       " '- 1131567076 2005.11.09 tbird-sm1 Nov 9 12:11:16 src@tbird-sm1 ib_sm.x[24904]: [ib_sm_sweep.c:1482]: No configuration change required\\n',\n",
       " '- 1131567086 2005.11.09 tbird-sm1 Nov 9 12:11:26 src@tbird-sm1 ib_sm.x[24904]: [ib_sm_sweep.c:1831]: ********************** NEW SWEEP ********************\\n',\n",
       " '- 1131567090 2005.11.09 tbird-sm1 Nov 9 12:11:30 src@tbird-sm1 ib_sm.x[24904]: [ib_sm_sweep.c:1455]: No topology change\\n',\n",
       " '- 1131567090 2005.11.09 tbird-sm1 Nov 9 12:11:30 src@tbird-sm1 ib_sm.x[24904]: [ib_sm_sweep.c:1482]: No configuration change required\\n',\n",
       " '- 1131567100 2005.11.09 tbird-sm1 Nov 9 12:11:40 src@tbird-sm1 ib_sm.x[24904]: [ib_sm_sweep.c:1831]: ********************** NEW SWEEP ********************\\n',\n",
       " '- 1131567104 2005.11.09 tbird-sm1 Nov 9 12:11:44 src@tbird-sm1 ib_sm.x[24904]: [ib_sm_sweep.c:1455]: No topology change\\n',\n",
       " '- 1131567104 2005.11.09 tbird-sm1 Nov 9 12:11:44 src@tbird-sm1 ib_sm.x[24904]: [ib_sm_sweep.c:1482]: No configuration change required\\n',\n",
       " '- 1131567114 2005.11.09 tbird-sm1 Nov 9 12:11:54 src@tbird-sm1 ib_sm.x[24904]: [ib_sm_sweep.c:1831]: ********************** NEW SWEEP ********************\\n',\n",
       " '- 1131567118 2005.11.09 tbird-sm1 Nov 9 12:11:58 src@tbird-sm1 ib_sm.x[24904]: [ib_sm_sweep.c:1455]: No topology change\\n',\n",
       " '- 1131567118 2005.11.09 tbird-sm1 Nov 9 12:11:58 src@tbird-sm1 ib_sm.x[24904]: [ib_sm_sweep.c:1482]: No configuration change required\\n',\n",
       " '- 1131567128 2005.11.09 tbird-sm1 Nov 9 12:12:08 src@tbird-sm1 ib_sm.x[24904]: [ib_sm_sweep.c:1831]: ********************** NEW SWEEP ********************\\n',\n",
       " '- 1131567132 2005.11.09 tbird-sm1 Nov 9 12:12:12 src@tbird-sm1 ib_sm.x[24904]: [ib_sm_sweep.c:1455]: No topology change\\n',\n",
       " '- 1131567132 2005.11.09 tbird-sm1 Nov 9 12:12:12 src@tbird-sm1 ib_sm.x[24904]: [ib_sm_sweep.c:1482]: No configuration change required\\n',\n",
       " '- 1131567142 2005.11.09 tbird-sm1 Nov 9 12:12:22 src@tbird-sm1 ib_sm.x[24904]: [ib_sm_sweep.c:1831]: ********************** NEW SWEEP ********************\\n',\n",
       " '- 1131567146 2005.11.09 tbird-sm1 Nov 9 12:12:26 src@tbird-sm1 ib_sm.x[24904]: [ib_sm_sweep.c:1455]: No topology change\\n',\n",
       " '- 1131567146 2005.11.09 tbird-sm1 Nov 9 12:12:26 src@tbird-sm1 ib_sm.x[24904]: [ib_sm_sweep.c:1482]: No configuration change required\\n',\n",
       " '- 1131567156 2005.11.09 tbird-sm1 Nov 9 12:12:36 src@tbird-sm1 ib_sm.x[24904]: [ib_sm_sweep.c:1831]: ********************** NEW SWEEP ********************\\n',\n",
       " '- 1131567160 2005.11.09 tbird-sm1 Nov 9 12:12:40 src@tbird-sm1 ib_sm.x[24904]: [ib_sm_sweep.c:1455]: No topology change\\n',\n",
       " '- 1131567160 2005.11.09 tbird-sm1 Nov 9 12:12:40 src@tbird-sm1 ib_sm.x[24904]: [ib_sm_sweep.c:1482]: No configuration change required\\n',\n",
       " '- 1131567170 2005.11.09 tbird-sm1 Nov 9 12:12:50 src@tbird-sm1 ib_sm.x[24904]: [ib_sm_sweep.c:1831]: ********************** NEW SWEEP ********************\\n',\n",
       " '- 1131567174 2005.11.09 tbird-sm1 Nov 9 12:12:54 src@tbird-sm1 ib_sm.x[24904]: [ib_sm_sweep.c:1455]: No topology change\\n',\n",
       " '- 1131567174 2005.11.09 tbird-sm1 Nov 9 12:12:54 src@tbird-sm1 ib_sm.x[24904]: [ib_sm_sweep.c:1482]: No configuration change required\\n',\n",
       " '- 1131567184 2005.11.09 tbird-sm1 Nov 9 12:13:04 src@tbird-sm1 ib_sm.x[24904]: [ib_sm_sweep.c:1831]: ********************** NEW SWEEP ********************\\n',\n",
       " '- 1131567188 2005.11.09 tbird-sm1 Nov 9 12:13:08 src@tbird-sm1 ib_sm.x[24904]: [ib_sm_sweep.c:1455]: No topology change\\n',\n",
       " '- 1131567188 2005.11.09 tbird-sm1 Nov 9 12:13:08 src@tbird-sm1 ib_sm.x[24904]: [ib_sm_sweep.c:1482]: No configuration change required\\n',\n",
       " '- 1131567198 2005.11.09 tbird-sm1 Nov 9 12:13:18 src@tbird-sm1 ib_sm.x[24904]: [ib_sm_sweep.c:1831]: ********************** NEW SWEEP ********************\\n',\n",
       " '- 1131567202 2005.11.09 tbird-sm1 Nov 9 12:13:22 src@tbird-sm1 ib_sm.x[24904]: [ib_sm_sweep.c:1455]: No topology change\\n',\n",
       " '- 1131567202 2005.11.09 tbird-sm1 Nov 9 12:13:22 src@tbird-sm1 ib_sm.x[24904]: [ib_sm_sweep.c:1482]: No configuration change required\\n',\n",
       " '- 1131567212 2005.11.09 tbird-sm1 Nov 9 12:13:32 src@tbird-sm1 ib_sm.x[24904]: [ib_sm_sweep.c:1831]: ********************** NEW SWEEP ********************\\n',\n",
       " '- 1131567216 2005.11.09 tbird-sm1 Nov 9 12:13:36 src@tbird-sm1 ib_sm.x[24904]: [ib_sm_sweep.c:1455]: No topology change\\n',\n",
       " '- 1131567216 2005.11.09 tbird-sm1 Nov 9 12:13:36 src@tbird-sm1 ib_sm.x[24904]: [ib_sm_sweep.c:1482]: No configuration change required\\n',\n",
       " '- 1131567226 2005.11.09 tbird-sm1 Nov 9 12:13:46 src@tbird-sm1 ib_sm.x[24904]: [ib_sm_sweep.c:1831]: ********************** NEW SWEEP ********************\\n',\n",
       " '- 1131567230 2005.11.09 tbird-sm1 Nov 9 12:13:50 src@tbird-sm1 ib_sm.x[24904]: [ib_sm_sweep.c:1455]: No topology change\\n',\n",
       " '- 1131567230 2005.11.09 tbird-sm1 Nov 9 12:13:50 src@tbird-sm1 ib_sm.x[24904]: [ib_sm_sweep.c:1482]: No configuration change required\\n',\n",
       " '- 1131567240 2005.11.09 tbird-sm1 Nov 9 12:14:00 src@tbird-sm1 ib_sm.x[24904]: [ib_sm_sweep.c:1831]: ********************** NEW SWEEP ********************\\n',\n",
       " '- 1131567244 2005.11.09 tbird-sm1 Nov 9 12:14:04 src@tbird-sm1 ib_sm.x[24904]: [ib_sm_sweep.c:1455]: No topology change\\n',\n",
       " '- 1131567244 2005.11.09 tbird-sm1 Nov 9 12:14:04 src@tbird-sm1 ib_sm.x[24904]: [ib_sm_sweep.c:1482]: No configuration change required\\n',\n",
       " '- 1131567254 2005.11.09 tbird-sm1 Nov 9 12:14:14 src@tbird-sm1 ib_sm.x[24904]: [ib_sm_sweep.c:1831]: ********************** NEW SWEEP ********************\\n',\n",
       " '- 1131567258 2005.11.09 tbird-sm1 Nov 9 12:14:18 src@tbird-sm1 ib_sm.x[24904]: [ib_sm_sweep.c:1455]: No topology change\\n',\n",
       " '- 1131567258 2005.11.09 tbird-sm1 Nov 9 12:14:18 src@tbird-sm1 ib_sm.x[24904]: [ib_sm_sweep.c:1482]: No configuration change required\\n',\n",
       " '- 1131567268 2005.11.09 tbird-sm1 Nov 9 12:14:28 src@tbird-sm1 ib_sm.x[24904]: [ib_sm_sweep.c:1831]: ********************** NEW SWEEP ********************\\n',\n",
       " '- 1131567272 2005.11.09 tbird-sm1 Nov 9 12:14:32 src@tbird-sm1 ib_sm.x[24904]: [ib_sm_sweep.c:1455]: No topology change\\n',\n",
       " '- 1131567272 2005.11.09 tbird-sm1 Nov 9 12:14:32 src@tbird-sm1 ib_sm.x[24904]: [ib_sm_sweep.c:1482]: No configuration change required\\n',\n",
       " '- 1131567282 2005.11.09 tbird-sm1 Nov 9 12:14:42 src@tbird-sm1 ib_sm.x[24904]: [ib_sm_sweep.c:1831]: ********************** NEW SWEEP ********************\\n',\n",
       " '- 1131567286 2005.11.09 tbird-sm1 Nov 9 12:14:46 src@tbird-sm1 ib_sm.x[24904]: [ib_sm_sweep.c:1455]: No topology change\\n',\n",
       " '- 1131567286 2005.11.09 tbird-sm1 Nov 9 12:14:46 src@tbird-sm1 ib_sm.x[24904]: [ib_sm_sweep.c:1482]: No configuration change required\\n',\n",
       " '- 1131567296 2005.11.09 tbird-sm1 Nov 9 12:14:56 src@tbird-sm1 ib_sm.x[24904]: [ib_sm_sweep.c:1831]: ********************** NEW SWEEP ********************\\n',\n",
       " '- 1131567300 2005.11.09 tbird-sm1 Nov 9 12:15:00 src@tbird-sm1 ib_sm.x[24904]: [ib_sm_sweep.c:1455]: No topology change\\n',\n",
       " '- 1131567300 2005.11.09 tbird-sm1 Nov 9 12:15:00 src@tbird-sm1 ib_sm.x[24904]: [ib_sm_sweep.c:1482]: No configuration change required\\n',\n",
       " '- 1131567310 2005.11.09 tbird-sm1 Nov 9 12:15:10 src@tbird-sm1 ib_sm.x[24904]: [ib_sm_sweep.c:1831]: ********************** NEW SWEEP ********************\\n',\n",
       " '- 1131567314 2005.11.09 tbird-sm1 Nov 9 12:15:14 src@tbird-sm1 ib_sm.x[24904]: [ib_sm_sweep.c:1455]: No topology change\\n',\n",
       " '- 1131567314 2005.11.09 tbird-sm1 Nov 9 12:15:14 src@tbird-sm1 ib_sm.x[24904]: [ib_sm_sweep.c:1482]: No configuration change required\\n',\n",
       " '- 1131567324 2005.11.09 tbird-sm1 Nov 9 12:15:24 src@tbird-sm1 ib_sm.x[24904]: [ib_sm_sweep.c:1831]: ********************** NEW SWEEP ********************\\n',\n",
       " '- 1131567328 2005.11.09 tbird-sm1 Nov 9 12:15:28 src@tbird-sm1 ib_sm.x[24904]: [ib_sm_sweep.c:1455]: No topology change\\n',\n",
       " '- 1131567328 2005.11.09 tbird-sm1 Nov 9 12:15:28 src@tbird-sm1 ib_sm.x[24904]: [ib_sm_sweep.c:1482]: No configuration change required\\n']"
      ]
     },
     "execution_count": 121,
     "metadata": {},
     "output_type": "execute_result"
    }
   ],
   "source": [
    "non_daemon_lst\n",
    "# Processes not ending with \"d\" are listed in the non-daemon list of processes (good!)\n",
    "# It seems that the \"period\" punctuation mark is allowed in process names (e.g. ib_sm.x[24904])"
   ]
  },
  {
   "cell_type": "code",
   "execution_count": 144,
   "metadata": {},
   "outputs": [
    {
     "data": {
      "text/plain": [
       "{'crond',\n",
       " 'gmetad',\n",
       " 'ntpd',\n",
       " 'rpc.statd',\n",
       " 'send',\n",
       " 'smartd',\n",
       " 'snmpd',\n",
       " 'sshd',\n",
       " 'xinetd'}"
      ]
     },
     "execution_count": 144,
     "metadata": {},
     "output_type": "execute_result"
    }
   ],
   "source": [
    "# Inlcude the period punctuation mark as part of a valid set of character for process names:\n",
    "regex = r\"([\\w\\.]{1,10}d)[\\(\\w\\)]*\\[\\d*\\]\" # extract the name of the processes\n",
    "\n",
    "daemon_lst = []\n",
    "non_daemon_lst = []\n",
    "for line in log_file:\n",
    "    result = re.findall(regex,line)\n",
    "    if len(result) != 0:        \n",
    "            daemon_lst.append((result[0]))\n",
    "    elif len(result) == 0:\n",
    "        non_daemon_lst.append(line)\n",
    "\n",
    "daemon_set = set(daemon_lst)\n",
    "daemon_set\n",
    "\n",
    "# Note: daemon_lst now includes rpc.statd\n"
   ]
  },
  {
   "cell_type": "code",
   "execution_count": 145,
   "metadata": {},
   "outputs": [
    {
     "name": "stdout",
     "output_type": "stream",
     "text": [
      "9 different daemon process names were identified in the logs.\n",
      "Out of 2000 log messages, 449 were issued through a non-daemon process.\n"
     ]
    }
   ],
   "source": [
    "print(\"{} different daemon process names were identified in the logs.\".format(len(daemon_set)))\n",
    "print(\"Out of {} log messages, {} were issued through a non-daemon process.\".format(len(log_file),len(non_daemon_lst)))"
   ]
  },
  {
   "cell_type": "markdown",
   "metadata": {},
   "source": [
    "### How many times each daemon process occurs in the log?"
   ]
  },
  {
   "cell_type": "code",
   "execution_count": 165,
   "metadata": {},
   "outputs": [
    {
     "data": {
      "text/html": [
       "<div>\n",
       "<style scoped>\n",
       "    .dataframe tbody tr th:only-of-type {\n",
       "        vertical-align: middle;\n",
       "    }\n",
       "\n",
       "    .dataframe tbody tr th {\n",
       "        vertical-align: top;\n",
       "    }\n",
       "\n",
       "    .dataframe thead th {\n",
       "        text-align: right;\n",
       "    }\n",
       "</style>\n",
       "<table border=\"1\" class=\"dataframe\">\n",
       "  <thead>\n",
       "    <tr style=\"text-align: right;\">\n",
       "      <th></th>\n",
       "      <th>Daemon</th>\n",
       "      <th>Counts</th>\n",
       "      <th>Frequency</th>\n",
       "    </tr>\n",
       "  </thead>\n",
       "  <tbody>\n",
       "    <tr>\n",
       "      <th>4</th>\n",
       "      <td>gmetad</td>\n",
       "      <td>830</td>\n",
       "      <td>0.415</td>\n",
       "    </tr>\n",
       "    <tr>\n",
       "      <th>8</th>\n",
       "      <td>ntpd</td>\n",
       "      <td>571</td>\n",
       "      <td>0.2855</td>\n",
       "    </tr>\n",
       "    <tr>\n",
       "      <th>5</th>\n",
       "      <td>crond</td>\n",
       "      <td>62</td>\n",
       "      <td>0.031</td>\n",
       "    </tr>\n",
       "    <tr>\n",
       "      <th>7</th>\n",
       "      <td>xinetd</td>\n",
       "      <td>36</td>\n",
       "      <td>0.018</td>\n",
       "    </tr>\n",
       "    <tr>\n",
       "      <th>1</th>\n",
       "      <td>send</td>\n",
       "      <td>35</td>\n",
       "      <td>0.0175</td>\n",
       "    </tr>\n",
       "    <tr>\n",
       "      <th>2</th>\n",
       "      <td>sshd</td>\n",
       "      <td>14</td>\n",
       "      <td>0.007</td>\n",
       "    </tr>\n",
       "    <tr>\n",
       "      <th>0</th>\n",
       "      <td>rpc.statd</td>\n",
       "      <td>1</td>\n",
       "      <td>0.0005</td>\n",
       "    </tr>\n",
       "    <tr>\n",
       "      <th>3</th>\n",
       "      <td>smartd</td>\n",
       "      <td>1</td>\n",
       "      <td>0.0005</td>\n",
       "    </tr>\n",
       "    <tr>\n",
       "      <th>6</th>\n",
       "      <td>snmpd</td>\n",
       "      <td>1</td>\n",
       "      <td>0.0005</td>\n",
       "    </tr>\n",
       "  </tbody>\n",
       "</table>\n",
       "</div>"
      ],
      "text/plain": [
       "      Daemon Counts Frequency\n",
       "4     gmetad    830     0.415\n",
       "8       ntpd    571    0.2855\n",
       "5      crond     62     0.031\n",
       "7     xinetd     36     0.018\n",
       "1       send     35    0.0175\n",
       "2       sshd     14     0.007\n",
       "0  rpc.statd      1    0.0005\n",
       "3     smartd      1    0.0005\n",
       "6      snmpd      1    0.0005"
      ]
     },
     "execution_count": 165,
     "metadata": {},
     "output_type": "execute_result"
    }
   ],
   "source": [
    "import pandas as pd\n",
    "\n",
    "df_daemons = pd.DataFrame(columns=[\"Daemon\",\"Counts\",\"Frequency\"])\n",
    "for i, daemon_name in enumerate(list(daemon_set)):\n",
    "    df_daemons.loc[i,\"Daemon\"] = list(daemon_set)[i]\n",
    "    df_daemons.loc[i,\"Counts\"] = daemon_lst.count(daemon_name)\n",
    "    df_daemons.loc[i,\"Frequency\"] = daemon_lst.count(daemon_name)/len(log_file)\n",
    "\n",
    "df_daemons.sort_values(\"Frequency\",ascending=False,inplace =True)\n",
    "df_daemons"
   ]
  },
  {
   "cell_type": "markdown",
   "metadata": {},
   "source": [
    "### What are the messages of the most frequent process ID?"
   ]
  },
  {
   "cell_type": "code",
   "execution_count": 170,
   "metadata": {},
   "outputs": [
    {
     "data": {
      "text/html": [
       "<div>\n",
       "<style scoped>\n",
       "    .dataframe tbody tr th:only-of-type {\n",
       "        vertical-align: middle;\n",
       "    }\n",
       "\n",
       "    .dataframe tbody tr th {\n",
       "        vertical-align: top;\n",
       "    }\n",
       "\n",
       "    .dataframe thead th {\n",
       "        text-align: right;\n",
       "    }\n",
       "</style>\n",
       "<table border=\"1\" class=\"dataframe\">\n",
       "  <thead>\n",
       "    <tr style=\"text-align: right;\">\n",
       "      <th></th>\n",
       "      <th>PID</th>\n",
       "      <th>Counts</th>\n",
       "      <th>Frequency</th>\n",
       "    </tr>\n",
       "  </thead>\n",
       "  <tbody>\n",
       "    <tr>\n",
       "      <th>89</th>\n",
       "      <td>1682</td>\n",
       "      <td>799</td>\n",
       "      <td>0.3995</td>\n",
       "    </tr>\n",
       "    <tr>\n",
       "      <th>344</th>\n",
       "      <td>1798</td>\n",
       "      <td>35</td>\n",
       "      <td>0.0175</td>\n",
       "    </tr>\n",
       "    <tr>\n",
       "      <th>104</th>\n",
       "      <td>1691</td>\n",
       "      <td>31</td>\n",
       "      <td>0.0155</td>\n",
       "    </tr>\n",
       "    <tr>\n",
       "      <th>108</th>\n",
       "      <td>1815</td>\n",
       "      <td>5</td>\n",
       "      <td>0.0025</td>\n",
       "    </tr>\n",
       "    <tr>\n",
       "      <th>380</th>\n",
       "      <td>14256</td>\n",
       "      <td>4</td>\n",
       "      <td>0.002</td>\n",
       "    </tr>\n",
       "    <tr>\n",
       "      <th>...</th>\n",
       "      <td>...</td>\n",
       "      <td>...</td>\n",
       "      <td>...</td>\n",
       "    </tr>\n",
       "    <tr>\n",
       "      <th>210</th>\n",
       "      <td>24262</td>\n",
       "      <td>1</td>\n",
       "      <td>0.0005</td>\n",
       "    </tr>\n",
       "    <tr>\n",
       "      <th>209</th>\n",
       "      <td>14363</td>\n",
       "      <td>1</td>\n",
       "      <td>0.0005</td>\n",
       "    </tr>\n",
       "    <tr>\n",
       "      <th>208</th>\n",
       "      <td>2921</td>\n",
       "      <td>1</td>\n",
       "      <td>0.0005</td>\n",
       "    </tr>\n",
       "    <tr>\n",
       "      <th>207</th>\n",
       "      <td>30260</td>\n",
       "      <td>1</td>\n",
       "      <td>0.0005</td>\n",
       "    </tr>\n",
       "    <tr>\n",
       "      <th>276</th>\n",
       "      <td>29159</td>\n",
       "      <td>1</td>\n",
       "      <td>0.0005</td>\n",
       "    </tr>\n",
       "  </tbody>\n",
       "</table>\n",
       "<p>521 rows × 3 columns</p>\n",
       "</div>"
      ],
      "text/plain": [
       "       PID Counts Frequency\n",
       "89    1682    799    0.3995\n",
       "344   1798     35    0.0175\n",
       "104   1691     31    0.0155\n",
       "108   1815      5    0.0025\n",
       "380  14256      4     0.002\n",
       "..     ...    ...       ...\n",
       "210  24262      1    0.0005\n",
       "209  14363      1    0.0005\n",
       "208   2921      1    0.0005\n",
       "207  30260      1    0.0005\n",
       "276  29159      1    0.0005\n",
       "\n",
       "[521 rows x 3 columns]"
      ]
     },
     "execution_count": 170,
     "metadata": {},
     "output_type": "execute_result"
    }
   ],
   "source": [
    "## Find out which is the most process ID\n",
    "regex = r\"[\\w\\.]{1,10}d[\\(\\w\\)]*\\[(\\d*)\\]\" # extract the process ID of the processes\n",
    "\n",
    "pid_lst = []\n",
    "for line in log_file:\n",
    "    result = re.findall(regex,line)\n",
    "    if len(result) != 0:        \n",
    "            pid_lst.append((result[0]))\n",
    "\n",
    "df_pid = pd.DataFrame(columns=[\"PID\",\"Counts\",\"Frequency\"])\n",
    "for i, pid in enumerate(list(set(pid_lst))):\n",
    "    df_pid.loc[i,\"PID\"] = pid\n",
    "    df_pid.loc[i,\"Counts\"] = pid_lst.count(pid)\n",
    "    df_pid.loc[i,\"Frequency\"] = pid_lst.count(pid)/len(log_file)\n",
    "\n",
    "df_pid.sort_values(\"Counts\",ascending=False,inplace =True)\n",
    "df_pid\n",
    "\n",
    "# Note: Process with PID 1682 occurs 40% of the times"
   ]
  },
  {
   "cell_type": "code",
   "execution_count": 171,
   "metadata": {},
   "outputs": [
    {
     "data": {
      "text/plain": [
       "[': data_thread() got not answer from any [Thunderbird_A8] datasource',\n",
       " ': data_thread() got not answer from any [Thunderbird_B8] datasource',\n",
       " ': data_thread() got not answer from any [Thunderbird_C5] datasource',\n",
       " ': data_thread() got not answer from any [Thunderbird_B7] datasource',\n",
       " ': data_thread() got not answer from any [Thunderbird_A4] datasource',\n",
       " ': data_thread() got not answer from any [Thunderbird_B4] datasource',\n",
       " ': data_thread() got not answer from any [Thunderbird_C8] datasource',\n",
       " ': data_thread() got not answer from any [Thunderbird_B3] datasource',\n",
       " ': data_thread() got not answer from any [Thunderbird_D5] datasource',\n",
       " ': data_thread() got not answer from any [Thunderbird_A1] datasource',\n",
       " ': data_thread() got not answer from any [Thunderbird_C2] datasource',\n",
       " ': data_thread() got not answer from any [Thunderbird_B1] datasource',\n",
       " ': data_thread() got not answer from any [Thunderbird_A3] datasource',\n",
       " ': data_thread() got not answer from any [Thunderbird_A5] datasource',\n",
       " ': data_thread() got not answer from any [Thunderbird_A6] datasource',\n",
       " ': data_thread() got not answer from any [Thunderbird_B6] datasource',\n",
       " ': data_thread() got not answer from any [Thunderbird_B2] datasource',\n",
       " ': data_thread() got not answer from any [Thunderbird_C1] datasource',\n",
       " ': data_thread() got not answer from any [Thunderbird_C4] datasource',\n",
       " ': data_thread() got not answer from any [Thunderbird_D7] datasource',\n",
       " ': data_thread() got not answer from any [Thunderbird_A7] datasource',\n",
       " ': data_thread() got not answer from any [Thunderbird_D6] datasource',\n",
       " ': data_thread() got not answer from any [Thunderbird_B5] datasource',\n",
       " ': data_thread() got not answer from any [Thunderbird_B8] datasource',\n",
       " ': data_thread() got not answer from any [Thunderbird_D4] datasource',\n",
       " ': data_thread() got not answer from any [Thunderbird_C6] datasource',\n",
       " ': data_thread() got not answer from any [Thunderbird_D8] datasource',\n",
       " ': data_thread() got not answer from any [Thunderbird_A2] datasource',\n",
       " ': data_thread() got not answer from any [Thunderbird_A8] datasource',\n",
       " ': data_thread() got not answer from any [Thunderbird_B7] datasource',\n",
       " ': data_thread() got not answer from any [Thunderbird_A4] datasource',\n",
       " ': data_thread() got not answer from any [Thunderbird_C5] datasource',\n",
       " ': data_thread() got not answer from any [Thunderbird_B4] datasource',\n",
       " ': data_thread() got not answer from any [Thunderbird_C8] datasource',\n",
       " ': data_thread() got not answer from any [Thunderbird_D5] datasource',\n",
       " ': data_thread() got not answer from any [Thunderbird_B3] datasource',\n",
       " ': data_thread() got not answer from any [Thunderbird_C2] datasource',\n",
       " ': data_thread() got not answer from any [Thunderbird_B1] datasource',\n",
       " ': data_thread() got not answer from any [Thunderbird_A1] datasource',\n",
       " ': data_thread() got not answer from any [Thunderbird_C4] datasource',\n",
       " ': data_thread() got not answer from any [Thunderbird_A5] datasource',\n",
       " ': data_thread() got not answer from any [Thunderbird_C1] datasource',\n",
       " ': data_thread() got not answer from any [Thunderbird_A6] datasource',\n",
       " ': data_thread() got not answer from any [Thunderbird_D7] datasource',\n",
       " ': data_thread() got not answer from any [Thunderbird_A3] datasource',\n",
       " ': data_thread() got not answer from any [Thunderbird_B6] datasource',\n",
       " ': data_thread() got not answer from any [Thunderbird_B2] datasource',\n",
       " ': data_thread() got not answer from any [Thunderbird_B5] datasource',\n",
       " ': data_thread() got not answer from any [Thunderbird_D6] datasource',\n",
       " ': data_thread() got not answer from any [Thunderbird_D8] datasource',\n",
       " ': data_thread() got not answer from any [Thunderbird_A2] datasource',\n",
       " ': data_thread() got not answer from any [Thunderbird_A7] datasource',\n",
       " ': data_thread() got not answer from any [Thunderbird_B8] datasource',\n",
       " ': data_thread() got not answer from any [Thunderbird_D4] datasource',\n",
       " ': data_thread() got not answer from any [Thunderbird_C6] datasource',\n",
       " ': data_thread() got not answer from any [Thunderbird_B7] datasource',\n",
       " ': data_thread() got not answer from any [Thunderbird_A4] datasource',\n",
       " ': data_thread() got not answer from any [Thunderbird_B4] datasource',\n",
       " ': data_thread() got not answer from any [Thunderbird_C8] datasource',\n",
       " ': data_thread() got not answer from any [Thunderbird_C5] datasource',\n",
       " ': data_thread() got not answer from any [Thunderbird_A8] datasource',\n",
       " ': data_thread() got not answer from any [Thunderbird_D5] datasource',\n",
       " ': data_thread() got not answer from any [Thunderbird_C2] datasource',\n",
       " ': data_thread() got not answer from any [Thunderbird_C4] datasource',\n",
       " ': data_thread() got not answer from any [Thunderbird_B3] datasource',\n",
       " ': data_thread() got not answer from any [Thunderbird_A1] datasource',\n",
       " ': data_thread() got not answer from any [Thunderbird_A6] datasource',\n",
       " ': data_thread() got not answer from any [Thunderbird_B1] datasource',\n",
       " ': data_thread() got not answer from any [Thunderbird_A3] datasource',\n",
       " ': data_thread() got not answer from any [Thunderbird_C1] datasource',\n",
       " ': data_thread() got not answer from any [Thunderbird_A5] datasource',\n",
       " ': data_thread() got not answer from any [Thunderbird_D7] datasource',\n",
       " ': data_thread() got not answer from any [Thunderbird_D6] datasource',\n",
       " ': data_thread() got not answer from any [Thunderbird_A2] datasource',\n",
       " ': data_thread() got not answer from any [Thunderbird_B5] datasource',\n",
       " ': data_thread() got not answer from any [Thunderbird_B6] datasource',\n",
       " ': data_thread() got not answer from any [Thunderbird_D4] datasource',\n",
       " ': data_thread() got not answer from any [Thunderbird_B2] datasource',\n",
       " ': data_thread() got not answer from any [Thunderbird_B7] datasource',\n",
       " ': data_thread() got not answer from any [Thunderbird_C6] datasource',\n",
       " ': data_thread() got not answer from any [Thunderbird_A7] datasource',\n",
       " ': data_thread() got not answer from any [Thunderbird_D8] datasource',\n",
       " ': data_thread() got not answer from any [Thunderbird_B8] datasource',\n",
       " ': data_thread() got not answer from any [Thunderbird_C8] datasource',\n",
       " ': data_thread() got not answer from any [Thunderbird_A4] datasource',\n",
       " ': data_thread() got not answer from any [Thunderbird_B4] datasource',\n",
       " ': data_thread() got not answer from any [Thunderbird_C5] datasource',\n",
       " ': data_thread() got not answer from any [Thunderbird_D5] datasource',\n",
       " ': data_thread() got not answer from any [Thunderbird_A8] datasource',\n",
       " ': data_thread() got not answer from any [Thunderbird_C4] datasource',\n",
       " ': data_thread() got not answer from any [Thunderbird_B3] datasource',\n",
       " ': data_thread() got not answer from any [Thunderbird_C2] datasource',\n",
       " ': data_thread() got not answer from any [Thunderbird_A6] datasource',\n",
       " ': data_thread() got not answer from any [Thunderbird_B5] datasource',\n",
       " ': data_thread() got not answer from any [Thunderbird_A1] datasource',\n",
       " ': data_thread() got not answer from any [Thunderbird_A5] datasource',\n",
       " ': data_thread() got not answer from any [Thunderbird_B1] datasource',\n",
       " ': data_thread() got not answer from any [Thunderbird_C1] datasource',\n",
       " ': data_thread() got not answer from any [Thunderbird_A3] datasource',\n",
       " ': data_thread() got not answer from any [Thunderbird_B6] datasource',\n",
       " ': data_thread() got not answer from any [Thunderbird_B2] datasource',\n",
       " ': data_thread() got not answer from any [Thunderbird_C6] datasource',\n",
       " ': data_thread() got not answer from any [Thunderbird_D7] datasource',\n",
       " ': data_thread() got not answer from any [Thunderbird_D4] datasource',\n",
       " ': data_thread() got not answer from any [Thunderbird_D6] datasource',\n",
       " ': data_thread() got not answer from any [Thunderbird_A2] datasource',\n",
       " ': data_thread() got not answer from any [Thunderbird_A4] datasource',\n",
       " ': data_thread() got not answer from any [Thunderbird_A7] datasource',\n",
       " ': data_thread() got not answer from any [Thunderbird_D8] datasource',\n",
       " ': data_thread() got not answer from any [Thunderbird_B7] datasource',\n",
       " ': data_thread() got not answer from any [Thunderbird_B8] datasource',\n",
       " ': data_thread() got not answer from any [Thunderbird_C8] datasource',\n",
       " ': data_thread() got not answer from any [Thunderbird_B4] datasource',\n",
       " ': data_thread() got not answer from any [Thunderbird_A8] datasource',\n",
       " ': data_thread() got not answer from any [Thunderbird_D5] datasource',\n",
       " ': data_thread() got not answer from any [Thunderbird_C4] datasource',\n",
       " ': data_thread() got not answer from any [Thunderbird_C5] datasource',\n",
       " ': data_thread() got not answer from any [Thunderbird_B3] datasource',\n",
       " ': data_thread() got not answer from any [Thunderbird_A6] datasource',\n",
       " ': data_thread() got not answer from any [Thunderbird_A1] datasource',\n",
       " ': data_thread() got not answer from any [Thunderbird_C2] datasource',\n",
       " ': data_thread() got not answer from any [Thunderbird_C1] datasource',\n",
       " ': data_thread() got not answer from any [Thunderbird_A5] datasource',\n",
       " ': data_thread() got not answer from any [Thunderbird_B5] datasource',\n",
       " ': data_thread() got not answer from any [Thunderbird_B6] datasource',\n",
       " ': data_thread() got not answer from any [Thunderbird_B1] datasource',\n",
       " ': data_thread() got not answer from any [Thunderbird_A2] datasource',\n",
       " ': data_thread() got not answer from any [Thunderbird_A3] datasource',\n",
       " ': data_thread() got not answer from any [Thunderbird_D4] datasource',\n",
       " ': data_thread() got not answer from any [Thunderbird_D6] datasource',\n",
       " ': data_thread() got not answer from any [Thunderbird_A7] datasource',\n",
       " ': data_thread() got not answer from any [Thunderbird_B2] datasource',\n",
       " ': data_thread() got not answer from any [Thunderbird_B7] datasource',\n",
       " ': data_thread() got not answer from any [Thunderbird_C6] datasource',\n",
       " ': data_thread() got not answer from any [Thunderbird_D7] datasource',\n",
       " ': data_thread() got not answer from any [Thunderbird_A4] datasource',\n",
       " ': data_thread() got not answer from any [Thunderbird_B4] datasource',\n",
       " ': data_thread() got not answer from any [Thunderbird_A8] datasource',\n",
       " ': data_thread() got not answer from any [Thunderbird_B8] datasource',\n",
       " ': data_thread() got not answer from any [Thunderbird_D8] datasource',\n",
       " ': data_thread() got not answer from any [Thunderbird_C8] datasource',\n",
       " ': data_thread() got not answer from any [Thunderbird_D5] datasource',\n",
       " ': data_thread() got not answer from any [Thunderbird_B3] datasource',\n",
       " ': data_thread() got not answer from any [Thunderbird_A6] datasource',\n",
       " ': data_thread() got not answer from any [Thunderbird_C4] datasource',\n",
       " ': data_thread() got not answer from any [Thunderbird_C5] datasource',\n",
       " ': data_thread() got not answer from any [Thunderbird_C1] datasource',\n",
       " ': data_thread() got not answer from any [Thunderbird_B6] datasource',\n",
       " ': data_thread() got not answer from any [Thunderbird_A5] datasource',\n",
       " ': data_thread() got not answer from any [Thunderbird_C2] datasource',\n",
       " ': data_thread() got not answer from any [Thunderbird_A1] datasource',\n",
       " ': data_thread() got not answer from any [Thunderbird_B5] datasource',\n",
       " ': data_thread() got not answer from any [Thunderbird_D4] datasource',\n",
       " ': data_thread() got not answer from any [Thunderbird_D6] datasource',\n",
       " ': data_thread() got not answer from any [Thunderbird_A2] datasource',\n",
       " ': data_thread() got not answer from any [Thunderbird_B1] datasource',\n",
       " ': data_thread() got not answer from any [Thunderbird_A3] datasource',\n",
       " ': data_thread() got not answer from any [Thunderbird_C6] datasource',\n",
       " ': data_thread() got not answer from any [Thunderbird_A4] datasource',\n",
       " ': data_thread() got not answer from any [Thunderbird_A8] datasource',\n",
       " ': data_thread() got not answer from any [Thunderbird_B7] datasource',\n",
       " ': data_thread() got not answer from any [Thunderbird_D8] datasource',\n",
       " ': RRD_update (/var/lib/ganglia/rrds/C Nodes/cn304/pkts_out.rrd): illegal attempt to update using time 1131563037 when last update time is 1131563037 (minimum one second step)',\n",
       " ': data_thread() got not answer from any [Thunderbird_A7] datasource',\n",
       " ': data_thread() got not answer from any [Thunderbird_B2] datasource',\n",
       " ': data_thread() got not answer from any [Thunderbird_D5] datasource',\n",
       " ': data_thread() got not answer from any [Thunderbird_D7] datasource',\n",
       " ': data_thread() got not answer from any [Thunderbird_B4] datasource',\n",
       " ': data_thread() got not answer from any [Thunderbird_B8] datasource',\n",
       " ': data_thread() got not answer from any [Thunderbird_B3] datasource',\n",
       " ': data_thread() got not answer from any [Thunderbird_C5] datasource',\n",
       " ': data_thread() got not answer from any [Thunderbird_C4] datasource',\n",
       " ': data_thread() got not answer from any [Thunderbird_C8] datasource',\n",
       " ': data_thread() got not answer from any [Thunderbird_A6] datasource',\n",
       " ': data_thread() got not answer from any [Thunderbird_B6] datasource',\n",
       " ': data_thread() got not answer from any [Thunderbird_A1] datasource',\n",
       " ': data_thread() got not answer from any [Thunderbird_C1] datasource',\n",
       " ': data_thread() got not answer from any [Thunderbird_C2] datasource',\n",
       " ': data_thread() got not answer from any [Thunderbird_A2] datasource',\n",
       " ': data_thread() got not answer from any [Thunderbird_A5] datasource',\n",
       " ': data_thread() got not answer from any [Thunderbird_D4] datasource',\n",
       " ': data_thread() got not answer from any [Thunderbird_B1] datasource',\n",
       " ': data_thread() got not answer from any [Thunderbird_B5] datasource',\n",
       " ': data_thread() got not answer from any [Thunderbird_D6] datasource',\n",
       " ': data_thread() got not answer from any [Thunderbird_A3] datasource',\n",
       " ': data_thread() got not answer from any [Thunderbird_D8] datasource',\n",
       " ': data_thread() got not answer from any [Thunderbird_A7] datasource',\n",
       " ': data_thread() got not answer from any [Thunderbird_A8] datasource',\n",
       " ': data_thread() got not answer from any [Thunderbird_B2] datasource',\n",
       " ': data_thread() got not answer from any [Thunderbird_B7] datasource',\n",
       " ': data_thread() got not answer from any [Thunderbird_D7] datasource',\n",
       " ': data_thread() got not answer from any [Thunderbird_C6] datasource',\n",
       " ': data_thread() got not answer from any [Thunderbird_B8] datasource',\n",
       " ': data_thread() got not answer from any [Thunderbird_A4] datasource',\n",
       " ': data_thread() got not answer from any [Thunderbird_B3] datasource',\n",
       " ': data_thread() got not answer from any [Thunderbird_C4] datasource',\n",
       " ': data_thread() got not answer from any [Thunderbird_D5] datasource',\n",
       " ': data_thread() got not answer from any [Thunderbird_B4] datasource',\n",
       " ': data_thread() got not answer from any [Thunderbird_C5] datasource',\n",
       " ': data_thread() got not answer from any [Thunderbird_C8] datasource',\n",
       " ': data_thread() got not answer from any [Thunderbird_B6] datasource',\n",
       " ': data_thread() got not answer from any [Thunderbird_A6] datasource',\n",
       " ': data_thread() got not answer from any [Thunderbird_A1] datasource',\n",
       " ': data_thread() got not answer from any [Thunderbird_C1] datasource',\n",
       " ': data_thread() got not answer from any [Thunderbird_C2] datasource',\n",
       " ': data_thread() got not answer from any [Thunderbird_A3] datasource',\n",
       " ': data_thread() got not answer from any [Thunderbird_A2] datasource',\n",
       " ': data_thread() got not answer from any [Thunderbird_A5] datasource',\n",
       " ': data_thread() got not answer from any [Thunderbird_D8] datasource',\n",
       " ': RRD_update (/var/lib/ganglia/rrds/D Nodes/dn731/pkts_out.rrd): illegal attempt to update using time 1131563089 when last update time is 1131563089 (minimum one second step)',\n",
       " ': data_thread() got not answer from any [Thunderbird_B5] datasource',\n",
       " ': data_thread() got not answer from any [Thunderbird_D6] datasource',\n",
       " ': data_thread() got not answer from any [Thunderbird_D4] datasource',\n",
       " ': data_thread() got not answer from any [Thunderbird_B1] datasource',\n",
       " ': data_thread() got not answer from any [Thunderbird_D7] datasource',\n",
       " ': data_thread() got not answer from any [Thunderbird_A7] datasource',\n",
       " ': data_thread() got not answer from any [Thunderbird_C6] datasource',\n",
       " ': data_thread() got not answer from any [Thunderbird_A4] datasource',\n",
       " ': data_thread() got not answer from any [Thunderbird_A8] datasource',\n",
       " ': data_thread() got not answer from any [Thunderbird_B2] datasource',\n",
       " ': data_thread() got not answer from any [Thunderbird_B7] datasource',\n",
       " ': data_thread() got not answer from any [Thunderbird_B8] datasource',\n",
       " ': data_thread() got not answer from any [Thunderbird_C5] datasource',\n",
       " ': data_thread() got not answer from any [Thunderbird_B4] datasource',\n",
       " ': data_thread() got not answer from any [Thunderbird_B3] datasource',\n",
       " ': data_thread() got not answer from any [Thunderbird_A6] datasource',\n",
       " ': data_thread() got not answer from any [Thunderbird_C4] datasource',\n",
       " ': data_thread() got not answer from any [Thunderbird_D5] datasource',\n",
       " ': data_thread() got not answer from any [Thunderbird_B6] datasource',\n",
       " ': data_thread() got not answer from any [Thunderbird_C1] datasource',\n",
       " ': data_thread() got not answer from any [Thunderbird_C8] datasource',\n",
       " ': data_thread() got not answer from any [Thunderbird_A1] datasource',\n",
       " ': data_thread() got not answer from any [Thunderbird_A3] datasource',\n",
       " ': data_thread() got not answer from any [Thunderbird_A5] datasource',\n",
       " ': data_thread() got not answer from any [Thunderbird_C2] datasource',\n",
       " ': data_thread() got not answer from any [Thunderbird_A2] datasource',\n",
       " ': data_thread() got not answer from any [Thunderbird_D8] datasource',\n",
       " ': RRD_update (/var/lib/ganglia/rrds/D Nodes/dn731/pkts_out.rrd): illegal attempt to update using time 1131563117 when last update time is 1131563117 (minimum one second step)',\n",
       " ': data_thread() got not answer from any [Thunderbird_D7] datasource',\n",
       " ': data_thread() got not answer from any [Thunderbird_D6] datasource',\n",
       " ': data_thread() got not answer from any [Thunderbird_A4] datasource',\n",
       " ': data_thread() got not answer from any [Thunderbird_B1] datasource',\n",
       " ': data_thread() got not answer from any [Thunderbird_B5] datasource',\n",
       " ': data_thread() got not answer from any [Thunderbird_D4] datasource',\n",
       " ': data_thread() got not answer from any [Thunderbird_A7] datasource',\n",
       " ': data_thread() got not answer from any [Thunderbird_C5] datasource',\n",
       " ': data_thread() got not answer from any [Thunderbird_B8] datasource',\n",
       " ': data_thread() got not answer from any [Thunderbird_C6] datasource',\n",
       " ': data_thread() got not answer from any [Thunderbird_A8] datasource',\n",
       " ': data_thread() got not answer from any [Thunderbird_B2] datasource',\n",
       " ': data_thread() got not answer from any [Thunderbird_B3] datasource',\n",
       " ': data_thread() got not answer from any [Thunderbird_B4] datasource',\n",
       " ': data_thread() got not answer from any [Thunderbird_B7] datasource',\n",
       " ': data_thread() got not answer from any [Thunderbird_B6] datasource',\n",
       " ': data_thread() got not answer from any [Thunderbird_D5] datasource',\n",
       " ': data_thread() got not answer from any [Thunderbird_A6] datasource',\n",
       " ': data_thread() got not answer from any [Thunderbird_A5] datasource',\n",
       " ': data_thread() got not answer from any [Thunderbird_A2] datasource',\n",
       " ': data_thread() got not answer from any [Thunderbird_C1] datasource',\n",
       " ': data_thread() got not answer from any [Thunderbird_C4] datasource',\n",
       " ': data_thread() got not answer from any [Thunderbird_A1] datasource',\n",
       " ': data_thread() got not answer from any [Thunderbird_A3] datasource',\n",
       " ': data_thread() got not answer from any [Thunderbird_C8] datasource',\n",
       " ': data_thread() got not answer from any [Thunderbird_C2] datasource',\n",
       " ': data_thread() got not answer from any [Thunderbird_D8] datasource',\n",
       " ': RRD_update (/var/lib/ganglia/rrds/D Nodes/dn731/pkts_out.rrd): illegal attempt to update using time 1131563149 when last update time is 1131563149 (minimum one second step)',\n",
       " ': data_thread() got not answer from any [Thunderbird_D6] datasource',\n",
       " ': data_thread() got not answer from any [Thunderbird_A7] datasource',\n",
       " ': data_thread() got not answer from any [Thunderbird_D4] datasource',\n",
       " ': data_thread() got not answer from any [Thunderbird_B1] datasource',\n",
       " ': data_thread() got not answer from any [Thunderbird_B5] datasource',\n",
       " ': data_thread() got not answer from any [Thunderbird_D7] datasource',\n",
       " ': data_thread() got not answer from any [Thunderbird_A4] datasource',\n",
       " ': data_thread() got not answer from any [Thunderbird_C5] datasource',\n",
       " ': data_thread() got not answer from any [Thunderbird_C6] datasource',\n",
       " ': data_thread() got not answer from any [Thunderbird_B8] datasource',\n",
       " ': data_thread() got not answer from any [Thunderbird_A8] datasource',\n",
       " ': data_thread() got not answer from any [Thunderbird_B2] datasource',\n",
       " ': data_thread() got not answer from any [Thunderbird_B7] datasource',\n",
       " ': data_thread() got not answer from any [Thunderbird_B3] datasource',\n",
       " ': data_thread() got not answer from any [Thunderbird_D5] datasource',\n",
       " ': data_thread() got not answer from any [Thunderbird_A2] datasource',\n",
       " ': data_thread() got not answer from any [Thunderbird_B4] datasource',\n",
       " ': data_thread() got not answer from any [Thunderbird_A6] datasource',\n",
       " ': data_thread() got not answer from any [Thunderbird_C4] datasource',\n",
       " ': data_thread() got not answer from any [Thunderbird_A1] datasource',\n",
       " ': data_thread() got not answer from any [Thunderbird_B6] datasource',\n",
       " ': data_thread() got not answer from any [Thunderbird_C8] datasource',\n",
       " ': data_thread() got not answer from any [Thunderbird_A5] datasource',\n",
       " ': data_thread() got not answer from any [Thunderbird_C1] datasource',\n",
       " ': data_thread() got not answer from any [Thunderbird_C2] datasource',\n",
       " ': data_thread() got not answer from any [Thunderbird_A3] datasource',\n",
       " ': data_thread() got not answer from any [Thunderbird_B1] datasource',\n",
       " ': data_thread() got not answer from any [Thunderbird_D4] datasource',\n",
       " ': data_thread() got not answer from any [Thunderbird_B5] datasource',\n",
       " ': data_thread() got not answer from any [Thunderbird_D6] datasource',\n",
       " ': data_thread() got not answer from any [Thunderbird_A7] datasource',\n",
       " ': data_thread() got not answer from any [Thunderbird_D8] datasource',\n",
       " ': data_thread() got not answer from any [Thunderbird_A4] datasource',\n",
       " ': data_thread() got not answer from any [Thunderbird_B2] datasource',\n",
       " ': data_thread() got not answer from any [Thunderbird_C5] datasource',\n",
       " ': data_thread() got not answer from any [Thunderbird_B8] datasource',\n",
       " ': data_thread() got not answer from any [Thunderbird_C6] datasource',\n",
       " ': data_thread() got not answer from any [Thunderbird_D7] datasource',\n",
       " ': data_thread() got not answer from any [Thunderbird_B7] datasource',\n",
       " ': data_thread() got not answer from any [Thunderbird_A8] datasource',\n",
       " ': data_thread() got not answer from any [Thunderbird_B4] datasource',\n",
       " ': data_thread() got not answer from any [Thunderbird_C8] datasource',\n",
       " ': data_thread() got not answer from any [Thunderbird_A2] datasource',\n",
       " ': data_thread() got not answer from any [Thunderbird_A6] datasource',\n",
       " ': data_thread() got not answer from any [Thunderbird_C4] datasource',\n",
       " ': data_thread() got not answer from any [Thunderbird_B3] datasource',\n",
       " ': data_thread() got not answer from any [Thunderbird_D5] datasource',\n",
       " ': data_thread() got not answer from any [Thunderbird_A1] datasource',\n",
       " ': data_thread() got not answer from any [Thunderbird_A3] datasource',\n",
       " ': data_thread() got not answer from any [Thunderbird_B6] datasource',\n",
       " ': data_thread() got not answer from any [Thunderbird_C2] datasource',\n",
       " ': data_thread() got not answer from any [Thunderbird_A5] datasource',\n",
       " ': data_thread() got not answer from any [Thunderbird_C1] datasource',\n",
       " ': data_thread() got not answer from any [Thunderbird_B1] datasource',\n",
       " ': data_thread() got not answer from any [Thunderbird_D6] datasource',\n",
       " ': data_thread() got not answer from any [Thunderbird_D8] datasource',\n",
       " ': data_thread() got not answer from any [Thunderbird_B2] datasource',\n",
       " ': data_thread() got not answer from any [Thunderbird_D4] datasource',\n",
       " ': data_thread() got not answer from any [Thunderbird_A7] datasource',\n",
       " ': data_thread() got not answer from any [Thunderbird_D7] datasource',\n",
       " ': data_thread() got not answer from any [Thunderbird_B5] datasource',\n",
       " ': data_thread() got not answer from any [Thunderbird_C5] datasource',\n",
       " ': data_thread() got not answer from any [Thunderbird_C6] datasource',\n",
       " ': data_thread() got not answer from any [Thunderbird_A4] datasource',\n",
       " ': data_thread() got not answer from any [Thunderbird_B8] datasource',\n",
       " ': data_thread() got not answer from any [Thunderbird_A8] datasource',\n",
       " ': data_thread() got not answer from any [Thunderbird_B4] datasource',\n",
       " ': data_thread() got not answer from any [Thunderbird_B7] datasource',\n",
       " ': data_thread() got not answer from any [Thunderbird_B3] datasource',\n",
       " ': data_thread() got not answer from any [Thunderbird_D5] datasource',\n",
       " ': data_thread() got not answer from any [Thunderbird_A1] datasource',\n",
       " ': data_thread() got not answer from any [Thunderbird_A2] datasource',\n",
       " ': data_thread() got not answer from any [Thunderbird_C4] datasource',\n",
       " ': data_thread() got not answer from any [Thunderbird_A3] datasource',\n",
       " ': data_thread() got not answer from any [Thunderbird_A6] datasource',\n",
       " ': data_thread() got not answer from any [Thunderbird_C8] datasource',\n",
       " ': data_thread() got not answer from any [Thunderbird_B6] datasource',\n",
       " ': data_thread() got not answer from any [Thunderbird_A5] datasource',\n",
       " ': data_thread() got not answer from any [Thunderbird_C2] datasource',\n",
       " ': data_thread() got not answer from any [Thunderbird_C1] datasource',\n",
       " ': data_thread() got not answer from any [Thunderbird_D8] datasource',\n",
       " ': data_thread() got not answer from any [Thunderbird_B1] datasource',\n",
       " ': data_thread() got not answer from any [Thunderbird_B2] datasource',\n",
       " ': data_thread() got not answer from any [Thunderbird_D6] datasource',\n",
       " ': data_thread() got not answer from any [Thunderbird_D4] datasource',\n",
       " ': data_thread() got not answer from any [Thunderbird_B5] datasource',\n",
       " ': data_thread() got not answer from any [Thunderbird_C6] datasource',\n",
       " ': data_thread() got not answer from any [Thunderbird_A7] datasource',\n",
       " ': data_thread() got not answer from any [Thunderbird_D7] datasource',\n",
       " ': data_thread() got not answer from any [Thunderbird_A4] datasource',\n",
       " ': data_thread() got not answer from any [Thunderbird_B8] datasource',\n",
       " ': data_thread() got not answer from any [Thunderbird_C5] datasource',\n",
       " ': data_thread() got not answer from any [Thunderbird_A8] datasource',\n",
       " ': data_thread() got not answer from any [Thunderbird_A2] datasource',\n",
       " ': data_thread() got not answer from any [Thunderbird_B4] datasource',\n",
       " ': data_thread() got not answer from any [Thunderbird_A1] datasource',\n",
       " ': data_thread() got not answer from any [Thunderbird_C4] datasource',\n",
       " ': data_thread() got not answer from any [Thunderbird_B7] datasource',\n",
       " ': data_thread() got not answer from any [Thunderbird_D5] datasource',\n",
       " ': data_thread() got not answer from any [Thunderbird_A5] datasource',\n",
       " ': data_thread() got not answer from any [Thunderbird_B3] datasource',\n",
       " ': data_thread() got not answer from any [Thunderbird_A3] datasource',\n",
       " ': data_thread() got not answer from any [Thunderbird_B6] datasource',\n",
       " ': data_thread() got not answer from any [Thunderbird_A6] datasource',\n",
       " ': data_thread() got not answer from any [Thunderbird_D8] datasource',\n",
       " ': data_thread() got not answer from any [Thunderbird_C8] datasource',\n",
       " ': data_thread() got not answer from any [Thunderbird_C2] datasource',\n",
       " ': data_thread() got not answer from any [Thunderbird_C1] datasource',\n",
       " ': data_thread() got not answer from any [Thunderbird_B1] datasource',\n",
       " ': data_thread() got not answer from any [Thunderbird_B2] datasource',\n",
       " ': data_thread() got not answer from any [Thunderbird_D6] datasource',\n",
       " ': data_thread() got not answer from any [Thunderbird_B5] datasource',\n",
       " ': data_thread() got not answer from any [Thunderbird_A7] datasource',\n",
       " ': data_thread() got not answer from any [Thunderbird_C6] datasource',\n",
       " ': data_thread() got not answer from any [Thunderbird_D4] datasource',\n",
       " ': data_thread() got not answer from any [Thunderbird_C5] datasource',\n",
       " ': data_thread() got not answer from any [Thunderbird_C4] datasource',\n",
       " ': data_thread() got not answer from any [Thunderbird_D7] datasource',\n",
       " ': data_thread() got not answer from any [Thunderbird_A2] datasource',\n",
       " ': data_thread() got not answer from any [Thunderbird_A4] datasource',\n",
       " ': data_thread() got not answer from any [Thunderbird_B8] datasource',\n",
       " ': data_thread() got not answer from any [Thunderbird_A8] datasource',\n",
       " ': data_thread() got not answer from any [Thunderbird_D5] datasource',\n",
       " ': data_thread() got not answer from any [Thunderbird_A3] datasource',\n",
       " ': data_thread() got not answer from any [Thunderbird_B7] datasource',\n",
       " ': data_thread() got not answer from any [Thunderbird_B4] datasource',\n",
       " ': data_thread() got not answer from any [Thunderbird_D8] datasource',\n",
       " ': data_thread() got not answer from any [Thunderbird_A1] datasource',\n",
       " ': data_thread() got not answer from any [Thunderbird_B3] datasource',\n",
       " ': data_thread() got not answer from any [Thunderbird_A5] datasource',\n",
       " ': data_thread() got not answer from any [Thunderbird_B6] datasource',\n",
       " ': data_thread() got not answer from any [Thunderbird_A6] datasource',\n",
       " ': data_thread() got not answer from any [Thunderbird_C1] datasource',\n",
       " ': data_thread() got not answer from any [Thunderbird_B1] datasource',\n",
       " ': data_thread() got not answer from any [Thunderbird_B2] datasource',\n",
       " ': data_thread() got not answer from any [Thunderbird_C2] datasource',\n",
       " ': data_thread() got not answer from any [Thunderbird_C8] datasource',\n",
       " ': data_thread() got not answer from any [Thunderbird_B5] datasource',\n",
       " ': data_thread() got not answer from any [Thunderbird_D6] datasource',\n",
       " ': data_thread() got not answer from any [Thunderbird_A7] datasource',\n",
       " ': data_thread() got not answer from any [Thunderbird_D4] datasource',\n",
       " ': data_thread() got not answer from any [Thunderbird_C6] datasource',\n",
       " ': data_thread() got not answer from any [Thunderbird_A2] datasource',\n",
       " ': data_thread() got not answer from any [Thunderbird_A4] datasource',\n",
       " ': data_thread() got not answer from any [Thunderbird_D5] datasource',\n",
       " ': data_thread() got not answer from any [Thunderbird_C4] datasource',\n",
       " ': data_thread() got not answer from any [Thunderbird_C5] datasource',\n",
       " ': data_thread() got not answer from any [Thunderbird_D7] datasource',\n",
       " ': data_thread() got not answer from any [Thunderbird_A3] datasource',\n",
       " ': data_thread() got not answer from any [Thunderbird_A8] datasource',\n",
       " ': data_thread() got not answer from any [Thunderbird_B8] datasource',\n",
       " ': data_thread() got not answer from any [Thunderbird_D8] datasource',\n",
       " ': data_thread() got not answer from any [Thunderbird_A1] datasource',\n",
       " ': data_thread() got not answer from any [Thunderbird_B4] datasource',\n",
       " ': data_thread() got not answer from any [Thunderbird_B6] datasource',\n",
       " ': data_thread() got not answer from any [Thunderbird_A5] datasource',\n",
       " ': data_thread() got not answer from any [Thunderbird_B7] datasource',\n",
       " ': RRD_update (/var/lib/ganglia/rrds/D Nodes/dn731/pkts_out.rrd): illegal attempt to update using time 1131563319 when last update time is 1131563319 (minimum one second step)',\n",
       " ': data_thread() got not answer from any [Thunderbird_B3] datasource',\n",
       " ': data_thread() got not answer from any [Thunderbird_A6] datasource',\n",
       " ': data_thread() got not answer from any [Thunderbird_C8] datasource',\n",
       " ': data_thread() got not answer from any [Thunderbird_C1] datasource',\n",
       " ': data_thread() got not answer from any [Thunderbird_B5] datasource',\n",
       " ': data_thread() got not answer from any [Thunderbird_C2] datasource',\n",
       " ': data_thread() got not answer from any [Thunderbird_A7] datasource',\n",
       " ': data_thread() got not answer from any [Thunderbird_D6] datasource',\n",
       " ': data_thread() got not answer from any [Thunderbird_D4] datasource',\n",
       " ': data_thread() got not answer from any [Thunderbird_B1] datasource',\n",
       " ': data_thread() got not answer from any [Thunderbird_B2] datasource',\n",
       " ': data_thread() got not answer from any [Thunderbird_A2] datasource',\n",
       " ': data_thread() got not answer from any [Thunderbird_C4] datasource',\n",
       " ': data_thread() got not answer from any [Thunderbird_A4] datasource',\n",
       " ': data_thread() got not answer from any [Thunderbird_D7] datasource',\n",
       " ': data_thread() got not answer from any [Thunderbird_C6] datasource',\n",
       " ': data_thread() got not answer from any [Thunderbird_A3] datasource',\n",
       " ': data_thread() got not answer from any [Thunderbird_B8] datasource',\n",
       " ': data_thread() got not answer from any [Thunderbird_A1] datasource',\n",
       " ': data_thread() got not answer from any [Thunderbird_C5] datasource',\n",
       " ': data_thread() got not answer from any [Thunderbird_B4] datasource',\n",
       " ': data_thread() got not answer from any [Thunderbird_D5] datasource',\n",
       " ': data_thread() got not answer from any [Thunderbird_D8] datasource',\n",
       " ': data_thread() got not answer from any [Thunderbird_A8] datasource',\n",
       " ': data_thread() got not answer from any [Thunderbird_B3] datasource',\n",
       " ': data_thread() got not answer from any [Thunderbird_B7] datasource',\n",
       " ': data_thread() got not answer from any [Thunderbird_A5] datasource',\n",
       " ': RRD_update (/var/lib/ganglia/rrds/D Nodes/dn731/pkts_out.rrd): illegal attempt to update using time 1131563349 when last update time is 1131563349 (minimum one second step)',\n",
       " ': data_thread() got not answer from any [Thunderbird_B6] datasource',\n",
       " ': data_thread() got not answer from any [Thunderbird_A6] datasource',\n",
       " ': data_thread() got not answer from any [Thunderbird_C8] datasource',\n",
       " ': data_thread() got not answer from any [Thunderbird_C1] datasource',\n",
       " ': data_thread() got not answer from any [Thunderbird_D6] datasource',\n",
       " ': data_thread() got not answer from any [Thunderbird_B2] datasource',\n",
       " ': data_thread() got not answer from any [Thunderbird_A7] datasource',\n",
       " ': data_thread() got not answer from any [Thunderbird_A2] datasource',\n",
       " ': data_thread() got not answer from any [Thunderbird_B5] datasource',\n",
       " ': data_thread() got not answer from any [Thunderbird_C2] datasource',\n",
       " ': data_thread() got not answer from any [Thunderbird_D4] datasource',\n",
       " ': data_thread() got not answer from any [Thunderbird_B1] datasource',\n",
       " ': data_thread() got not answer from any [Thunderbird_B4] datasource',\n",
       " ': data_thread() got not answer from any [Thunderbird_B8] datasource',\n",
       " ': data_thread() got not answer from any [Thunderbird_C4] datasource',\n",
       " ': data_thread() got not answer from any [Thunderbird_C5] datasource',\n",
       " ': data_thread() got not answer from any [Thunderbird_C6] datasource',\n",
       " ': data_thread() got not answer from any [Thunderbird_A4] datasource',\n",
       " ': data_thread() got not answer from any [Thunderbird_A8] datasource',\n",
       " ': data_thread() got not answer from any [Thunderbird_D7] datasource',\n",
       " ': data_thread() got not answer from any [Thunderbird_A1] datasource',\n",
       " ': data_thread() got not answer from any [Thunderbird_A3] datasource',\n",
       " ': data_thread() got not answer from any [Thunderbird_D8] datasource',\n",
       " ': data_thread() got not answer from any [Thunderbird_B3] datasource',\n",
       " ': data_thread() got not answer from any [Thunderbird_D5] datasource',\n",
       " ': data_thread() got not answer from any [Thunderbird_B6] datasource',\n",
       " ': data_thread() got not answer from any [Thunderbird_B7] datasource',\n",
       " ': data_thread() got not answer from any [Thunderbird_A5] datasource',\n",
       " ': data_thread() got not answer from any [Thunderbird_C8] datasource',\n",
       " ': data_thread() got not answer from any [Thunderbird_A6] datasource',\n",
       " ': data_thread() got not answer from any [Thunderbird_C1] datasource',\n",
       " ': data_thread() got not answer from any [Thunderbird_D6] datasource',\n",
       " ': data_thread() got not answer from any [Thunderbird_C2] datasource',\n",
       " ': data_thread() got not answer from any [Thunderbird_B2] datasource',\n",
       " ': data_thread() got not answer from any [Thunderbird_A2] datasource',\n",
       " ': data_thread() got not answer from any [Thunderbird_C5] datasource',\n",
       " ': data_thread() got not answer from any [Thunderbird_A7] datasource',\n",
       " ': data_thread() got not answer from any [Thunderbird_B4] datasource',\n",
       " ': data_thread() got not answer from any [Thunderbird_B5] datasource',\n",
       " ': data_thread() got not answer from any [Thunderbird_C4] datasource',\n",
       " ': data_thread() got not answer from any [Thunderbird_B1] datasource',\n",
       " ': data_thread() got not answer from any [Thunderbird_B8] datasource',\n",
       " ': data_thread() got not answer from any [Thunderbird_C6] datasource',\n",
       " ': data_thread() got not answer from any [Thunderbird_D4] datasource',\n",
       " ': data_thread() got not answer from any [Thunderbird_D7] datasource',\n",
       " ': data_thread() got not answer from any [Thunderbird_D5] datasource',\n",
       " ': data_thread() got not answer from any [Thunderbird_A1] datasource',\n",
       " ': data_thread() got not answer from any [Thunderbird_A8] datasource',\n",
       " ': data_thread() got not answer from any [Thunderbird_D8] datasource',\n",
       " ': data_thread() got not answer from any [Thunderbird_A4] datasource',\n",
       " ': data_thread() got not answer from any [Thunderbird_B3] datasource',\n",
       " ': data_thread() got not answer from any [Thunderbird_B6] datasource',\n",
       " ': data_thread() got not answer from any [Thunderbird_A3] datasource',\n",
       " ': data_thread() got not answer from any [Thunderbird_A5] datasource',\n",
       " ': data_thread() got not answer from any [Thunderbird_C8] datasource',\n",
       " ': data_thread() got not answer from any [Thunderbird_C1] datasource',\n",
       " ': data_thread() got not answer from any [Thunderbird_B7] datasource',\n",
       " ': RRD_update (/var/lib/ganglia/rrds/D Nodes/dn731/pkts_out.rrd): illegal attempt to update using time 1131563412 when last update time is 1131563412 (minimum one second step)',\n",
       " ': data_thread() got not answer from any [Thunderbird_A6] datasource',\n",
       " ': data_thread() got not answer from any [Thunderbird_D6] datasource',\n",
       " ': data_thread() got not answer from any [Thunderbird_A7] datasource',\n",
       " ': data_thread() got not answer from any [Thunderbird_B2] datasource',\n",
       " ': data_thread() got not answer from any [Thunderbird_B4] datasource',\n",
       " ': data_thread() got not answer from any [Thunderbird_C4] datasource',\n",
       " ': data_thread() got not answer from any [Thunderbird_C2] datasource',\n",
       " ': data_thread() got not answer from any [Thunderbird_D4] datasource',\n",
       " ': data_thread() got not answer from any [Thunderbird_A2] datasource',\n",
       " ': data_thread() got not answer from any [Thunderbird_D7] datasource',\n",
       " ': data_thread() got not answer from any [Thunderbird_C5] datasource',\n",
       " ': data_thread() got not answer from any [Thunderbird_B8] datasource',\n",
       " ': data_thread() got not answer from any [Thunderbird_D5] datasource',\n",
       " ': data_thread() got not answer from any [Thunderbird_B5] datasource',\n",
       " ': data_thread() got not answer from any [Thunderbird_C6] datasource',\n",
       " ': data_thread() got not answer from any [Thunderbird_B1] datasource',\n",
       " ': data_thread() got not answer from any [Thunderbird_D8] datasource',\n",
       " ': data_thread() got not answer from any [Thunderbird_A1] datasource',\n",
       " ': data_thread() got not answer from any [Thunderbird_A5] datasource',\n",
       " ': data_thread() got not answer from any [Thunderbird_B3] datasource',\n",
       " ': data_thread() got not answer from any [Thunderbird_A3] datasource',\n",
       " ': data_thread() got not answer from any [Thunderbird_A4] datasource',\n",
       " ': data_thread() got not answer from any [Thunderbird_A8] datasource',\n",
       " ': data_thread() got not answer from any [Thunderbird_B6] datasource',\n",
       " ': data_thread() got not answer from any [Thunderbird_C8] datasource',\n",
       " ': data_thread() got not answer from any [Thunderbird_A6] datasource',\n",
       " ': data_thread() got not answer from any [Thunderbird_C1] datasource',\n",
       " ': data_thread() got not answer from any [Thunderbird_B7] datasource',\n",
       " ': data_thread() got not answer from any [Thunderbird_D6] datasource',\n",
       " ': data_thread() got not answer from any [Thunderbird_A7] datasource',\n",
       " ': data_thread() got not answer from any [Thunderbird_B4] datasource',\n",
       " ': data_thread() got not answer from any [Thunderbird_C4] datasource',\n",
       " ': data_thread() got not answer from any [Thunderbird_D4] datasource',\n",
       " ': data_thread() got not answer from any [Thunderbird_B2] datasource',\n",
       " ': data_thread() got not answer from any [Thunderbird_A2] datasource',\n",
       " ': data_thread() got not answer from any [Thunderbird_B5] datasource',\n",
       " ': data_thread() got not answer from any [Thunderbird_C6] datasource',\n",
       " ': data_thread() got not answer from any [Thunderbird_C2] datasource',\n",
       " ': data_thread() got not answer from any [Thunderbird_D8] datasource',\n",
       " ': data_thread() got not answer from any [Thunderbird_C5] datasource',\n",
       " ': data_thread() got not answer from any [Thunderbird_B8] datasource',\n",
       " ': data_thread() got not answer from any [Thunderbird_B1] datasource',\n",
       " ': data_thread() got not answer from any [Thunderbird_D5] datasource',\n",
       " ': data_thread() got not answer from any [Thunderbird_D7] datasource',\n",
       " ': data_thread() got not answer from any [Thunderbird_A4] datasource',\n",
       " ': data_thread() got not answer from any [Thunderbird_A5] datasource',\n",
       " ': data_thread() got not answer from any [Thunderbird_B3] datasource',\n",
       " ': data_thread() got not answer from any [Thunderbird_A1] datasource',\n",
       " ': data_thread() got not answer from any [Thunderbird_B6] datasource',\n",
       " ': data_thread() got not answer from any [Thunderbird_A8] datasource',\n",
       " ': data_thread() got not answer from any [Thunderbird_A3] datasource',\n",
       " ': data_thread() got not answer from any [Thunderbird_C8] datasource',\n",
       " ': RRD_update (/var/lib/ganglia/rrds/D Nodes/dn731/pkts_out.rrd): illegal attempt to update using time 1131563473 when last update time is 1131563473 (minimum one second step)',\n",
       " ': data_thread() got not answer from any [Thunderbird_C1] datasource',\n",
       " ': data_thread() got not answer from any [Thunderbird_A6] datasource',\n",
       " ': data_thread() got not answer from any [Thunderbird_C4] datasource',\n",
       " ': data_thread() got not answer from any [Thunderbird_B4] datasource',\n",
       " ': data_thread() got not answer from any [Thunderbird_A7] datasource',\n",
       " ': data_thread() got not answer from any [Thunderbird_B7] datasource',\n",
       " ': data_thread() got not answer from any [Thunderbird_D6] datasource',\n",
       " ': data_thread() got not answer from any [Thunderbird_B2] datasource',\n",
       " ': data_thread() got not answer from any [Thunderbird_B5] datasource',\n",
       " ': data_thread() got not answer from any [Thunderbird_D4] datasource',\n",
       " ': data_thread() got not answer from any [Thunderbird_B8] datasource',\n",
       " ': data_thread() got not answer from any [Thunderbird_D7] datasource',\n",
       " ': data_thread() got not answer from any [Thunderbird_D8] datasource',\n",
       " ': data_thread() got not answer from any [Thunderbird_C6] datasource',\n",
       " ': data_thread() got not answer from any [Thunderbird_A2] datasource',\n",
       " ': data_thread() got not answer from any [Thunderbird_A4] datasource',\n",
       " ': data_thread() got not answer from any [Thunderbird_C5] datasource',\n",
       " ': data_thread() got not answer from any [Thunderbird_A5] datasource',\n",
       " ': data_thread() got not answer from any [Thunderbird_C2] datasource',\n",
       " ': data_thread() got not answer from any [Thunderbird_B1] datasource',\n",
       " ': data_thread() got not answer from any [Thunderbird_B3] datasource',\n",
       " ': data_thread() got not answer from any [Thunderbird_D5] datasource',\n",
       " ': data_thread() got not answer from any [Thunderbird_A1] datasource',\n",
       " ': data_thread() got not answer from any [Thunderbird_A8] datasource',\n",
       " ': data_thread() got not answer from any [Thunderbird_B6] datasource',\n",
       " ': data_thread() got not answer from any [Thunderbird_A3] datasource',\n",
       " ': data_thread() got not answer from any [Thunderbird_C8] datasource',\n",
       " ': data_thread() got not answer from any [Thunderbird_C1] datasource',\n",
       " ': data_thread() got not answer from any [Thunderbird_A6] datasource',\n",
       " ': data_thread() got not answer from any [Thunderbird_C4] datasource',\n",
       " ': data_thread() got not answer from any [Thunderbird_B5] datasource',\n",
       " ': data_thread() got not answer from any [Thunderbird_D6] datasource',\n",
       " ': data_thread() got not answer from any [Thunderbird_D8] datasource',\n",
       " ': data_thread() got not answer from any [Thunderbird_B2] datasource',\n",
       " ': data_thread() got not answer from any [Thunderbird_B4] datasource',\n",
       " ': data_thread() got not answer from any [Thunderbird_A4] datasource',\n",
       " ': data_thread() got not answer from any [Thunderbird_A7] datasource',\n",
       " ': data_thread() got not answer from any [Thunderbird_B7] datasource',\n",
       " ': data_thread() got not answer from any [Thunderbird_A5] datasource',\n",
       " ': data_thread() got not answer from any [Thunderbird_C6] datasource',\n",
       " ': data_thread() got not answer from any [Thunderbird_B8] datasource',\n",
       " ': data_thread() got not answer from any [Thunderbird_C2] datasource',\n",
       " ': data_thread() got not answer from any [Thunderbird_D4] datasource',\n",
       " ': data_thread() got not answer from any [Thunderbird_B3] datasource',\n",
       " ': data_thread() got not answer from any [Thunderbird_D7] datasource',\n",
       " ': data_thread() got not answer from any [Thunderbird_A2] datasource',\n",
       " ': data_thread() got not answer from any [Thunderbird_C5] datasource',\n",
       " ': data_thread() got not answer from any [Thunderbird_D5] datasource',\n",
       " ': data_thread() got not answer from any [Thunderbird_A8] datasource',\n",
       " ': data_thread() got not answer from any [Thunderbird_A1] datasource',\n",
       " ': data_thread() got not answer from any [Thunderbird_B1] datasource',\n",
       " ': data_thread() got not answer from any [Thunderbird_A3] datasource',\n",
       " ': data_thread() got not answer from any [Thunderbird_B6] datasource',\n",
       " ': data_thread() got not answer from any [Thunderbird_C8] datasource',\n",
       " ': data_thread() got not answer from any [Thunderbird_A6] datasource',\n",
       " ': data_thread() got not answer from any [Thunderbird_C1] datasource',\n",
       " ': data_thread() got not answer from any [Thunderbird_C4] datasource',\n",
       " ': data_thread() got not answer from any [Thunderbird_A4] datasource',\n",
       " ': data_thread() got not answer from any [Thunderbird_D8] datasource',\n",
       " ': data_thread() got not answer from any [Thunderbird_B4] datasource',\n",
       " ': data_thread() got not answer from any [Thunderbird_C2] datasource',\n",
       " ': data_thread() got not answer from any [Thunderbird_B5] datasource',\n",
       " ': data_thread() got not answer from any [Thunderbird_D6] datasource',\n",
       " ': data_thread() got not answer from any [Thunderbird_A7] datasource',\n",
       " ': data_thread() got not answer from any [Thunderbird_B8] datasource',\n",
       " ': data_thread() got not answer from any [Thunderbird_C6] datasource',\n",
       " ': data_thread() got not answer from any [Thunderbird_D4] datasource',\n",
       " ': data_thread() got not answer from any [Thunderbird_B2] datasource',\n",
       " ': data_thread() got not answer from any [Thunderbird_B7] datasource',\n",
       " ': data_thread() got not answer from any [Thunderbird_D5] datasource',\n",
       " ': data_thread() got not answer from any [Thunderbird_A5] datasource',\n",
       " ': data_thread() got not answer from any [Thunderbird_A2] datasource',\n",
       " ': data_thread() got not answer from any [Thunderbird_B3] datasource',\n",
       " ': data_thread() got not answer from any [Thunderbird_C5] datasource',\n",
       " ': data_thread() got not answer from any [Thunderbird_A3] datasource',\n",
       " ': data_thread() got not answer from any [Thunderbird_D7] datasource',\n",
       " ': data_thread() got not answer from any [Thunderbird_A1] datasource',\n",
       " ': data_thread() got not answer from any [Thunderbird_A8] datasource',\n",
       " ': data_thread() got not answer from any [Thunderbird_B1] datasource',\n",
       " ': data_thread() got not answer from any [Thunderbird_B6] datasource',\n",
       " ': data_thread() got not answer from any [Thunderbird_C8] datasource',\n",
       " ': data_thread() got not answer from any [Thunderbird_A6] datasource',\n",
       " ': data_thread() got not answer from any [Thunderbird_B4] datasource',\n",
       " ': data_thread() got not answer from any [Thunderbird_C1] datasource',\n",
       " ': data_thread() got not answer from any [Thunderbird_B8] datasource',\n",
       " ': data_thread() got not answer from any [Thunderbird_C2] datasource',\n",
       " ': data_thread() got not answer from any [Thunderbird_C4] datasource',\n",
       " ': data_thread() got not answer from any [Thunderbird_A4] datasource',\n",
       " ': data_thread() got not answer from any [Thunderbird_D8] datasource',\n",
       " ': data_thread() got not answer from any [Thunderbird_B7] datasource',\n",
       " ': data_thread() got not answer from any [Thunderbird_D4] datasource',\n",
       " ': data_thread() got not answer from any [Thunderbird_B5] datasource',\n",
       " ': data_thread() got not answer from any [Thunderbird_A7] datasource',\n",
       " ': data_thread() got not answer from any [Thunderbird_C5] datasource',\n",
       " ': data_thread() got not answer from any [Thunderbird_D6] datasource',\n",
       " ': data_thread() got not answer from any [Thunderbird_C6] datasource',\n",
       " ': data_thread() got not answer from any [Thunderbird_D5] datasource',\n",
       " ': data_thread() got not answer from any [Thunderbird_A3] datasource',\n",
       " ': data_thread() got not answer from any [Thunderbird_A5] datasource',\n",
       " ': data_thread() got not answer from any [Thunderbird_B2] datasource',\n",
       " ': data_thread() got not answer from any [Thunderbird_A1] datasource',\n",
       " ': data_thread() got not answer from any [Thunderbird_B3] datasource',\n",
       " ': data_thread() got not answer from any [Thunderbird_A2] datasource',\n",
       " ': data_thread() got not answer from any [Thunderbird_B1] datasource',\n",
       " ': data_thread() got not answer from any [Thunderbird_C8] datasource',\n",
       " ': data_thread() got not answer from any [Thunderbird_D7] datasource',\n",
       " ': data_thread() got not answer from any [Thunderbird_A8] datasource',\n",
       " ': data_thread() got not answer from any [Thunderbird_B6] datasource',\n",
       " ': data_thread() got not answer from any [Thunderbird_A6] datasource',\n",
       " ': data_thread() got not answer from any [Thunderbird_C1] datasource',\n",
       " ': data_thread() got not answer from any [Thunderbird_C4] datasource',\n",
       " ': data_thread() got not answer from any [Thunderbird_B8] datasource',\n",
       " ': data_thread() got not answer from any [Thunderbird_D4] datasource',\n",
       " ': data_thread() got not answer from any [Thunderbird_B7] datasource',\n",
       " ': data_thread() got not answer from any [Thunderbird_B4] datasource',\n",
       " ': data_thread() got not answer from any [Thunderbird_D6] datasource',\n",
       " ': data_thread() got not answer from any [Thunderbird_C2] datasource',\n",
       " ': data_thread() got not answer from any [Thunderbird_C5] datasource',\n",
       " ': data_thread() got not answer from any [Thunderbird_D8] datasource',\n",
       " ': data_thread() got not answer from any [Thunderbird_A4] datasource',\n",
       " ': data_thread() got not answer from any [Thunderbird_C6] datasource',\n",
       " ': data_thread() got not answer from any [Thunderbird_B5] datasource',\n",
       " ': data_thread() got not answer from any [Thunderbird_A7] datasource',\n",
       " ': data_thread() got not answer from any [Thunderbird_A5] datasource',\n",
       " ': data_thread() got not answer from any [Thunderbird_B1] datasource',\n",
       " ': data_thread() got not answer from any [Thunderbird_D5] datasource',\n",
       " ': data_thread() got not answer from any [Thunderbird_D7] datasource',\n",
       " ': data_thread() got not answer from any [Thunderbird_A3] datasource',\n",
       " ': data_thread() got not answer from any [Thunderbird_B2] datasource',\n",
       " ': data_thread() got not answer from any [Thunderbird_A1] datasource',\n",
       " ': data_thread() got not answer from any [Thunderbird_A8] datasource',\n",
       " ': data_thread() got not answer from any [Thunderbird_B3] datasource',\n",
       " ': data_thread() got not answer from any [Thunderbird_C8] datasource',\n",
       " ': data_thread() got not answer from any [Thunderbird_A2] datasource',\n",
       " ': data_thread() got not answer from any [Thunderbird_B6] datasource',\n",
       " ': data_thread() got not answer from any [Thunderbird_B8] datasource',\n",
       " ': data_thread() got not answer from any [Thunderbird_C1] datasource',\n",
       " ': data_thread() got not answer from any [Thunderbird_B7] datasource',\n",
       " ': data_thread() got not answer from any [Thunderbird_A6] datasource',\n",
       " ': data_thread() got not answer from any [Thunderbird_C4] datasource',\n",
       " ': data_thread() got not answer from any [Thunderbird_D6] datasource',\n",
       " ': data_thread() got not answer from any [Thunderbird_D8] datasource',\n",
       " ': data_thread() got not answer from any [Thunderbird_C6] datasource',\n",
       " ': data_thread() got not answer from any [Thunderbird_D4] datasource',\n",
       " ': data_thread() got not answer from any [Thunderbird_C5] datasource',\n",
       " ': data_thread() got not answer from any [Thunderbird_B4] datasource',\n",
       " ': data_thread() got not answer from any [Thunderbird_C2] datasource',\n",
       " ': data_thread() got not answer from any [Thunderbird_A4] datasource',\n",
       " ': data_thread() got not answer from any [Thunderbird_B5] datasource',\n",
       " ': data_thread() got not answer from any [Thunderbird_A3] datasource',\n",
       " ': data_thread() got not answer from any [Thunderbird_A5] datasource',\n",
       " ': data_thread() got not answer from any [Thunderbird_B1] datasource',\n",
       " ': data_thread() got not answer from any [Thunderbird_A2] datasource',\n",
       " ': data_thread() got not answer from any [Thunderbird_A7] datasource',\n",
       " ': data_thread() got not answer from any [Thunderbird_A1] datasource',\n",
       " ': data_thread() got not answer from any [Thunderbird_B6] datasource',\n",
       " ': data_thread() got not answer from any [Thunderbird_D7] datasource',\n",
       " ': data_thread() got not answer from any [Thunderbird_D5] datasource',\n",
       " ': data_thread() got not answer from any [Thunderbird_A8] datasource',\n",
       " ': data_thread() got not answer from any [Thunderbird_C8] datasource',\n",
       " ': data_thread() got not answer from any [Thunderbird_B2] datasource',\n",
       " ': data_thread() got not answer from any [Thunderbird_B3] datasource',\n",
       " ': data_thread() got not answer from any [Thunderbird_B8] datasource',\n",
       " ': data_thread() got not answer from any [Thunderbird_C1] datasource',\n",
       " ': data_thread() got not answer from any [Thunderbird_B7] datasource',\n",
       " ': data_thread() got not answer from any [Thunderbird_D8] datasource',\n",
       " ': data_thread() got not answer from any [Thunderbird_C6] datasource',\n",
       " ': data_thread() got not answer from any [Thunderbird_A6] datasource',\n",
       " ': data_thread() got not answer from any [Thunderbird_D4] datasource',\n",
       " ': data_thread() got not answer from any [Thunderbird_B4] datasource',\n",
       " ': data_thread() got not answer from any [Thunderbird_C4] datasource',\n",
       " ': data_thread() got not answer from any [Thunderbird_D6] datasource',\n",
       " ': data_thread() got not answer from any [Thunderbird_B5] datasource',\n",
       " ': data_thread() got not answer from any [Thunderbird_A4] datasource',\n",
       " ': data_thread() got not answer from any [Thunderbird_A5] datasource',\n",
       " ': data_thread() got not answer from any [Thunderbird_C5] datasource',\n",
       " ': data_thread() got not answer from any [Thunderbird_C2] datasource',\n",
       " ': data_thread() got not answer from any [Thunderbird_B1] datasource',\n",
       " ': data_thread() got not answer from any [Thunderbird_A2] datasource',\n",
       " ': data_thread() got not answer from any [Thunderbird_A3] datasource',\n",
       " ': data_thread() got not answer from any [Thunderbird_B6] datasource',\n",
       " ': data_thread() got not answer from any [Thunderbird_D7] datasource',\n",
       " ': data_thread() got not answer from any [Thunderbird_A1] datasource',\n",
       " ': data_thread() got not answer from any [Thunderbird_B2] datasource',\n",
       " ': data_thread() got not answer from any [Thunderbird_A7] datasource',\n",
       " ': data_thread() got not answer from any [Thunderbird_C1] datasource',\n",
       " ': data_thread() got not answer from any [Thunderbird_A8] datasource',\n",
       " ': data_thread() got not answer from any [Thunderbird_B8] datasource',\n",
       " ': data_thread() got not answer from any [Thunderbird_D5] datasource',\n",
       " ': data_thread() got not answer from any [Thunderbird_B3] datasource',\n",
       " ': data_thread() got not answer from any [Thunderbird_C8] datasource',\n",
       " ': data_thread() got not answer from any [Thunderbird_B7] datasource',\n",
       " ': data_thread() got not answer from any [Thunderbird_C6] datasource',\n",
       " ': data_thread() got not answer from any [Thunderbird_A6] datasource',\n",
       " ': data_thread() got not answer from any [Thunderbird_B4] datasource',\n",
       " ': data_thread() got not answer from any [Thunderbird_D8] datasource',\n",
       " ': data_thread() got not answer from any [Thunderbird_D4] datasource',\n",
       " ': data_thread() got not answer from any [Thunderbird_D6] datasource',\n",
       " ': data_thread() got not answer from any [Thunderbird_C2] datasource',\n",
       " ': data_thread() got not answer from any [Thunderbird_B5] datasource',\n",
       " ': data_thread() got not answer from any [Thunderbird_C4] datasource',\n",
       " ': data_thread() got not answer from any [Thunderbird_A3] datasource',\n",
       " ': data_thread() got not answer from any [Thunderbird_A5] datasource',\n",
       " ': data_thread() got not answer from any [Thunderbird_B1] datasource',\n",
       " ': data_thread() got not answer from any [Thunderbird_B6] datasource',\n",
       " ': data_thread() got not answer from any [Thunderbird_A4] datasource',\n",
       " ': data_thread() got not answer from any [Thunderbird_A2] datasource',\n",
       " ': data_thread() got not answer from any [Thunderbird_C5] datasource',\n",
       " ': data_thread() got not answer from any [Thunderbird_D7] datasource',\n",
       " ': data_thread() got not answer from any [Thunderbird_B8] datasource',\n",
       " ': data_thread() got not answer from any [Thunderbird_A8] datasource',\n",
       " ': data_thread() got not answer from any [Thunderbird_B2] datasource',\n",
       " ': data_thread() got not answer from any [Thunderbird_A7] datasource',\n",
       " ': data_thread() got not answer from any [Thunderbird_C1] datasource',\n",
       " ': data_thread() got not answer from any [Thunderbird_A1] datasource',\n",
       " ': data_thread() got not answer from any [Thunderbird_C8] datasource',\n",
       " ': data_thread() got not answer from any [Thunderbird_B7] datasource',\n",
       " ': data_thread() got not answer from any [Thunderbird_C6] datasource',\n",
       " ': data_thread() got not answer from any [Thunderbird_B3] datasource',\n",
       " ': data_thread() got not answer from any [Thunderbird_D5] datasource',\n",
       " ': data_thread() got not answer from any [Thunderbird_D8] datasource',\n",
       " ': data_thread() got not answer from any [Thunderbird_B4] datasource',\n",
       " ': data_thread() got not answer from any [Thunderbird_D4] datasource',\n",
       " ': data_thread() got not answer from any [Thunderbird_A6] datasource',\n",
       " ': data_thread() got not answer from any [Thunderbird_C2] datasource',\n",
       " ': data_thread() got not answer from any [Thunderbird_D6] datasource',\n",
       " ': data_thread() got not answer from any [Thunderbird_A5] datasource',\n",
       " ': data_thread() got not answer from any [Thunderbird_A4] datasource',\n",
       " ': data_thread() got not answer from any [Thunderbird_C4] datasource',\n",
       " ': data_thread() got not answer from any [Thunderbird_B1] datasource',\n",
       " ': data_thread() got not answer from any [Thunderbird_A3] datasource',\n",
       " ': data_thread() got not answer from any [Thunderbird_B5] datasource',\n",
       " ': data_thread() got not answer from any [Thunderbird_B2] datasource',\n",
       " ': data_thread() got not answer from any [Thunderbird_B6] datasource',\n",
       " ': data_thread() got not answer from any [Thunderbird_A8] datasource',\n",
       " ': data_thread() got not answer from any [Thunderbird_D7] datasource']"
      ]
     },
     "execution_count": 171,
     "metadata": {},
     "output_type": "execute_result"
    }
   ],
   "source": [
    "regex = r\"\\[1682\\](.*)\"\n",
    "\n",
    "msg_lst = []\n",
    "for line in log_file:\n",
    "    result = re.findall(regex,line)\n",
    "    if len(result) != 0:        \n",
    "            msg_lst.append((result[0]))\n",
    "\n",
    "msg_lst"
   ]
  },
  {
   "cell_type": "markdown",
   "metadata": {},
   "source": [
    "### Filter list for entries that do not match the typical pattern"
   ]
  },
  {
   "cell_type": "code",
   "execution_count": 173,
   "metadata": {},
   "outputs": [
    {
     "data": {
      "text/plain": [
       "[': RRD_update (/var/lib/ganglia/rrds/C Nodes/cn304/pkts_out.rrd): illegal attempt to update using time 1131563037 when last update time is 1131563037 (minimum one second step)',\n",
       " ': RRD_update (/var/lib/ganglia/rrds/D Nodes/dn731/pkts_out.rrd): illegal attempt to update using time 1131563089 when last update time is 1131563089 (minimum one second step)',\n",
       " ': RRD_update (/var/lib/ganglia/rrds/D Nodes/dn731/pkts_out.rrd): illegal attempt to update using time 1131563117 when last update time is 1131563117 (minimum one second step)',\n",
       " ': RRD_update (/var/lib/ganglia/rrds/D Nodes/dn731/pkts_out.rrd): illegal attempt to update using time 1131563149 when last update time is 1131563149 (minimum one second step)',\n",
       " ': RRD_update (/var/lib/ganglia/rrds/D Nodes/dn731/pkts_out.rrd): illegal attempt to update using time 1131563319 when last update time is 1131563319 (minimum one second step)',\n",
       " ': RRD_update (/var/lib/ganglia/rrds/D Nodes/dn731/pkts_out.rrd): illegal attempt to update using time 1131563349 when last update time is 1131563349 (minimum one second step)',\n",
       " ': RRD_update (/var/lib/ganglia/rrds/D Nodes/dn731/pkts_out.rrd): illegal attempt to update using time 1131563412 when last update time is 1131563412 (minimum one second step)',\n",
       " ': RRD_update (/var/lib/ganglia/rrds/D Nodes/dn731/pkts_out.rrd): illegal attempt to update using time 1131563473 when last update time is 1131563473 (minimum one second step)']"
      ]
     },
     "execution_count": 173,
     "metadata": {},
     "output_type": "execute_result"
    }
   ],
   "source": [
    "regex = r\"\\[Thunderbird\\w{3}\\]\"\n",
    "strange_msg_lst = []\n",
    "for msg in msg_lst:\n",
    "    result = re.findall(regex,msg)\n",
    "    if len(result) == 0:        \n",
    "            strange_msg_lst.append(msg)\n",
    "\n",
    "strange_msg_lst"
   ]
  }
 ],
 "metadata": {
  "kernelspec": {
   "display_name": "Python 3",
   "language": "python",
   "name": "python3"
  },
  "language_info": {
   "codemirror_mode": {
    "name": "ipython",
    "version": 3
   },
   "file_extension": ".py",
   "mimetype": "text/x-python",
   "name": "python",
   "nbconvert_exporter": "python",
   "pygments_lexer": "ipython3",
   "version": "3.11.3"
  },
  "orig_nbformat": 4
 },
 "nbformat": 4,
 "nbformat_minor": 2
}
